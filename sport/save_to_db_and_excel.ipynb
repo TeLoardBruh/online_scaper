{
 "cells": [
  {
   "cell_type": "code",
   "execution_count": 8,
   "metadata": {},
   "outputs": [],
   "source": [
    "import pandas as pd\n",
    "import os\n",
    "import glob    "
   ]
  },
  {
   "cell_type": "code",
   "execution_count": 46,
   "metadata": {},
   "outputs": [
    {
     "name": "stdout",
     "output_type": "stream",
     "text": [
      "['Brighton-and-Hove-Albion-Stats', 'Liverpool-Stats', 'West-Ham-United-Stats', 'Chelsea-Stats', 'Crystal-Palace-Stats', 'Nottingham-Forest-Stats', 'Wolverhampton-Wanderers-Stats', 'Tottenham-Hotspur-Stats', 'Manchester-City-Stats', 'Aston-Villa-Stats', 'Fulham-Stats', 'Leicester-City-Stats', 'Newcastle-United-Stats', 'Leeds-United-Stats', 'Southampton-Stats', 'Everton-Stats', 'Manchester-United-Stats', 'Bournemouth-Stats', 'Arsenal-Stats', 'Brentford-Stats']\n"
     ]
    }
   ],
   "source": [
    "path = \"./data/\"\n",
    "all_files = glob.glob(os.path.join(path, \"*.csv\"))\n",
    "\n",
    "writer = pd.ExcelWriter('./data/Premier_League_stats_2022_2023.xlsx', engine='xlsxwriter')\n",
    "df_from_each_file = (pd.read_csv(f) for f in all_files)\n",
    "\n",
    "\n",
    "fnames = []\n",
    "for fname in all_files:\n",
    "    pd.read_csv(fname)\n",
    "    fnames.append(os.path.basename(fname).split('.csv')[0])\n",
    "\n",
    "\n",
    "for idx, df in enumerate(df_from_each_file):\n",
    "    df.to_excel(writer, sheet_name=fnames[idx])\n",
    "\n",
    "writer.close()"
   ]
  },
  {
   "cell_type": "code",
   "execution_count": 85,
   "metadata": {},
   "outputs": [
    {
     "name": "stdout",
     "output_type": "stream",
     "text": [
      "Pinged your deployment. You successfully connected to MongoDB!\n"
     ]
    }
   ],
   "source": [
    "import pandas as pd\n",
    "from pymongo import MongoClient\n",
    "import json\n",
    "\n",
    "def mongoimport():\n",
    "    uri = \"mongodb://localhost:27017/Sport\"\n",
    "\n",
    "    client = MongoClient(uri)\n",
    "\n",
    "    try:\n",
    "        client.admin.command('ping')\n",
    "        print(\"Pinged your deployment. You successfully connected to MongoDB!\")\n",
    "    except Exception as e:\n",
    "        print(e)\n",
    "        \n",
    "    db = client['Premier_League_stats_2022_2023']\n",
    "    for fname in all_files:\n",
    "        df = pd.read_csv(fname)\n",
    "        name = os.path.basename(fname).split('.csv')[0]\n",
    "        data = df.to_dict(orient='records')\n",
    "        db_collection = db[name]\n",
    "        db_collection.insert_many(data)\n",
    "\n",
    "mongoimport()"
   ]
  },
  {
   "cell_type": "code",
   "execution_count": null,
   "metadata": {},
   "outputs": [],
   "source": []
  }
 ],
 "metadata": {
  "kernelspec": {
   "display_name": "pyenv",
   "language": "python",
   "name": "python3"
  },
  "language_info": {
   "codemirror_mode": {
    "name": "ipython",
    "version": 3
   },
   "file_extension": ".py",
   "mimetype": "text/x-python",
   "name": "python",
   "nbconvert_exporter": "python",
   "pygments_lexer": "ipython3",
   "version": "3.9.6"
  },
  "orig_nbformat": 4
 },
 "nbformat": 4,
 "nbformat_minor": 2
}
