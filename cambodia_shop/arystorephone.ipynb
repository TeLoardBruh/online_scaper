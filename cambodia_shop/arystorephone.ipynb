{
 "cells": [
  {
   "cell_type": "markdown",
   "id": "2226d187",
   "metadata": {},
   "source": [
    "## IMPORT"
   ]
  },
  {
   "cell_type": "code",
   "execution_count": 3,
   "id": "fa5e2b6a",
   "metadata": {
    "scrolled": true
   },
   "outputs": [],
   "source": [
    "import matplotlib.pyplot as plt\n",
    "import numpy as np\n",
    "import pandas as pd\n",
    "import re\n",
    "from bs4 import BeautifulSoup as bs\n",
    "import requests\n",
    "from selenium import webdriver\n",
    "from webdriver_manager.chrome import ChromeDriverManager\n",
    "import time\n",
    "from pprint import pprint\n",
    "import json "
   ]
  },
  {
   "cell_type": "markdown",
   "id": "321bfb73",
   "metadata": {},
   "source": [
    "## Start scraping process"
   ]
  },
  {
   "cell_type": "markdown",
   "id": "0565ea0c",
   "metadata": {},
   "source": [
    "### Getting all navigation of the website for access the elements"
   ]
  },
  {
   "cell_type": "code",
   "execution_count": 29,
   "id": "452aa4ae",
   "metadata": {},
   "outputs": [
    {
     "name": "stdout",
     "output_type": "stream",
     "text": [
      "['https://arystorephone.com/cate/apple', 'https://arystorephone.com/cate/samsung', 'https://arystorephone.com/cate/oppo', 'https://arystorephone.com/cate/realme', 'https://arystorephone.com/cate/vivo', 'https://arystorephone.com/cate/xiaomi', 'https://arystorephone.com/cate/oneplus', 'https://arystorephone.com/cate/tecno', 'https://arystorephone.com/cate/honor', 'https://arystorephone.com/cate/huawei', 'https://arystorephone.com/cate/redmagic', 'https://arystorephone.com/cate/asus', 'https://arystorephone.com/cate/nokia', 'https://arystorephone.com/cate/google', 'https://arystorephone.com/cate/nothing', 'https://arystorephone.com/cate/apple/ipad', 'https://arystorephone.com/cate/samsung/galaxy-tablet', 'https://arystorephone.com/cate/samsung/tablet-huawei', 'https://arystorephone.com/cate/xiaomi/xiaomi-tablet', 'https://arystorephone.com/cate/oppo/oppo-tablet', 'https://arystorephone.com/cate/nokia/nokia-tablet', 'https://arystorephone.com/cate/apple/apple-watch', 'https://arystorephone.com/cate/samsung/samsung-watch', 'https://arystorephone.com/cate/samsung/watch-huawei', 'https://arystorephone.com/cate/xiaomi/xiaomi-watch', 'https://arystorephone.com/cate/realme/realme-watch', 'https://arystorephone.com/cate/oppo/oppo-tablet', 'https://arystorephone.com/cate/laptop/apple-macbook', 'https://arystorephone.com/cate/laptop/huawei-laptop', 'https://arystorephone.com/cate/secondhand/secondhand-mobiles', 'https://arystorephone.com/cate/secondhand/secondhand-mobiles/iphone-secondhand-mobiles', 'https://arystorephone.com/cate/secondhand/secondhand-mobiles/samsung-secondhand-mobiles', 'https://arystorephone.com/cate/secondhand/secondhand-mobiles/other-secondhand-mobiles', 'https://arystorephone.com/cate/secondhand/secondhand-tablet', 'https://arystorephone.com/cate/secondhand/secondhand-watch', 'https://arystorephone.com/cate/accessories/case-screen', 'https://arystorephone.com/cate/accessories/ipad-tablet-case', 'https://arystorephone.com/cate/accessories/airpods-case', 'https://arystorephone.com/cate/accessories/watch-strap', 'https://arystorephone.com/cate/accessories/powerbank-battery', 'https://arystorephone.com/cate/accessories/adapter-charger-cable', 'https://arystorephone.com/cate/accessories/buds-earphone-headphone', 'https://arystorephone.com/cate/accessories/speakers', 'https://arystorephone.com/cate/accessories/wifi-router', 'https://arystorephone.com/cate/accessories/computer-accessory']\n"
     ]
    }
   ],
   "source": [
    "url = 'https://arystorephone.com/'\n",
    "headers = {'User-Agent': 'Mozilla/5.0 (Linux; Android 6.0; Nexus 5 Build/MRA58N) AppleWebKit/537.36 (KHTML, like Gecko) Chrome/105.0.0.0 Mobile Safari/537.36'}\n",
    "\n",
    "category_url = []\n",
    "\n",
    "response = requests.get(url, headers=headers)\n",
    "data = bs(response.content, 'html.parser')\n",
    "\n",
    "# query all headers\n",
    "get_all_header = data.find(class_='htmega-megamenu')\n",
    "\n",
    "get_sub_header = get_all_header.find_all(class_=\"elementor-icon-list-item\")\n",
    "\n",
    "\n",
    "for a_link in get_sub_header:\n",
    "    category_url.append(f'https://arystorephone.com{a_link.find(\"a\", href=True).get(\"href\")}')\n",
    "\n"
   ]
  },
  {
   "cell_type": "markdown",
   "id": "230294e9",
   "metadata": {},
   "source": [
    "## Start query page according to there category "
   ]
  },
  {
   "cell_type": "code",
   "execution_count": 31,
   "id": "14ff3c70",
   "metadata": {},
   "outputs": [
    {
     "name": "stderr",
     "output_type": "stream",
     "text": [
      "/tmp/ipykernel_244478/1194327415.py:1: DeprecationWarning: executable_path has been deprecated, please pass in a Service object\n",
      "  browser = webdriver.Chrome(ChromeDriverManager().install())\n"
     ]
    },
    {
     "data": {
      "text/plain": [
       "['https://arystorephone.com/cate/apple/page/2/',\n",
       " 'https://arystorephone.com/cate/apple/page/3/',\n",
       " 'https://arystorephone.com/cate/apple/page/4/',\n",
       " 'https://arystorephone.com/cate/apple/page/5/',\n",
       " 'https://arystorephone.com/cate/apple/page/6/',\n",
       " 'https://arystorephone.com/cate/apple/page/7/']"
      ]
     },
     "execution_count": 31,
     "metadata": {},
     "output_type": "execute_result"
    }
   ],
   "source": [
    "browser = webdriver.Chrome(ChromeDriverManager().install())\n",
    "browser.get(category_url[0])\n",
    "headers = {'User-Agent': 'Mozilla/5.0 (Linux; Android 6.0; Nexus 5 Build/MRA58N) AppleWebKit/537.36 (KHTML, like Gecko) Chrome/105.0.0.0 Mobile Safari/537.36'}\n",
    "product_product_categories_url = []\n",
    "response = requests.get(category_url[0], headers=headers)\n",
    "\n",
    "# adding beautiful soup\n",
    "soup = bs(response.content, 'html.parser')\n",
    "\n",
    "\n",
    "pagination_list = []\n",
    "time.sleep(5)\n",
    "html = browser.page_source\n",
    "pagination = soup.find_all(class_='woocommerce-pagination')\n",
    "for items in pagination:\n",
    "    for list_href in items.find_all('a'): \n",
    "        pagination_list.append(list_href.get('href'))\n",
    "pagination_list = list(dict.fromkeys(pagination_list))\n",
    "\n",
    "pagination_list"
   ]
  }
 ],
 "metadata": {
  "kernelspec": {
   "display_name": "Python 3 (ipykernel)",
   "language": "python",
   "name": "python3"
  },
  "language_info": {
   "codemirror_mode": {
    "name": "ipython",
    "version": 3
   },
   "file_extension": ".py",
   "mimetype": "text/x-python",
   "name": "python",
   "nbconvert_exporter": "python",
   "pygments_lexer": "ipython3",
   "version": "3.10.6"
  }
 },
 "nbformat": 4,
 "nbformat_minor": 5
}
