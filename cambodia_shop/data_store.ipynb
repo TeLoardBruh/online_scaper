{
 "cells": [
  {
   "cell_type": "code",
   "execution_count": 4,
   "id": "56895513",
   "metadata": {},
   "outputs": [],
   "source": [
    "import matplotlib.pyplot as plt\n",
    "import numpy as np\n",
    "import pandas as pd\n",
    "import re\n",
    "from bs4 import BeautifulSoup as bs\n",
    "import requests\n"
   ]
  },
  {
   "cell_type": "markdown",
   "id": "8bc5a93d",
   "metadata": {},
   "source": [
    "# Creating links to each category"
   ]
  },
  {
   "cell_type": "code",
   "execution_count": 89,
   "id": "b27748fd",
   "metadata": {},
   "outputs": [
    {
     "data": {
      "text/plain": [
       "['https://www.makrocambodiaclick.com/en/category/Bakery',\n",
       " 'https://www.makrocambodiaclick.com/en/category/Butchery',\n",
       " 'https://www.makrocambodiaclick.com/en/category/Chilled&DairyProducts',\n",
       " 'https://www.makrocambodiaclick.com/en/category/Fish&Seafood',\n",
       " 'https://www.makrocambodiaclick.com/en/category/FrozenFood',\n",
       " 'https://www.makrocambodiaclick.com/en/category/Fruits&Vegetables',\n",
       " 'https://www.makrocambodiaclick.com/en/category/Beverages',\n",
       " 'https://www.makrocambodiaclick.com/en/category/DryGroceries',\n",
       " 'https://www.makrocambodiaclick.com/en/category/PersonalCareProducts',\n",
       " 'https://www.makrocambodiaclick.com/en/category/Snacks',\n",
       " 'https://www.makrocambodiaclick.com/en/category/CleaningProducts',\n",
       " 'https://www.makrocambodiaclick.com/en/category/ElectricAppliances',\n",
       " 'https://www.makrocambodiaclick.com/en/category/Households',\n",
       " 'https://www.makrocambodiaclick.com/en/category/OfficeSuppliesandStationeries',\n",
       " 'https://www.makrocambodiaclick.com/en/category/PetsFood&PetsCare',\n",
       " 'https://www.makrocambodiaclick.com/en/category/Bakery',\n",
       " 'https://www.makrocambodiaclick.com/en/category/Butchery',\n",
       " 'https://www.makrocambodiaclick.com/en/category/Chilled&DairyProducts',\n",
       " 'https://www.makrocambodiaclick.com/en/category/Fish&Seafood',\n",
       " 'https://www.makrocambodiaclick.com/en/category/FrozenFood',\n",
       " 'https://www.makrocambodiaclick.com/en/category/Fruits&Vegetables',\n",
       " 'https://www.makrocambodiaclick.com/en/category/Beverages',\n",
       " 'https://www.makrocambodiaclick.com/en/category/DryGroceries',\n",
       " 'https://www.makrocambodiaclick.com/en/category/PersonalCareProducts',\n",
       " 'https://www.makrocambodiaclick.com/en/category/Snacks',\n",
       " 'https://www.makrocambodiaclick.com/en/category/CleaningProducts',\n",
       " 'https://www.makrocambodiaclick.com/en/category/ElectricAppliances',\n",
       " 'https://www.makrocambodiaclick.com/en/category/Households',\n",
       " 'https://www.makrocambodiaclick.com/en/category/OfficeSuppliesandStationeries',\n",
       " 'https://www.makrocambodiaclick.com/en/category/PetsFood&PetsCare']"
      ]
     },
     "execution_count": 89,
     "metadata": {},
     "output_type": "execute_result"
    }
   ],
   "source": [
    "webPath = 'https://www.makrocambodiaclick.com/en/'\n",
    "categoryPath = 'https://www.makrocambodiaclick.com/en/category/'\n",
    "\n",
    "r = requests.get(webPath)\n",
    "\n",
    "# adding beautiful soup\n",
    "soup = bs(r.content)\n",
    "\n",
    "contents = soup.prettify()\n",
    "\n",
    "info_box = soup.find_all(class_=\"PopularCategoriesCarousel__Text1line-sc-1hg143z-0 RbTcU\")\n",
    "\n",
    "# info_box\n",
    "\n",
    "catName = [categoryPath+x.get_text().replace(\" \", \"\") for x in info_box]\n",
    "\n",
    "catName"
   ]
  },
  {
   "cell_type": "markdown",
   "id": "a6baf0e8",
   "metadata": {},
   "source": [
    "# Creating function for crawling category page"
   ]
  },
  {
   "cell_type": "code",
   "execution_count": 1,
   "id": "885b8b68",
   "metadata": {},
   "outputs": [
    {
     "ename": "NameError",
     "evalue": "name 'requests' is not defined",
     "output_type": "error",
     "traceback": [
      "\u001b[0;31m---------------------------------------------------------------------------\u001b[0m",
      "\u001b[0;31mNameError\u001b[0m                                 Traceback (most recent call last)",
      "Input \u001b[0;32mIn [1]\u001b[0m, in \u001b[0;36m<cell line: 4>\u001b[0;34m()\u001b[0m\n\u001b[1;32m      1\u001b[0m webPath \u001b[38;5;241m=\u001b[39m \u001b[38;5;124m'\u001b[39m\u001b[38;5;124mhttps://www.makrocambodiaclick.com/en/category/Bakery\u001b[39m\u001b[38;5;124m'\u001b[39m\n\u001b[1;32m      2\u001b[0m categoryPath \u001b[38;5;241m=\u001b[39m \u001b[38;5;124m'\u001b[39m\u001b[38;5;124mhttps://www.makrocambodiaclick.com/en/category/\u001b[39m\u001b[38;5;124m'\u001b[39m\n\u001b[0;32m----> 4\u001b[0m r \u001b[38;5;241m=\u001b[39m \u001b[43mrequests\u001b[49m\u001b[38;5;241m.\u001b[39mget(webPath)\n\u001b[1;32m      6\u001b[0m \u001b[38;5;66;03m# adding beautiful soup\u001b[39;00m\n\u001b[1;32m      7\u001b[0m soup \u001b[38;5;241m=\u001b[39m bs(r\u001b[38;5;241m.\u001b[39mcontent)\n",
      "\u001b[0;31mNameError\u001b[0m: name 'requests' is not defined"
     ]
    }
   ],
   "source": [
    "webPath = 'https://www.makrocambodiaclick.com/en/category/Bakery'\n",
    "categoryPath = 'https://www.makrocambodiaclick.com/en/category/'\n",
    "\n",
    "r = requests.get(webPath)\n",
    "\n",
    "# adding beautiful soup\n",
    "soup = bs(r.content)\n",
    "\n",
    "contents = soup.prettify()\n",
    "product_info =  soup.find_all(class_=\"ProductCard__CardProduct-sc-1lb6pe3-0\")\n",
    "product_info"
   ]
  },
  {
   "cell_type": "markdown",
   "id": "5384fe5b",
   "metadata": {},
   "source": [
    "# Function taking value"
   ]
  },
  {
   "cell_type": "code",
   "execution_count": null,
   "id": "a43243ea",
   "metadata": {},
   "outputs": [],
   "source": [
    "def get_info_box(url):\n",
    "\n",
    "    r = requests.get(url)\n",
    "\n",
    "    # adding beautiful soup\n",
    "    soup = bs(r.content)\n",
    "    \n",
    "    info_box = soup.find(class_=\"infobox vevent\")\n",
    "    info_rows = info_box.find_all(\"tr\")\n",
    "    \n",
    "    clean_tags(soup)\n",
    "\n",
    "    movie_info = {}\n",
    "\n",
    "    for index, row in enumerate(info_rows):\n",
    "        if index == 0:\n",
    "            movie_info['title'] = row.find(\"th\").get_text(\" \", strip=True)\n",
    "        else:\n",
    "            header = row.find(\"th\")\n",
    "            if header:\n",
    "                content_key = row.find('th').get_text(\" \", strip=True)\n",
    "                content_value = get_content_value(row.find('td'))\n",
    "                movie_info[content_key] = content_value\n",
    "            \n",
    "    return movie_info"
   ]
  },
  {
   "cell_type": "code",
   "execution_count": null,
   "id": "251d423d",
   "metadata": {},
   "outputs": [],
   "source": []
  }
 ],
 "metadata": {
  "kernelspec": {
   "display_name": "Python 3 (ipykernel)",
   "language": "python",
   "name": "python3"
  },
  "language_info": {
   "codemirror_mode": {
    "name": "ipython",
    "version": 3
   },
   "file_extension": ".py",
   "mimetype": "text/x-python",
   "name": "python",
   "nbconvert_exporter": "python",
   "pygments_lexer": "ipython3",
   "version": "3.9.7"
  }
 },
 "nbformat": 4,
 "nbformat_minor": 5
}
