{
 "cells": [
  {
   "cell_type": "code",
   "execution_count": 1,
   "id": "f6f60a9a",
   "metadata": {},
   "outputs": [],
   "source": [
    "import requests\n",
    "from bs4 import BeautifulSoup as bs"
   ]
  },
  {
   "cell_type": "code",
   "execution_count": 2,
   "id": "d4d11302",
   "metadata": {},
   "outputs": [],
   "source": [
    "url = 'https://www.indeed.com/jobs?q=python+developer&l=Houston%2C+TX&vjk=47e290cb5f3754a3'\n",
    "test = requests.get(url).text"
   ]
  },
  {
   "cell_type": "code",
   "execution_count": 3,
   "id": "741aceda",
   "metadata": {},
   "outputs": [
    {
     "data": {
      "text/plain": [
       "'<!DOCTYPE html>\\n<html lang=\"en-US\">\\n   <head>\\n      <title>Access denied</title>\\n      <meta http-equiv=\"X-UA-Compatible\" content=\"IE=Edge\" />\\n      <meta name=\"robots\" content=\"noindex, nofollow\" />\\n      <meta name=\"viewport\" content=\"width=device-width,initial-scale=1\" />\\n      <link rel=\"stylesheet\" href=\"/cdn-cgi/styles/errors.css\" media=\"screen\" />\\n      <script>\\n(function(){if(document.addEventListener&&window.XMLHttpRequest&&JSON&&JSON.stringify){var e=function(a){var c=document.getElementById(\"error-feedback-survey\"),d=document.getElementById(\"error-feedback-success\"),b=new XMLHttpRequest;a={event:\"feedback clicked\",properties:{errorCode:1020,helpful:a,version:4}};b.open(\"POST\",\"https://sparrow.cloudflare.com/api/v1/event\");b.setRequestHeader(\"Content-Type\",\"application/json\");b.setRequestHeader(\"Sparrow-Source-Key\",\"c771f0e4b54944bebf4261d44bd79a1e\");\\nb.send(JSON.stringify(a));c.classList.add(\"feedback-hidden\");d.classList.remove(\"feedback-hidden\")};document.addEventListener(\"DOMContentLoaded\",function(){var a=document.getElementById(\"error-feedback\"),c=document.getElementById(\"feedback-button-yes\"),d=document.getElementById(\"feedback-button-no\");\"classList\"in a&&(a.classList.remove(\"feedback-hidden\"),c.addEventListener(\"click\",function(){e(!0)}),d.addEventListener(\"click\",function(){e(!1)}))})}})();\\n</script>\\n\\n      <script>\\n         (function(){if(document.addEventListener){var c=function(){var b=document.getElementById(\"copy-label\");document.getElementById(\"plain-ray-id\");if(navigator.clipboard)navigator.clipboard.writeText(\"74e8f7a7cfbea4a7\");else{var a=document.createElement(\"textarea\");a.value=\"74e8f7a7cfbea4a7\";a.style.top=\"0\";a.style.left=\"0\";a.style.position=\"fixed\";document.body.appendChild(a);a.focus();a.select();document.execCommand(\"copy\");document.body.removeChild(a)}b.innerText=\"Copied\"};document.addEventListener(\"DOMContentLoaded\",\\nfunction(){var b=document.getElementById(\"plain-ray-id\"),a=document.getElementById(\"click-to-copy-btn\");\"classList\"in b&&(b.classList.add(\"hidden\"),a.classList.remove(\"hidden\"),a.addEventListener(\"click\",c))})}})();\\n      </script>\\n      <script defer src=\"https://performance.radar.cloudflare.com/beacon.js\"></script>\\n   </head>\\n\\n   <body>\\n      <div class=\"main-wrapper\" role=\"main\">\\n         <div class=\"header section\">\\n            <h1>\\n               <span class=\"error-description\">Access denied</span>\\n               <span class=\"code-label\">Error code <span>1020</span></span>\\n            </h1>\\n            <div class=\"large-font\">\\n               <p>You cannot access www.indeed.com. Refresh the page or contact the site owner to request access.</p>\\n            </div>\\n         </div>\\n      </div>\\n\\n      <div>\\n         <div class=\"section know-more\">\\n            <h2 class=\"large-font\">Troubleshooting information</h2>\\n            <p>Copy and paste the Ray ID when you contact the site owner.</p>\\n            <p class=\"ray-id-wrapper\">\\n               Ray ID:\\n               <span class=\"plain-ray-id\" id=\"plain-ray-id\">\\n                  74e8f7a7cfbea4a7\\n               </span>\\n               <button class=\"click-to-copy-btn hidden\" id=\"click-to-copy-btn\" title=\"Click to copy Ray ID\" type=\"button\">\\n                  <span class=\"ray-id\">74e8f7a7cfbea4a7</span><span class=\"copy-label\" id=\"copy-label\">Copy</span>\\n               </button>\\n            </p>\\n            <p>\\n            For help visit <a rel=\"noopener noreferrer\" href=\"https://support.cloudflare.com/hc/articles/360029779472-Troubleshooting-Cloudflare-1XXX-errors?utm_source=1020_error#error1020\" target=\"_blank\">Troubleshooting guide</a>\\n            <img class=\"external-link\" title=\"Opens in new tab\" src=\"/cdn-cgi/images/external.png\" alt=\"External link\">\\n            </p>\\n         </div>\\n\\n         <div class=\"clearfix footer section\" role=\"contentinfo\">\\n            <div class=\"column\">\\n               <div class=\"feedback-hidden py-8 text-center\" id=\"error-feedback\">\\n    <div id=\"error-feedback-survey\" class=\"footer-line-wrapper\">\\n        Was this page helpful?\\n        <button class=\"border border-solid bg-white cf-button cursor-pointer ml-4 px-4 py-2 rounded\" id=\"feedback-button-yes\" type=\"button\">Yes</button>\\n        <button class=\"border border-solid bg-white cf-button cursor-pointer ml-4 px-4 py-2 rounded\" id=\"feedback-button-no\" type=\"button\">No</button>\\n    </div>\\n    <div class=\"feedback-success feedback-hidden\" id=\"error-feedback-success\">\\n        Thank you for your feedback!\\n    </div>\\n</div>\\n\\n            </div>\\n            <div class=\"column footer-line-wrapper text-center\">\\n               Performance &amp; security by <a rel=\"noopener noreferrer\" href=\"https://www.cloudflare.com?utm_source=1020_error\" target=\"_blank\">Cloudflare</a>\\n               <img class=\"external-link\" title=\"Opens in new tab\" src=\"/cdn-cgi/images/external.png\" alt=\"External link\">\\n            </div>\\n         </div>\\n      </div>\\n   <script defer src=\"https://static.cloudflareinsights.com/beacon.min.js/v652eace1692a40cfa3763df669d7439c1639079717194\" integrity=\"sha512-Gi7xpJR8tSkrpF7aordPZQlW2DLtzUlZcumS8dMQjwDHEnw9I7ZLyiOj/6tZStRBGtGgN6ceN6cMH8z7etPGlw==\" data-cf-beacon=\\'{\"rayId\":\"74e8f7a7cfbea4a7\",\"token\":\"47161d92b8b74ef5b23469b91c2535c6\",\"version\":\"2022.8.1\",\"si\":100}\\' crossorigin=\"anonymous\"></script>\\n</body>\\n</html>\\n'"
      ]
     },
     "execution_count": 3,
     "metadata": {},
     "output_type": "execute_result"
    }
   ],
   "source": [
    "test"
   ]
  },
  {
   "cell_type": "code",
   "execution_count": 5,
   "id": "be84750b",
   "metadata": {},
   "outputs": [
    {
     "name": "stdout",
     "output_type": "stream",
     "text": [
      "<!DOCTYPE html>\n",
      "<html lang=\"en-US\">\n",
      " <head>\n",
      "  <title>\n",
      "   Access denied\n",
      "  </title>\n",
      "  <meta content=\"IE=Edge\" http-equiv=\"X-UA-Compatible\"/>\n",
      "  <meta content=\"noindex, nofollow\" name=\"robots\"/>\n",
      "  <meta content=\"width=device-width,initial-scale=1\" name=\"viewport\"/>\n",
      "  <link href=\"/cdn-cgi/styles/errors.css\" media=\"screen\" rel=\"stylesheet\"/>\n",
      "  <script>\n",
      "   (function(){if(document.addEventListener&&window.XMLHttpRequest&&JSON&&JSON.stringify){var e=function(a){var c=document.getElementById(\"error-feedback-survey\"),d=document.getElementById(\"error-feedback-success\"),b=new XMLHttpRequest;a={event:\"feedback clicked\",properties:{errorCode:1020,helpful:a,version:4}};b.open(\"POST\",\"https://sparrow.cloudflare.com/api/v1/event\");b.setRequestHeader(\"Content-Type\",\"application/json\");b.setRequestHeader(\"Sparrow-Source-Key\",\"c771f0e4b54944bebf4261d44bd79a1e\");\n",
      "b.send(JSON.stringify(a));c.classList.add(\"feedback-hidden\");d.classList.remove(\"feedback-hidden\")};document.addEventListener(\"DOMContentLoaded\",function(){var a=document.getElementById(\"error-feedback\"),c=document.getElementById(\"feedback-button-yes\"),d=document.getElementById(\"feedback-button-no\");\"classList\"in a&&(a.classList.remove(\"feedback-hidden\"),c.addEventListener(\"click\",function(){e(!0)}),d.addEventListener(\"click\",function(){e(!1)}))})}})();\n",
      "  </script>\n",
      "  <script>\n",
      "   (function(){if(document.addEventListener){var c=function(){var b=document.getElementById(\"copy-label\");document.getElementById(\"plain-ray-id\");if(navigator.clipboard)navigator.clipboard.writeText(\"74e8f7a7cfbea4a7\");else{var a=document.createElement(\"textarea\");a.value=\"74e8f7a7cfbea4a7\";a.style.top=\"0\";a.style.left=\"0\";a.style.position=\"fixed\";document.body.appendChild(a);a.focus();a.select();document.execCommand(\"copy\");document.body.removeChild(a)}b.innerText=\"Copied\"};document.addEventListener(\"DOMContentLoaded\",\n",
      "function(){var b=document.getElementById(\"plain-ray-id\"),a=document.getElementById(\"click-to-copy-btn\");\"classList\"in b&&(b.classList.add(\"hidden\"),a.classList.remove(\"hidden\"),a.addEventListener(\"click\",c))})}})();\n",
      "  </script>\n",
      "  <script defer=\"\" src=\"https://performance.radar.cloudflare.com/beacon.js\">\n",
      "  </script>\n",
      " </head>\n",
      " <body>\n",
      "  <div class=\"main-wrapper\" role=\"main\">\n",
      "   <div class=\"header section\">\n",
      "    <h1>\n",
      "     <span class=\"error-description\">\n",
      "      Access denied\n",
      "     </span>\n",
      "     <span class=\"code-label\">\n",
      "      Error code\n",
      "      <span>\n",
      "       1020\n",
      "      </span>\n",
      "     </span>\n",
      "    </h1>\n",
      "    <div class=\"large-font\">\n",
      "     <p>\n",
      "      You cannot access www.indeed.com. Refresh the page or contact the site owner to request access.\n",
      "     </p>\n",
      "    </div>\n",
      "   </div>\n",
      "  </div>\n",
      "  <div>\n",
      "   <div class=\"section know-more\">\n",
      "    <h2 class=\"large-font\">\n",
      "     Troubleshooting information\n",
      "    </h2>\n",
      "    <p>\n",
      "     Copy and paste the Ray ID when you contact the site owner.\n",
      "    </p>\n",
      "    <p class=\"ray-id-wrapper\">\n",
      "     Ray ID:\n",
      "     <span class=\"plain-ray-id\" id=\"plain-ray-id\">\n",
      "      74e8f7a7cfbea4a7\n",
      "     </span>\n",
      "     <button class=\"click-to-copy-btn hidden\" id=\"click-to-copy-btn\" title=\"Click to copy Ray ID\" type=\"button\">\n",
      "      <span class=\"ray-id\">\n",
      "       74e8f7a7cfbea4a7\n",
      "      </span>\n",
      "      <span class=\"copy-label\" id=\"copy-label\">\n",
      "       Copy\n",
      "      </span>\n",
      "     </button>\n",
      "    </p>\n",
      "    <p>\n",
      "     For help visit\n",
      "     <a href=\"https://support.cloudflare.com/hc/articles/360029779472-Troubleshooting-Cloudflare-1XXX-errors?utm_source=1020_error#error1020\" rel=\"noopener noreferrer\" target=\"_blank\">\n",
      "      Troubleshooting guide\n",
      "     </a>\n",
      "     <img alt=\"External link\" class=\"external-link\" src=\"/cdn-cgi/images/external.png\" title=\"Opens in new tab\"/>\n",
      "    </p>\n",
      "   </div>\n",
      "   <div class=\"clearfix footer section\" role=\"contentinfo\">\n",
      "    <div class=\"column\">\n",
      "     <div class=\"feedback-hidden py-8 text-center\" id=\"error-feedback\">\n",
      "      <div class=\"footer-line-wrapper\" id=\"error-feedback-survey\">\n",
      "       Was this page helpful?\n",
      "       <button class=\"border border-solid bg-white cf-button cursor-pointer ml-4 px-4 py-2 rounded\" id=\"feedback-button-yes\" type=\"button\">\n",
      "        Yes\n",
      "       </button>\n",
      "       <button class=\"border border-solid bg-white cf-button cursor-pointer ml-4 px-4 py-2 rounded\" id=\"feedback-button-no\" type=\"button\">\n",
      "        No\n",
      "       </button>\n",
      "      </div>\n",
      "      <div class=\"feedback-success feedback-hidden\" id=\"error-feedback-success\">\n",
      "       Thank you for your feedback!\n",
      "      </div>\n",
      "     </div>\n",
      "    </div>\n",
      "    <div class=\"column footer-line-wrapper text-center\">\n",
      "     Performance &amp; security by\n",
      "     <a href=\"https://www.cloudflare.com?utm_source=1020_error\" rel=\"noopener noreferrer\" target=\"_blank\">\n",
      "      Cloudflare\n",
      "     </a>\n",
      "     <img alt=\"External link\" class=\"external-link\" src=\"/cdn-cgi/images/external.png\" title=\"Opens in new tab\"/>\n",
      "    </div>\n",
      "   </div>\n",
      "  </div>\n",
      "  <script crossorigin=\"anonymous\" data-cf-beacon='{\"rayId\":\"74e8f7a7cfbea4a7\",\"token\":\"47161d92b8b74ef5b23469b91c2535c6\",\"version\":\"2022.8.1\",\"si\":100}' defer=\"\" integrity=\"sha512-Gi7xpJR8tSkrpF7aordPZQlW2DLtzUlZcumS8dMQjwDHEnw9I7ZLyiOj/6tZStRBGtGgN6ceN6cMH8z7etPGlw==\" src=\"https://static.cloudflareinsights.com/beacon.min.js/v652eace1692a40cfa3763df669d7439c1639079717194\">\n",
      "  </script>\n",
      " </body>\n",
      "</html>\n",
      "\n"
     ]
    }
   ],
   "source": [
    "soup = bs(test, 'lxml')\n",
    "\n",
    "print(soup.prettify())"
   ]
  },
  {
   "cell_type": "code",
   "execution_count": 9,
   "id": "978955e4",
   "metadata": {},
   "outputs": [
    {
     "name": "stdout",
     "output_type": "stream",
     "text": [
      "None\n"
     ]
    }
   ],
   "source": [
    "jobs = soup.find(class_='result')\n",
    "print(jobs)\n",
    "# job_title = jobs.find('a', class_='jobtitle').text.strip()\n",
    "# print(job_title)"
   ]
  },
  {
   "cell_type": "code",
   "execution_count": null,
   "id": "16fd6102",
   "metadata": {},
   "outputs": [],
   "source": []
  }
 ],
 "metadata": {
  "kernelspec": {
   "display_name": "Python 3 (ipykernel)",
   "language": "python",
   "name": "python3"
  },
  "language_info": {
   "codemirror_mode": {
    "name": "ipython",
    "version": 3
   },
   "file_extension": ".py",
   "mimetype": "text/x-python",
   "name": "python",
   "nbconvert_exporter": "python",
   "pygments_lexer": "ipython3",
   "version": "3.9.7"
  }
 },
 "nbformat": 4,
 "nbformat_minor": 5
}
