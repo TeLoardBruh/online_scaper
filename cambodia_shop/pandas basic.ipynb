{
 "cells": [
  {
   "cell_type": "code",
   "execution_count": null,
   "id": "c9f1568d",
   "metadata": {},
   "outputs": [],
   "source": [
    "import pandas as pd\n",
    "import re\n",
    "\n",
    "poke = pd.read_csv('./data/pokemon_data.csv')\n",
    "\n",
    "poke"
   ]
  },
  {
   "cell_type": "markdown",
   "id": "080e47cb",
   "metadata": {},
   "source": [
    "# Reading from csv"
   ]
  },
  {
   "cell_type": "code",
   "execution_count": null,
   "id": "30d46580",
   "metadata": {},
   "outputs": [],
   "source": [
    "poke.columns"
   ]
  },
  {
   "cell_type": "code",
   "execution_count": null,
   "id": "f751dae9",
   "metadata": {},
   "outputs": [],
   "source": [
    "poke['Name'][0:5]"
   ]
  },
  {
   "cell_type": "code",
   "execution_count": null,
   "id": "8f539aa7",
   "metadata": {},
   "outputs": [],
   "source": [
    "# get multiple columns\n",
    "poke[['Name','HP', 'Generation']][0:5]"
   ]
  },
  {
   "cell_type": "code",
   "execution_count": null,
   "id": "9ac7e601",
   "metadata": {},
   "outputs": [],
   "source": [
    "# iloc integer location\n",
    "# get row 4\n",
    "poke.iloc[4]"
   ]
  },
  {
   "cell_type": "code",
   "execution_count": null,
   "id": "04ba032b",
   "metadata": {},
   "outputs": [],
   "source": [
    "# getting from row 4 to 9\n",
    "poke.iloc[4:9]"
   ]
  },
  {
   "cell_type": "code",
   "execution_count": null,
   "id": "41c1af3b",
   "metadata": {},
   "outputs": [],
   "source": [
    "# selecing specific rows and column\n",
    "poke.iloc[4,1]"
   ]
  },
  {
   "cell_type": "code",
   "execution_count": null,
   "id": "5ae23954",
   "metadata": {},
   "outputs": [],
   "source": [
    "# iterate through each row\n",
    "for index, row in poke.iterrows():\n",
    "    print(index, row)"
   ]
  },
  {
   "cell_type": "code",
   "execution_count": null,
   "id": "ecc021ca",
   "metadata": {
    "scrolled": true
   },
   "outputs": [],
   "source": [
    "# data that is text (string)\n",
    "\n",
    "poke.loc[poke['Type 1']=='Grass']"
   ]
  },
  {
   "cell_type": "markdown",
   "id": "1ca21147",
   "metadata": {},
   "source": [
    "# Sorting / Describing Data"
   ]
  },
  {
   "cell_type": "code",
   "execution_count": null,
   "id": "f7a5ad9b",
   "metadata": {},
   "outputs": [],
   "source": [
    "poke.describe()"
   ]
  },
  {
   "cell_type": "code",
   "execution_count": null,
   "id": "c5295214",
   "metadata": {},
   "outputs": [],
   "source": [
    "# sorting \n",
    "poke.sort_values('Name', ascending=False)"
   ]
  },
  {
   "cell_type": "code",
   "execution_count": null,
   "id": "6ecba242",
   "metadata": {},
   "outputs": [],
   "source": [
    "# sorting multiple columns\n",
    "poke.sort_values(['Name','HP'], ascending=[1,1])"
   ]
  },
  {
   "cell_type": "markdown",
   "id": "b63d9318",
   "metadata": {},
   "source": [
    "# Making change to data"
   ]
  },
  {
   "cell_type": "code",
   "execution_count": null,
   "id": "2e7df6e8",
   "metadata": {},
   "outputs": [],
   "source": [
    "# adding total columns\n",
    "poke['Total'] = poke['HP'] + poke['Attack'] + poke['Defense'] + poke['Sp. Atk'] + poke['Sp. Def'] + poke['Speed']\n",
    "\n",
    "# or can do it this way\n",
    "\n",
    "poke['Total_v2'] = poke.iloc[:,4:10].sum(axis=1)\n",
    "\n",
    "# switching columns\n",
    "cols = list(poke.columns.values)\n",
    "poke = poke[cols[0:4]+[cols[-1]]+cols[4:12]]\n",
    "poke"
   ]
  },
  {
   "cell_type": "code",
   "execution_count": null,
   "id": "53f0cf5d",
   "metadata": {},
   "outputs": [],
   "source": [
    "# drop total tabel\n",
    "poke = poke.drop(columns=['Total'])\n",
    "poke = poke.drop(columns=['Total_v2'])\n",
    "\n",
    "poke"
   ]
  },
  {
   "cell_type": "markdown",
   "id": "8a8f21f8",
   "metadata": {},
   "source": [
    "# Saving Data"
   ]
  },
  {
   "cell_type": "code",
   "execution_count": null,
   "id": "3346d879",
   "metadata": {},
   "outputs": [],
   "source": [
    "# saving in csv file\n",
    "poke.to_csv('./data/modified.csv', index=False)\n",
    "# saving txt file\n",
    "# poke.to_csv('modified.txt', index=False,sep='\\t')"
   ]
  },
  {
   "cell_type": "markdown",
   "id": "2fda0f8b",
   "metadata": {},
   "source": [
    "# Filter Data"
   ]
  },
  {
   "cell_type": "code",
   "execution_count": null,
   "id": "9b01f9f8",
   "metadata": {},
   "outputs": [],
   "source": [
    "filter_poke = poke[(poke['Type 1'] == 'Grass') & (poke['Type 2'] == 'Poison') & (poke['HP']>50)]\n",
    "\n",
    "#filter_poke = filter_poke.reset_index() # if want to drop index cols, filter_poke.reset_index(drop=True)\n",
    "# better way filter_poke.reset_index(drop=True,inplace=True)\n",
    "\n",
    "\n",
    "filter_poke.reset_index(drop=True,inplace=True)\n",
    "filter_poke"
   ]
  },
  {
   "cell_type": "code",
   "execution_count": null,
   "id": "01a78450",
   "metadata": {},
   "outputs": [],
   "source": [
    "# matching partly data \n",
    "poke.loc[poke['Name'].str.contains('Mega')]"
   ]
  },
  {
   "cell_type": "code",
   "execution_count": null,
   "id": "45783438",
   "metadata": {},
   "outputs": [],
   "source": [
    "# not selecting matching partly data \n",
    "poke.loc[~poke['Name'].str.contains('Mega')]"
   ]
  },
  {
   "cell_type": "code",
   "execution_count": null,
   "id": "d1762f78",
   "metadata": {},
   "outputs": [],
   "source": [
    "# finding regax\n",
    "poke.loc[poke['Type 1'].str.contains('fire|grass', flags=re.I, regex=True)] # using flags to ignore cases"
   ]
  },
  {
   "cell_type": "markdown",
   "id": "75c36a10",
   "metadata": {},
   "source": [
    "# Conditional Changing "
   ]
  },
  {
   "cell_type": "code",
   "execution_count": null,
   "id": "b5f8a0ec",
   "metadata": {},
   "outputs": [],
   "source": [
    "poke.loc[poke['Type 1'] == 'Flamer', 'Type 1'] = \"Fire\"\n",
    "poke"
   ]
  },
  {
   "cell_type": "markdown",
   "id": "23460f2f",
   "metadata": {},
   "source": [
    "# Aggregate Statistics (Groupby)"
   ]
  },
  {
   "cell_type": "code",
   "execution_count": null,
   "id": "6ce3f47f",
   "metadata": {},
   "outputs": [],
   "source": [
    "poke = pd.read_csv('./data/modified.csv')\n",
    "poke"
   ]
  },
  {
   "cell_type": "code",
   "execution_count": null,
   "id": "09fc9bc5",
   "metadata": {},
   "outputs": [],
   "source": [
    "# group by making the data easier to count with multiple rows\n",
    "\n",
    "poke['Count'] = 1\n",
    "\n",
    "poke.groupby(['Type 1', 'Type 2']).count()['Count'] "
   ]
  },
  {
   "cell_type": "markdown",
   "id": "bb79f695",
   "metadata": {},
   "source": [
    "# Chunk Data"
   ]
  },
  {
   "cell_type": "code",
   "execution_count": null,
   "id": "79baf6a0",
   "metadata": {},
   "outputs": [],
   "source": [
    "# using chunk can help save memory spae when read the data "
   ]
  },
  {
   "cell_type": "code",
   "execution_count": null,
   "id": "374e5b1c",
   "metadata": {},
   "outputs": [],
   "source": []
  },
  {
   "cell_type": "code",
   "execution_count": null,
   "id": "d55a58b8",
   "metadata": {},
   "outputs": [],
   "source": []
  },
  {
   "cell_type": "markdown",
   "id": "92195d0d",
   "metadata": {},
   "source": []
  }
 ],
 "metadata": {
  "kernelspec": {
   "display_name": "Python 3 (ipykernel)",
   "language": "python",
   "name": "python3"
  },
  "language_info": {
   "codemirror_mode": {
    "name": "ipython",
    "version": 3
   },
   "file_extension": ".py",
   "mimetype": "text/x-python",
   "name": "python",
   "nbconvert_exporter": "python",
   "pygments_lexer": "ipython3",
   "version": "3.9.7"
  }
 },
 "nbformat": 4,
 "nbformat_minor": 5
}
