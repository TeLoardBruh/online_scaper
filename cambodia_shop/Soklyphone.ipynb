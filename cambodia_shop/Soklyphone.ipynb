{
 "cells": [
  {
   "cell_type": "markdown",
   "id": "2226d187",
   "metadata": {},
   "source": [
    "## IMPORT"
   ]
  },
  {
   "cell_type": "code",
   "execution_count": 8,
   "id": "fa5e2b6a",
   "metadata": {
    "scrolled": true
   },
   "outputs": [],
   "source": [
    "import matplotlib.pyplot as plt\n",
    "import numpy as np\n",
    "import pandas as pd\n",
    "import re\n",
    "from bs4 import BeautifulSoup as bs\n",
    "import requests\n",
    "from selenium import webdriver\n",
    "from webdriver_manager.chrome import ChromeDriverManager\n",
    "import time\n",
    "from pprint import pprint\n",
    "import json "
   ]
  },
  {
   "cell_type": "markdown",
   "id": "321bfb73",
   "metadata": {},
   "source": [
    "## Start scraping process"
   ]
  },
  {
   "cell_type": "markdown",
   "id": "0565ea0c",
   "metadata": {},
   "source": [
    "### Getting all navigation of the website for access the elements"
   ]
  },
  {
   "cell_type": "code",
   "execution_count": 38,
   "id": "fcd301e5",
   "metadata": {},
   "outputs": [
    {
     "data": {
      "text/plain": [
       "'\\n                Huawei MatePad Pro 11 (2022)\\n            '"
      ]
     },
     "execution_count": 38,
     "metadata": {},
     "output_type": "execute_result"
    }
   ],
   "source": [
    "url = 'http://127.0.0.1:5500/Sokly%20Phone%20Shop.html'\n",
    "headers = {'User-Agent': 'Mozilla/5.0 (Linux; Android 6.0; Nexus 5 Build/MRA58N) AppleWebKit/537.36 (KHTML, like Gecko) Chrome/105.0.0.0 Mobile Safari/537.36'}\n",
    "\n",
    "category_url = []\n",
    "\n",
    "response = requests.get(url, headers=headers)\n",
    "data = bs(response.content, 'html.parser')\n",
    "\n",
    "# query all headers\n",
    "\n",
    "\n",
    "data.find('div', {'class': 'price-tag'}).find('div',{'class': 'text-danger'}).text\n",
    "data.find('h3',{'class': 'title'}).text"
   ]
  },
  {
   "cell_type": "markdown",
   "id": "de5eff6e",
   "metadata": {},
   "source": [
    "## Get navigation bar"
   ]
  },
  {
   "cell_type": "code",
   "execution_count": 10,
   "id": "23cfc31f",
   "metadata": {},
   "outputs": [
    {
     "data": {
      "text/plain": [
       "['https://soklyphone.com/products',\n",
       " 'https://soklyphone.com/products?category=accessories',\n",
       " 'https://soklyphone.com/products?type=secondhand',\n",
       " 'https://soklyphone.com/top-10-deals']"
      ]
     },
     "execution_count": 10,
     "metadata": {},
     "output_type": "execute_result"
    }
   ],
   "source": [
    "category_url = []\n",
    "\n",
    "get_container = data.find(class_='navbar-nav')\n",
    "\n",
    "\n",
    "get_all_element = get_container.find_all(class_='dropdown-menu')\n",
    "\n",
    "\n",
    "for get_links in get_all_element:\n",
    "    category_url.append(get_links.find(\"a\", href=True).get(\"href\"))\n",
    "category_url"
   ]
  },
  {
   "cell_type": "markdown",
   "id": "3c6c2c13",
   "metadata": {},
   "source": [
    "## Start go into pages"
   ]
  },
  {
   "cell_type": "markdown",
   "id": "d2ece7f9",
   "metadata": {},
   "source": [
    "### Get pagination"
   ]
  },
  {
   "cell_type": "code",
   "execution_count": 16,
   "id": "1b37691f",
   "metadata": {},
   "outputs": [],
   "source": [
    "get_pagination = data.find_all('li', {'class': 'page-item'})"
   ]
  },
  {
   "cell_type": "markdown",
   "id": "3c459877",
   "metadata": {},
   "source": [
    "### Create function to generate number  start, end"
   ]
  },
  {
   "cell_type": "code",
   "execution_count": 32,
   "id": "83cd947a",
   "metadata": {},
   "outputs": [
    {
     "data": {
      "text/plain": [
       "[1, 2, 3, 4, 5, 6, 7, 8, 9, 10, 11, 12, 13, 14, 15, 16]"
      ]
     },
     "execution_count": 32,
     "metadata": {},
     "output_type": "execute_result"
    }
   ],
   "source": [
    "pagination_array = []\n",
    "\n",
    "start = int(get_pagination[0].find(\"a\", href=True).get(\"href\").split('page=')[1])\n",
    "end = int(get_pagination[-1].find(\"a\", href=True).get(\"href\").split('page=')[1])\n",
    "\n",
    "for pagination in range(start, end + 1, 1):\n",
    "    pagination_array.append(pagination)\n",
    "    \n",
    "pagination_array\n"
   ]
  },
  {
   "cell_type": "code",
   "execution_count": null,
   "id": "4fae31f2",
   "metadata": {},
   "outputs": [],
   "source": [
    "# https://arystorephone.com/cate/apple/ipad/\n",
    "# http://127.0.0.1:5500/Apple%20-%20Ary%20Store%20Phone%20Shop,%20Phnom%20Penh,%20Cambodia.html\n",
    "product_info = []\n",
    "\n",
    "def get_product_info(url):\n",
    "    browser = webdriver.Chrome(ChromeDriverManager().install())\n",
    "    browser.get(url)\n",
    "    headers = {'User-Agent': 'Mozilla/5.0 (Linux; Android 6.0; Nexus 5 Build/MRA58N) AppleWebKit/537.36 (KHTML, like Gecko) Chrome/105.0.0.0 Mobile Safari/537.36'}\n",
    "    product_product_categories_url = []\n",
    "    response = requests.get(url, headers=headers)\n",
    "\n",
    "    # adding beautiful soup\n",
    "    soup = bs(response.content, 'html.parser')\n",
    "\n",
    "    pagination_list = []\n",
    "    time.sleep(5)\n",
    "    html = browser.page_source\n",
    "    pagination = soup.find_all(class_='woocommerce-pagination')\n",
    "    for items in pagination:\n",
    "        for list_href in items.find_all('a'): \n",
    "            pagination_list.append(list_href.get('href'))\n",
    "    pagination_list = list(dict.fromkeys(pagination_list))\n",
    "    \n",
    "    if len(pagination_list) > 1:\n",
    "        for res in pagination_list:\n",
    "            print(res)\n",
    "            browser.get(res)\n",
    "            time.sleep(20)\n",
    "            html = browser.page_source\n",
    "            soup_pagination = bs(html, 'html.parser')\n",
    "            get_ul = soup_pagination.find_all('li', {'class': 'product'})\n",
    "            for i in get_ul:\n",
    "                product_info.append({'name' :i.find(class_='woocommerce-loop-product__title').text, 'price': i.select('.price .amount bdi')[0].text if i.select('.price .amount bdi') else None,'ref-url':i.find(class_='woocommerce-LoopProduct-link woocommerce-loop-product__link').get('href'), 'shope-name':'arystorephone' })\n",
    "    else: \n",
    "        print(url)\n",
    "        browser.get(url)\n",
    "        time.sleep(20)\n",
    "        html = browser.page_source\n",
    "        soup_pagination = bs(html, 'html.parser')\n",
    "        get_ul = soup_pagination.find_all('li', {'class': 'product'})\n",
    "        for i in get_ul:\n",
    "            product_info.append({'name' :i.find(class_='woocommerce-loop-product__title').text, 'price': i.select('.price .amount bdi')[0].text if i.select('.price .amount bdi') else None,'ref-url':i.find(class_='woocommerce-LoopProduct-link woocommerce-loop-product__link').get('href'), 'shope-name':'arystorephone'})\n"
   ]
  }
 ],
 "metadata": {
  "kernelspec": {
   "display_name": "Python 3",
   "language": "python",
   "name": "python3"
  },
  "language_info": {
   "codemirror_mode": {
    "name": "ipython",
    "version": 3
   },
   "file_extension": ".py",
   "mimetype": "text/x-python",
   "name": "python",
   "nbconvert_exporter": "python",
   "pygments_lexer": "ipython3",
   "version": "3.9.5"
  }
 },
 "nbformat": 4,
 "nbformat_minor": 5
}
