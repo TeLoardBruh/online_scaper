{
 "cells": [
  {
   "cell_type": "markdown",
   "id": "29e100a7-f26b-4952-9652-ed1f7ae1843e",
   "metadata": {},
   "source": [
    "This question I want to get from this dataset are:\n",
    "- Total types of the real estate that exist in the dataset\n",
    "- Total types of the real estate in specific location"
   ]
  },
  {
   "cell_type": "code",
   "execution_count": null,
   "id": "c2b54d86-b2d6-48cf-b56a-8ea59cb705ac",
   "metadata": {
    "tags": []
   },
   "outputs": [],
   "source": [
    "import matplotlib.pyplot as plt\n",
    "import numpy as np\n",
    "from pandas import json_normalize\n",
    "import pandas as pd\n",
    "from pandas import json_normalize\n",
    "import json\n",
    "import re"
   ]
  },
  {
   "cell_type": "code",
   "execution_count": null,
   "id": "22b005a2-24bf-4466-ab57-2940063ea059",
   "metadata": {
    "tags": []
   },
   "outputs": [],
   "source": [
    "def load_data(title):\n",
    "    with open(title,encoding='utf-8') as f:\n",
    "        return json.load(f)"
   ]
  },
  {
   "cell_type": "code",
   "execution_count": null,
   "id": "84e8968b-f9a4-4a46-bbe9-862f9c6cc35d",
   "metadata": {
    "tags": []
   },
   "outputs": [],
   "source": [
    "realestate_kh = \"./realestate_kh.json\"\n",
    "realestate_kh_list = load_data(realestate_kh)"
   ]
  },
  {
   "cell_type": "code",
   "execution_count": null,
   "id": "527f146e-24e1-4606-86cd-6a9b818dfc5e",
   "metadata": {
    "tags": []
   },
   "outputs": [],
   "source": [
    "df2 = json_normalize(realestate_kh_list) \n",
    "df2"
   ]
  },
  {
   "cell_type": "markdown",
   "id": "8fce938e-5422-4dd2-9acc-61796a36d3c0",
   "metadata": {},
   "source": [
    "## Exploring the data"
   ]
  },
  {
   "cell_type": "markdown",
   "id": "d9c5ef0d-6486-4a3d-9ab5-1a24ab4676d8",
   "metadata": {},
   "source": [
    "### Get category data"
   ]
  },
  {
   "cell_type": "code",
   "execution_count": null,
   "id": "aa7a2e47-935b-49ca-b566-6571bf80bf22",
   "metadata": {
    "tags": []
   },
   "outputs": [],
   "source": [
    "realestate_type = []\n",
    "\n",
    "# loop to get cate into one array \n",
    "# for cate in realestate_kh_list:\n",
    "#     print(cate['category'])\n",
    "# since have duplicates we want to remo|ve it.\n",
    "# sources : https://stackoverflow.com/questions/9835762/how-do-i-find-the-duplicates-in-a-list-and-create-another-list-with-them\n",
    "seen = set()\n",
    "for realestate in realestate_kh_list:\n",
    "    if realestate['category'] not in seen and realestate['category'] != None and realestate['category'] != re.search(\"POA\", (realestate['category'])):\n",
    "        realestate_type.append(realestate['category'])\n",
    "        seen.add(realestate['category'])\n",
    "\n",
    "realestate_type.remove('LandPOA  ')\n",
    "realestate_type.remove('ApartmentPOA  ')\n",
    "realestate_type.remove('Serviced Apartment')\n",
    "realestate_type.remove('Residential Property')\n",
    "realestate_type\n",
    "         "
   ]
  },
  {
   "cell_type": "code",
   "execution_count": 24,
   "id": "dbd82fe2-4430-4ef9-8ba5-13551b3b0c7b",
   "metadata": {
    "tags": []
   },
   "outputs": [
    {
     "data": {
      "text/plain": [
       "{'Villa': 122,\n",
       " 'Land': 334,\n",
       " 'Condo': 197,\n",
       " 'Apartment': 69,\n",
       " 'Project': 11,\n",
       " 'House': 134,\n",
       " 'Link House': 16,\n",
       " 'Borey': 4,\n",
       " 'Studio': 2,\n",
       " 'Flat': 14,\n",
       " 'Twin Villa': 47,\n",
       " 'Flat House': 19,\n",
       " 'Shophouse': 24}"
      ]
     },
     "execution_count": 24,
     "metadata": {},
     "output_type": "execute_result"
    }
   ],
   "source": [
    "categoryArr = []\n",
    "for item in realestate_kh_list:\n",
    "    categoryArr.append(item['category'])\n",
    "\n",
    "\n",
    "realestate_type_counts = {i:categoryArr.count(i) for i in categoryArr}\n",
    "\n",
    "realestate_type_counts.pop(None)\n",
    "realestate_type_counts.pop('ApartmentPOA  ')\n",
    "realestate_type_counts.pop('LandPOA  ')\n",
    "realestate_type_counts.pop('Serviced Apartment')\n",
    "realestate_type_counts.pop('Residential Property')\n",
    "\n",
    "realestate_type_counts"
   ]
  },
  {
   "cell_type": "markdown",
   "id": "0fc4148d-f709-4df9-a309-7c7a54d0b355",
   "metadata": {},
   "source": [
    "## Total realestate_type compare from one to another"
   ]
  },
  {
   "cell_type": "code",
   "execution_count": 25,
   "id": "df1fe74a-6a33-4c34-8ba6-282a83f86f38",
   "metadata": {
    "tags": []
   },
   "outputs": [
    {
     "data": {
      "text/plain": [
       "<BarContainer object of 13 artists>"
      ]
     },
     "execution_count": 25,
     "metadata": {},
     "output_type": "execute_result"
    },
    {
     "data": {
      "image/png": "[encoded data removed]",
      "text/plain": [
       "<Figure size 640x480 with 1 Axes>"
      ]
     },
     "metadata": {},
     "output_type": "display_data"
    }
   ],
   "source": [
    "heights = list(realestate_type_counts.values())\n",
    "bars = realestate_type\n",
    "y_pos = range(len(bars))\n",
    "c = ['red', 'green', 'black', 'blue', 'orange']\n",
    "\n",
    "# Rotation of the bars names\n",
    "plt.xticks(y_pos, bars,rotation=90)\n",
    "plt.bar(y_pos, heights,color=c)\n"
   ]
  },
  {
   "cell_type": "markdown",
   "id": "dfa14a98-2728-4057-8c6f-711d3e0b7ff0",
   "metadata": {},
   "source": [
    "## Total realestate_type compare from one to another base in city or province"
   ]
  },
  {
   "cell_type": "code",
   "execution_count": 38,
   "id": "e1221936-8a16-421c-bc7d-25923c4ad6e6",
   "metadata": {
    "collapsed": true,
    "jupyter": {
     "outputs_hidden": true
    },
    "tags": []
   },
   "outputs": [
    {
     "data": {
      "text/plain": [
       "[None,\n",
       " 'Siem Reap',\n",
       " 'Phnom Penh',\n",
       " 'Kandal',\n",
       " 'New Borey Project Prince One Tropica | Single Villa for Sale in Sen Sok AreaFeaturedFor saleLuxury PropertyVilla$690,000  Prince One Tropica\\ue920 Bedrooms: 66\\ue91f Bathrooms: 88\\ue90d Car spaces: 33\\ue94a Floor area: 340m²340m²\\ue93f Land area: 200m²200m²\\ue933 Facing: SS\\ue923 High Return Yield\\ue923 Brand Developer\\ue923 High Appreciation Value Updated: 1\\xa0week agoPrince Real Estate (Cambodia) Co.,Ltd',\n",
       " 'LZ Sea View ResidencesFeaturedRental Return: 6.0% a year for 2 yearsFor saleReady to Move InCondo$72,352   Sihanoukville Victory Beach 500m, Sangkat Buon, Sihanoukville, Sihanoukville\\ue948 Total units: 600Total units: 600\\ue947 Unit types: Condo, Serviced Apartment, StudioUnit types: Condo, Serviced Apartment, Studio\\ue920 Bedrooms: 1 to 21 to 2\\ue94a Floor area: 64 to 68m²64 to 68m²\\ue923 High Return Yield\\ue923 High Appreciation ValueLZ Sea View Residences LtdLZ Sea View Residence | Studio$72,352\\ue920 11\\ue91f 11\\ue94a 43m²43m²LZ Sea View Residence | One-Bedroom$107,641\\ue920 11\\ue91f 11\\ue94a 64m²64m²LZ Sea View Residence | Two-Bedrooms$123,281\\ue920 22\\ue91f 22\\ue94a 68m²68m²',\n",
       " 'Star BayFeaturedFor saleReady to Move InCondo$73,000   Sangkat Buon, Sihanoukville, Sihanoukville\\ue948 Total units: 1956Total units: 1956\\ue947 Unit types: Condo, StudioUnit types: Condo, Studio\\ue920 11\\ue94a Floor area: 32 to 66m²32 to 66m²\\ue923 High Return Yield\\ue923 High Appreciation ValueStar BaySea View Condo for Sale in Sihanoukville Star Bay project: Type A3 (Studio) $72,895$2,268/m²\\ue920 11\\ue91f 11\\ue94a 33m²33m²Best Sea View Condo for sale in Sihanoukville Project Star Bay: Type A7 (1 Bedroom) $139,235$2,093/m²\\ue920 11\\ue91f 11\\ue94a 66m²66m²Best Sea View Condo for sale in Sihanoukville Project Star Bay: Type A1 (1 Bedroom) $157,758$2,939/m²\\ue920 11\\ue91f 11\\ue94a 54m²54m²',\n",
       " 'Kampong Speu',\n",
       " 'New Borey Project Prince One Tropica | Link Villa for Sale in Sen Sok AreaFeaturedFor saleLuxury PropertyHouse$185,000  Prince One Tropica\\ue920 Bedrooms: 44\\ue91f Bathrooms: 55\\ue90d Car spaces: 22\\ue94a Floor area: 143m²143m²\\ue93f Land area: 76m²76m²\\ue923 High Return Yield\\ue923 Brand Developer\\ue923 High Appreciation Value Updated: 1\\xa0week agoMLS Property Cambodia',\n",
       " 'ដីលក់បន្ទាន់\\u200bប្លង់រឹងជាប់ផ្លូវជាតិលេខ4 Land for sale urgently, next to National Road 4, 96 meters wide, 16KM from SihanoukvilleFeaturedFor saleLand$2,777,830   ភូមិអូរតាសេក , Ou Oknha Heng, Prey Nob, Sihanoukville\\ue93f Land area: 50506m²50506m² Updated: 10\\xa0months ago',\n",
       " 'Le Condé BKK1 | Studio Room Type A3FeaturedRental Return: 8.0% a year for 3 yearsFor saleLuxury PropertyStudio$139,895  Le Condé BKK1\\ue920 Bedrooms: 11\\ue91f Bathrooms: 11\\ue94a Floor area: 39m²39m²\\ue94b Floor level: 77\\ue933 Facing: NN\\ue923 High Return Yield\\ue923 Brand Developer\\ue923 High Appreciation Value\\ue923 Promotional Discount Updated: 3\\xa0days agoMLS Property Cambodia',\n",
       " 'Kep',\n",
       " 'Svay Rieng',\n",
       " 'Kampong Cham',\n",
       " 'Borey Morgan Champs-Élysées | Central Villa Type S3For saleLuxury PropertyVilla$1,590,000  Borey Morgan Champs-Élysées\\ue920 Bedrooms: 77\\ue91f Bathrooms: 88\\ue90d Car spaces: 44\\ue94a Floor area: 754m²754m²\\ue93f Land area: 292m²292m²\\ue923 High Return Yield\\ue923 Brand Developer\\ue923 High Appreciation Value Updated: 1\\xa0month agoMLS Property Cambodia',\n",
       " 'Borey Morgan Champs-Élysées | Central Villa Type S2For saleLuxury Property\\n\\nTwin Villa$650,000  Borey Morgan Champs-Élysées\\ue920 Bedrooms: 66\\ue91f Bathrooms: 77\\ue90d Car spaces: 22\\ue94a Floor area: 337m²337m²\\ue93f Land area: 128m²128m²\\ue923 High Return Yield\\ue923 Brand Developer\\ue923 High Appreciation Value Updated: 1\\xa0month agoMLS Property Cambodia',\n",
       " 'Borey Morgan Champs-Élysées | Shophouse P1-3For saleLuxury PropertyShophouse$1,630,000  Borey Morgan Champs-Élysées\\ue920 Bedrooms: 33\\ue91f Bathrooms: 2020\\ue90d Car spaces: 22\\ue94a Floor area: 1185m²1185m²\\ue93f Land area: 180m²180m²\\ue923 High Return Yield\\ue923 Brand Developer\\ue923 High Appreciation Value Updated: 1\\xa0month agoMLS Property Cambodia',\n",
       " 'Borey Morgan Champs-Élysées | Central Villa Type S1For saleLuxury PropertyTwin Villa$480,000  Borey Morgan Champs-Élysées\\ue920 Bedrooms: 55\\ue91f Bathrooms: 66\\ue90d Car spaces: 11\\ue94a Floor area: 245m²245m²\\ue93f Land area: 84m²84m²\\ue923 High Return Yield\\ue923 Brand Developer\\ue923 High Appreciation Value Updated: 1\\xa0month agoMLS Property Cambodia',\n",
       " 'Borey Morgan Champs-Élysées | Shophouse P-1For saleLuxury PropertyShophouse$560,000  Borey Morgan Champs-Élysées\\ue920 Bedrooms: 44\\ue91f Bathrooms: 55\\ue90d Car spaces: 22\\ue94a Floor area: 441m²441m²\\ue93f Land area: 100m²100m²\\ue923 High Return Yield\\ue923 Brand Developer\\ue923 High Appreciation Value Updated: 1\\xa0month agoMLS Property Cambodia',\n",
       " 'Stylish 2Two-bedroom Condo for Sale in J Tower 2For sale or rentReady to Move In\\n\\nCondo$208,000  J Tower 2 Condominium\\ue920 Bedrooms: 22\\ue91f Bathrooms: 22\\ue94a Floor area: 91m²91m²\\ue923 High Return Yield\\ue923 Brand Developer\\ue923 High Appreciation Value\\ue923 Project Complete Updated: 2\\xa0months agoMLS Property Cambodia',\n",
       " 'Kampot',\n",
       " 'Stylish Two-Bedroom Condo for Sale in J Tower 2For sale or rentReady to Move InCondo$181,000  J Tower 2 Condominium\\ue920 Bedrooms: 22\\ue91f Bathrooms: 22\\ue94a Floor area: 65m²65m²\\ue923 High Return Yield\\ue923 Brand Developer\\ue923 High Appreciation Value\\ue923 Project Complete Updated: 2\\xa0months agoMLS Property Cambodia',\n",
       " ' Superb Scenic Riverside Land for Sale in Srea Ambel, Koh Kong.For saleLand$13/m²   Srae Ambel, Srae Ambel, Koh Kong\\ue93f Land area: 43732m²43732m² Updated: 3\\xa0months agoLUX Realty Cambodia',\n",
       " 'Twin Villa Borey Peng Hout National Road 6A for SaleFor saleVilla$350,000  Borey Peng Huoth : The Star Jumeirah\\ue920 Bedrooms: 44\\ue91f Bathrooms: 55\\ue90d Car spaces: 11\\ue94a Floor area: 72m²72m²\\ue93f Land area: 160m²160m²\\ue933 Facing: NN Updated: 4\\xa0months ago',\n",
       " 'Twin Villa Borey Peng Hout National Road 6A for SaleFor saleTwin Villa$270,000  Borey Peng Huoth : The Star Jumeirah\\ue920 Bedrooms: 44\\ue91f Bathrooms: 55\\ue90d Car spaces: 11\\ue94a Floor area: 72m²72m²\\ue93f Land area: 189m²189m²\\ue933 Facing: EE Updated: 4\\xa0months ago',\n",
       " 'Shop House at Borey The Flora National Road 6A for Urgent Sale!For saleShophouse$129,000  Borey The Flora\\ue920 Bedrooms: 44\\ue91f Bathrooms: 44\\ue90d Car spaces: 11\\ue94a Floor area: 72m²72m²\\ue93f Land area: 72m²72m²\\ue923 Brand Developer\\ue923 Bank Loans Available\\ue923 Promotional Discount Updated: 4\\xa0months ago',\n",
       " 'Twin Villa Borey The Flora National Road 6A for SaleFor sale\\n\\nTwin Villa$250,000  Borey The Flora\\ue920 Bedrooms: 44\\ue91f Bathrooms: 55\\ue94a Floor area: 72m²72m²\\ue93f Land area: 200m²200m²\\ue923 Brand Developer\\ue923 Bank Loans Available\\ue923 Promotional Discount Updated: 4\\xa0months agoBorey For Sale',\n",
       " 'Twin Villa Borey The Flora National Road 6A for SaleFor saleTwin Villa$160,000  Borey The Flora\\ue920 Bedrooms: 22\\ue91f Bathrooms: 33\\ue90d Car spaces: 11\\ue94a Floor area: 53m²53m²\\ue93f Land area: 85m²85m²\\ue923 Brand Developer\\ue923 Bank Loans Available\\ue923 Promotional Discount Updated: 4\\xa0months agoBorey For Sale',\n",
       " 'Twin Villa Borey Peng Hout National Road 6A for SaleFor saleTwin Villa$269,000  Borey Peng Huoth : The Star Jumeirah\\ue920 Bedrooms: 44\\ue91f Bathrooms: 55\\ue90d Car spaces: 11\\ue94a Floor area: 72m²72m²\\ue93f Land area: 140m²140m²\\ue933 Facing: SS Updated: 4\\xa0months agoBorey For Sale',\n",
       " 'Brand New Studio Type Bedroom For Sale In Sihaknouk Vile For saleCondo$72,800   Sangkat Pir, Sihanoukville, Sihanoukville\\ue920 Bedrooms: 11\\ue91f Bathrooms: 11\\ue94a Floor area: 40m²40m²\\ue94b Floor level: 99 Updated: 4\\xa0months agoGlobal Property Services',\n",
       " 'PHNOM PENH',\n",
       " 'Development Land For SaleFor salePrice NegotiableLandPOA   Kampong Seila, Kampong Seila, Sihanoukville Updated: 5\\xa0months agoKnight Frank',\n",
       " 'Land for Sale at Koh Chak village, Mondul Seima District, Koh Kong Province, Cambodia. The land is only 12km away from Koh Kong Airport and Koh Kong Beach.For saleLand$600,000   Tuol Kokir, Mondol Seima, Koh Kong\\ue93f Land area: 100000m²100000m² Updated: 6\\xa0months agoPropNex Cambodia',\n",
       " 'Fantastic Mountain and Creek View Land in Koh Kong ProvinceFor saleLand$177,000   Dang Peaeng, Srae Ambel, Koh Kong\\ue93f Land area: 34100m²34100m² Updated: 6\\xa0months agoPropNex Cambodia',\n",
       " 'Fantastic Mountain and Creek View Land in Koh Kong ProvinceFor sale\\n\\nLand$530,000   Dang Peaeng, Srae Ambel, Koh Kong Updated: 6\\xa0months agoPropNex Cambodia',\n",
       " 'Land Along TaTai Creek For Sale in Koh Kong Province, For salePrice NegotiableLand$540,872   48 , Ta Tey Leu, Thma Bang, Koh Kong\\ue93f Land area: 67609m²67609m² Updated: 6\\xa0months agoPropNex Cambodia',\n",
       " 'DABEST CONDOS: New 1BR Luxury Condo for Re-Sale at Peninsula Private ResidencesFor saleReady to Move InCondo$214,500  The Peninsula Private Residences\\ue920 Bedrooms: 11\\ue91f Bathrooms: 11\\ue90d Car spaces: 11\\ue94a Floor area: 66m²66m²\\ue94b Floor level: 1010\\ue933 Facing: EE\\ue923 Guaranteed Leaseback\\ue923 High Return Yield\\ue923 Brand Developer\\ue923 High Appreciation Value\\ue923 Bank Loans Available\\ue923 Promotional Discount Updated: 6\\xa0months agoCC Peninsula Co., LTD']"
      ]
     },
     "execution_count": 38,
     "metadata": {},
     "output_type": "execute_result"
    }
   ],
   "source": [
    "# get columns location\n",
    "realestate_location = []\n",
    "\n",
    "# loop to get cate into one array \n",
    "# for cate in realestate_kh_list:\n",
    "#     print(cate['category'])\n",
    "# since have duplicates we want to remo|ve it.\n",
    "# sources : https://stackoverflow.com/questions/9835762/how-do-i-find-the-duplicates-in-a-list-and-create-another-list-with-them\n",
    "seen = set()\n",
    "categoryArr = []\n",
    "for item in realestate_kh_list:\n",
    "    categoryArr.append(item['category'])\n",
    "\n",
    "\n",
    "realestate_type_counts = {i:categoryArr.count(i) for i in categoryArr}\n",
    "\n",
    "realestate_type_counts.pop(None)\n",
    "realestate_type_counts.pop('ApartmentPOA  ')\n",
    "realestate_type_counts.pop('LandPOA  ')\n",
    "realestate_type_counts.pop('Serviced Apartment')\n",
    "realestate_type_counts.pop('Residential Property')\n",
    "\n",
    "realestate_type_counts\n",
    "for realestate in realestate_kh_list:\n",
    "    if realestate['location'] not in seen:\n",
    "        realestate_location.append(realestate['location'])\n",
    "        seen.add(realestate['location'])\n",
    "realestate_location"
   ]
  },
  {
   "cell_type": "code",
   "execution_count": null,
   "id": "de202dd1-483c-4ef0-9a5a-e78a86ddd242",
   "metadata": {
    "tags": []
   },
   "outputs": [],
   "source": [
    "testArr = []\n",
    "categoryArrTest = []\n",
    "for i in realestate_kh_list:\n",
    "    print(realestate['location'].lower())\n",
    "\n",
    "    if realestate['location']:\n",
    "        print(realestate['location'])\n",
    "        for item in realestate_kh_list:\n",
    "            categoryArrTest.append(item['category'])\n",
    "        realestate_type_counts = {i:categoryArrTest.count(i) for i in categoryArrTest}\n",
    "\n",
    "        realestate_type_counts.pop(None)\n",
    "        realestate_type_counts.pop('ApartmentPOA  ')\n",
    "        realestate_type_counts.pop('LandPOA  ')\n",
    "        realestate_type_counts.pop('Serviced Apartment')\n",
    "        realestate_type_counts.pop('Residential Property')\n",
    "        testArr.append(realestate['location'])\n",
    "\n",
    "# testArr"
   ]
  },
  {
   "cell_type": "code",
   "execution_count": 37,
   "id": "09600359-3c26-4289-a012-2143b2340d78",
   "metadata": {
    "tags": []
   },
   "outputs": [
    {
     "data": {
      "image/png": "[encoded data removed]",
      "text/plain": [
       "<Figure size 900x800 with 1 Axes>"
      ]
     },
     "metadata": {},
     "output_type": "display_data"
    }
   ],
   "source": [
    "data=[[\"A\",40, 36, 38, 35, 40],\n",
    "      [\"B\",39, 37, 33, 38, 32],\n",
    "      [\"C\",28, 30, 33, 39, 24],\n",
    "      [\"D\",40, 40, 35, 29, 35],\n",
    "      [\"E\", 28, 25, 16, 27, 30]\n",
    "     ]\n",
    "# Plot multiple columns bar chart\n",
    "\n",
    "df=pd.DataFrame(data,columns=[\"Name\",\"English\",\"Hindi\",\"Maths\", \"Science\", \"Computer\"])\n",
    "\n",
    "df.plot(x=\"Name\", y=[\"English\",\"Hindi\",\"Maths\", \"Science\", \"Computer\"], kind=\"bar\",figsize=(9,8))\n",
    "\n",
    "# Show\n",
    "\n",
    "plt.show()"
   ]
  }
 ],
 "metadata": {
  "kernelspec": {
   "display_name": "Python 3 (ipykernel)",
   "language": "python",
   "name": "python3"
  },
  "language_info": {
   "codemirror_mode": {
    "name": "ipython",
    "version": 3
   },
   "file_extension": ".py",
   "mimetype": "text/x-python",
   "name": "python",
   "nbconvert_exporter": "python",
   "pygments_lexer": "ipython3",
   "version": "3.7.7"
  }
 },
 "nbformat": 4,
 "nbformat_minor": 5
}
