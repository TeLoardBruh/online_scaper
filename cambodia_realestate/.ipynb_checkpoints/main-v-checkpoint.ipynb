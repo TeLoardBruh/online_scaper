{
 "cells": [
  {
   "cell_type": "markdown",
   "id": "29e100a7-f26b-4952-9652-ed1f7ae1843e",
   "metadata": {},
   "source": [
    "This question I want to get from this dataset are:\n",
    "- Total types of the real estate that exist in the dataset\n",
    "- Total types of the real estate in specific location"
   ]
  },
  {
   "cell_type": "code",
   "execution_count": 60,
   "id": "c2b54d86-b2d6-48cf-b56a-8ea59cb705ac",
   "metadata": {
    "tags": []
   },
   "outputs": [],
   "source": [
    "import matplotlib.pyplot as plt\n",
    "import numpy as np\n",
    "from pandas import json_normalize\n",
    "import pandas as pd\n",
    "from pandas import json_normalize\n",
    "import json\n",
    "import re\n",
    "import itertools"
   ]
  },
  {
   "cell_type": "code",
   "execution_count": 61,
   "id": "22b005a2-24bf-4466-ab57-2940063ea059",
   "metadata": {
    "tags": []
   },
   "outputs": [],
   "source": [
    "def load_data(title):\n",
    "    with open(title,encoding='utf-8') as f:\n",
    "        return json.load(f)"
   ]
  },
  {
   "cell_type": "code",
   "execution_count": 62,
   "id": "84e8968b-f9a4-4a46-bbe9-862f9c6cc35d",
   "metadata": {
    "tags": []
   },
   "outputs": [],
   "source": [
    "realestate_kh = \"./realestate_kh_cleaner2023-05-20.json\"\n",
    "realestate_kh_list = load_data(realestate_kh)"
   ]
  },
  {
   "cell_type": "code",
   "execution_count": 63,
   "id": "527f146e-24e1-4606-86cd-6a9b818dfc5e",
   "metadata": {
    "tags": []
   },
   "outputs": [
    {
     "data": {
      "text/html": [
       "<div>\n",
       "<style scoped>\n",
       "    .dataframe tbody tr th:only-of-type {\n",
       "        vertical-align: middle;\n",
       "    }\n",
       "\n",
       "    .dataframe tbody tr th {\n",
       "        vertical-align: top;\n",
       "    }\n",
       "\n",
       "    .dataframe thead th {\n",
       "        text-align: right;\n",
       "    }\n",
       "</style>\n",
       "<table border=\"1\" class=\"dataframe\">\n",
       "  <thead>\n",
       "    <tr style=\"text-align: right;\">\n",
       "      <th></th>\n",
       "      <th>location</th>\n",
       "      <th>price</th>\n",
       "      <th>bedrooms</th>\n",
       "      <th>bathrooms</th>\n",
       "      <th>floors</th>\n",
       "      <th>lands</th>\n",
       "      <th>type</th>\n",
       "    </tr>\n",
       "  </thead>\n",
       "  <tbody>\n",
       "    <tr>\n",
       "      <th>0</th>\n",
       "      <td>Phnom Penh</td>\n",
       "      <td>$52,000</td>\n",
       "      <td>1</td>\n",
       "      <td>1</td>\n",
       "      <td>35</td>\n",
       "      <td>None</td>\n",
       "      <td>Apartment</td>\n",
       "    </tr>\n",
       "    <tr>\n",
       "      <th>1</th>\n",
       "      <td>Phnom Penh</td>\n",
       "      <td>$290,000</td>\n",
       "      <td>4</td>\n",
       "      <td>5</td>\n",
       "      <td>None</td>\n",
       "      <td>None</td>\n",
       "      <td>Twin</td>\n",
       "    </tr>\n",
       "    <tr>\n",
       "      <th>2</th>\n",
       "      <td>Sihanoukville</td>\n",
       "      <td>$45,000</td>\n",
       "      <td>1</td>\n",
       "      <td>1</td>\n",
       "      <td>35</td>\n",
       "      <td>None</td>\n",
       "      <td>Apartment</td>\n",
       "    </tr>\n",
       "    <tr>\n",
       "      <th>3</th>\n",
       "      <td>Sihanoukville</td>\n",
       "      <td>$7,500,000</td>\n",
       "      <td>None</td>\n",
       "      <td>None</td>\n",
       "      <td>None</td>\n",
       "      <td>1025</td>\n",
       "      <td>Land</td>\n",
       "    </tr>\n",
       "    <tr>\n",
       "      <th>4</th>\n",
       "      <td>Sihanoukville</td>\n",
       "      <td>$1,500/m²</td>\n",
       "      <td>None</td>\n",
       "      <td>None</td>\n",
       "      <td>None</td>\n",
       "      <td>1593</td>\n",
       "      <td>Land</td>\n",
       "    </tr>\n",
       "    <tr>\n",
       "      <th>...</th>\n",
       "      <td>...</td>\n",
       "      <td>...</td>\n",
       "      <td>...</td>\n",
       "      <td>...</td>\n",
       "      <td>...</td>\n",
       "      <td>...</td>\n",
       "      <td>...</td>\n",
       "    </tr>\n",
       "    <tr>\n",
       "      <th>995</th>\n",
       "      <td>Phnom Penh</td>\n",
       "      <td>$120,000</td>\n",
       "      <td>5</td>\n",
       "      <td>6</td>\n",
       "      <td>None</td>\n",
       "      <td>102</td>\n",
       "      <td>Flat</td>\n",
       "    </tr>\n",
       "    <tr>\n",
       "      <th>996</th>\n",
       "      <td>Kandal</td>\n",
       "      <td>$47,000</td>\n",
       "      <td>2</td>\n",
       "      <td>3</td>\n",
       "      <td>None</td>\n",
       "      <td>77</td>\n",
       "      <td>Flat</td>\n",
       "    </tr>\n",
       "    <tr>\n",
       "      <th>997</th>\n",
       "      <td>Phnom Penh</td>\n",
       "      <td>$255,000</td>\n",
       "      <td>4</td>\n",
       "      <td>5</td>\n",
       "      <td>None</td>\n",
       "      <td>160</td>\n",
       "      <td>Twin</td>\n",
       "    </tr>\n",
       "    <tr>\n",
       "      <th>998</th>\n",
       "      <td>Siem Reap</td>\n",
       "      <td>$1,054,000</td>\n",
       "      <td>1</td>\n",
       "      <td>1</td>\n",
       "      <td>None</td>\n",
       "      <td>1054</td>\n",
       "      <td>House</td>\n",
       "    </tr>\n",
       "    <tr>\n",
       "      <th>999</th>\n",
       "      <td>Phnom Penh</td>\n",
       "      <td>$700,000</td>\n",
       "      <td>4</td>\n",
       "      <td>5</td>\n",
       "      <td>None</td>\n",
       "      <td>None</td>\n",
       "      <td>Shophouse</td>\n",
       "    </tr>\n",
       "  </tbody>\n",
       "</table>\n",
       "<p>1000 rows × 7 columns</p>\n",
       "</div>"
      ],
      "text/plain": [
       "          location       price bedrooms bathrooms floors lands       type\n",
       "0       Phnom Penh     $52,000        1         1     35  None  Apartment\n",
       "1       Phnom Penh    $290,000        4         5   None  None       Twin\n",
       "2    Sihanoukville     $45,000        1         1     35  None  Apartment\n",
       "3    Sihanoukville  $7,500,000     None      None   None  1025       Land\n",
       "4    Sihanoukville   $1,500/m²     None      None   None  1593       Land\n",
       "..             ...         ...      ...       ...    ...   ...        ...\n",
       "995     Phnom Penh    $120,000        5         6   None   102       Flat\n",
       "996         Kandal     $47,000        2         3   None    77       Flat\n",
       "997     Phnom Penh    $255,000        4         5   None   160       Twin\n",
       "998      Siem Reap  $1,054,000        1         1   None  1054      House\n",
       "999     Phnom Penh    $700,000        4         5   None  None  Shophouse\n",
       "\n",
       "[1000 rows x 7 columns]"
      ]
     },
     "execution_count": 63,
     "metadata": {},
     "output_type": "execute_result"
    }
   ],
   "source": [
    "df2 = json_normalize(realestate_kh_list) \n",
    "df2"
   ]
  },
  {
   "cell_type": "markdown",
   "id": "8fce938e-5422-4dd2-9acc-61796a36d3c0",
   "metadata": {},
   "source": [
    "## Exploring the data"
   ]
  },
  {
   "cell_type": "markdown",
   "id": "d9c5ef0d-6486-4a3d-9ab5-1a24ab4676d8",
   "metadata": {},
   "source": [
    "### Get category type data"
   ]
  },
  {
   "cell_type": "code",
   "execution_count": 64,
   "id": "aa7a2e47-935b-49ca-b566-6571bf80bf22",
   "metadata": {
    "tags": []
   },
   "outputs": [
    {
     "data": {
      "text/plain": [
       "['Apartment',\n",
       " 'Twin',\n",
       " 'Land',\n",
       " 'Project',\n",
       " 'Condo',\n",
       " 'Borey',\n",
       " 'Villa',\n",
       " 'Flat',\n",
       " 'Shophouse',\n",
       " 'House',\n",
       " 'Link',\n",
       " 'Studio']"
      ]
     },
     "execution_count": 64,
     "metadata": {},
     "output_type": "execute_result"
    }
   ],
   "source": [
    "realestate_type = []\n",
    "\n",
    "# loop to get cate into one array \n",
    "# for cate in realestate_kh_list:\n",
    "#     print(cate['type'])\n",
    "# since have duplicates we want to remo|ve it.\n",
    "# sources : https://stackoverflow.com/questions/9835762/how-do-i-find-the-duplicates-in-a-list-and-create-another-list-with-them\n",
    "seen = set()\n",
    "for realestate in realestate_kh_list:\n",
    "    if realestate['type'] not in seen and realestate['type'] != None and realestate['type'] != re.search(\"POA\", (realestate['type'])):\n",
    "        realestate_type.append(realestate['type'])\n",
    "        seen.add(realestate['type'])\n",
    "\n",
    "realestate_type.remove('CondoPOA')\n",
    "realestate_type.remove('LandPOA')\n",
    "# realestate_type.remove('Serviced Apartment')\n",
    "# realestate_type.remove('Residential Property')\n",
    "realestate_type\n",
    "         "
   ]
  },
  {
   "cell_type": "code",
   "execution_count": 65,
   "id": "dbd82fe2-4430-4ef9-8ba5-13551b3b0c7b",
   "metadata": {
    "tags": []
   },
   "outputs": [
    {
     "data": {
      "text/plain": [
       "{'Apartment': 40,\n",
       " 'Twin': 41,\n",
       " 'Land': 159,\n",
       " 'Project': 6,\n",
       " 'Condo': 166,\n",
       " 'Borey': 2,\n",
       " 'Villa': 108,\n",
       " 'Flat': 40,\n",
       " 'Shophouse': 73,\n",
       " 'House': 343,\n",
       " 'Link': 16,\n",
       " 'Studio': 1}"
      ]
     },
     "execution_count": 65,
     "metadata": {},
     "output_type": "execute_result"
    }
   ],
   "source": [
    "categoryArr = []\n",
    "for item in realestate_kh_list:\n",
    "    categoryArr.append(item['type'])\n",
    "\n",
    "\n",
    "realestate_type_counts = {i:categoryArr.count(i) for i in categoryArr}\n",
    "\n",
    "realestate_type_counts.pop(None)\n",
    "realestate_type_counts.pop('CondoPOA')\n",
    "realestate_type_counts.pop('LandPOA')\n",
    "# realestate_type_counts.pop('Serviced Apartment')\n",
    "# realestate_type_counts.pop('Residential Property')\n",
    "\n",
    "realestate_type_counts"
   ]
  },
  {
   "cell_type": "markdown",
   "id": "0fc4148d-f709-4df9-a309-7c7a54d0b355",
   "metadata": {},
   "source": [
    "## Total realestate_type compare from one to another"
   ]
  },
  {
   "cell_type": "code",
   "execution_count": 66,
   "id": "df1fe74a-6a33-4c34-8ba6-282a83f86f38",
   "metadata": {
    "tags": []
   },
   "outputs": [
    {
     "data": {
      "text/plain": [
       "<BarContainer object of 12 artists>"
      ]
     },
     "execution_count": 66,
     "metadata": {},
     "output_type": "execute_result"
    },
    {
     "data": {
      "image/png": "[encoded data removed]",
      "text/plain": [
       "<Figure size 640x480 with 1 Axes>"
      ]
     },
     "metadata": {},
     "output_type": "display_data"
    }
   ],
   "source": [
    "heights = list(realestate_type_counts.values())\n",
    "bars = realestate_type\n",
    "y_pos = range(len(bars))\n",
    "c = ['red', 'green', 'black', 'blue', 'orange']\n",
    "\n",
    "# Rotation of the bars names\n",
    "plt.xticks(y_pos, bars,rotation=90)\n",
    "plt.bar(y_pos, heights,color=c)\n"
   ]
  },
  {
   "cell_type": "markdown",
   "id": "dfa14a98-2728-4057-8c6f-711d3e0b7ff0",
   "metadata": {},
   "source": [
    "## Total realestate_type compare from one to another base in city or province"
   ]
  },
  {
   "cell_type": "code",
   "execution_count": 67,
   "id": "e1221936-8a16-421c-bc7d-25923c4ad6e6",
   "metadata": {
    "tags": []
   },
   "outputs": [
    {
     "name": "stdout",
     "output_type": "stream",
     "text": [
      "{'Apartment': 22, 'Borey': 2, 'Condo': 158, 'Flat': 33, 'House': 194, 'Land': 53, 'Link': 12, 'Project': 5, 'Shophouse': 62, 'Studio': 1, 'Twin': 39, 'Villa': 76}\n"
     ]
    },
    {
     "data": {
      "text/plain": [
       "[22, 2, 158, 33, 194, 53, 12, 5, 62, 1, 39, 76]"
      ]
     },
     "execution_count": 67,
     "metadata": {},
     "output_type": "execute_result"
    }
   ],
   "source": [
    "# function for finding realestate at all locatios\n",
    "import collections\n",
    "def count_realestate_and_location(location_name):\n",
    "    realestate_location_type = {}\n",
    "    list_realestate = []\n",
    "    for item in realestate_kh_list:\n",
    "        if item['location'] == location_name:\n",
    "            list_realestate.append(item['type'])\n",
    "    realestate_location_type = {i:list_realestate.count(i) for i in list_realestate}\n",
    "    if None in realestate_location_type:\n",
    "        realestate_location_type.pop(None)\n",
    "    if 'CondoPOA' in realestate_location_type:\n",
    "        realestate_location_type.pop('CondoPOA')\n",
    "    if 'Residential Property' in realestate_location_type:\n",
    "        realestate_location_type.pop('Residential Property')\n",
    "    if 'LandPOA' in realestate_location_type:\n",
    "        realestate_location_type.pop('LandPOA')\n",
    "    if 'Serviced Apartment' in realestate_location_type:\n",
    "        realestate_location_type.pop('Serviced Apartment')\n",
    "    for realestate_type_check in realestate_type:\n",
    "\n",
    "        if realestate_type_check in realestate_location_type.keys():\n",
    "            pass\n",
    "        else:\n",
    "            realestate_location_type[realestate_type_check] =  0\n",
    "    if realestate_location_type:\n",
    "        result = dict(sorted(realestate_location_type.items()))\n",
    "        print(result)\n",
    "        return list(result.values())\n",
    "\n",
    "\n",
    "        \n",
    "count_realestate_and_location('Phnom Penh')\n",
    "# realestate_type"
   ]
  },
  {
   "cell_type": "code",
   "execution_count": 68,
   "id": "a3fe8868-368a-4ac9-b343-c239faeb0347",
   "metadata": {
    "tags": []
   },
   "outputs": [
    {
     "name": "stdout",
     "output_type": "stream",
     "text": [
      "{'Apartment': 0, 'Borey': 0, 'Condo': 0, 'Flat': 0, 'House': 0, 'Land': 0, 'Link': 0, 'Project': 0, 'Shophouse': 0, 'Studio': 0, 'Twin': 0, 'Villa': 0}\n"
     ]
    },
    {
     "data": {
      "text/plain": [
       "[0, 0, 0, 0, 0, 0, 0, 0, 0, 0, 0, 0]"
      ]
     },
     "execution_count": 68,
     "metadata": {},
     "output_type": "execute_result"
    }
   ],
   "source": [
    "count_realestate_and_location('Kampong Cham')\n"
   ]
  },
  {
   "cell_type": "code",
   "execution_count": 79,
   "id": "3fd6e52a-8f39-461c-919c-a24c9648629b",
   "metadata": {
    "tags": []
   },
   "outputs": [
    {
     "name": "stdout",
     "output_type": "stream",
     "text": [
      "{'Apartment': 0, 'Borey': 0, 'Condo': 0, 'Flat': 0, 'House': 1, 'Land': 2, 'Link': 0, 'Project': 0, 'Shophouse': 0, 'Studio': 0, 'Twin': 0, 'Villa': 1}\n",
      "{'Apartment': 0, 'Borey': 0, 'Condo': 0, 'Flat': 0, 'House': 6, 'Land': 0, 'Link': 0, 'Project': 0, 'Shophouse': 0, 'Studio': 0, 'Twin': 0, 'Villa': 0}\n",
      "{'Apartment': 0, 'Borey': 0, 'Condo': 0, 'Flat': 0, 'House': 0, 'Land': 0, 'Link': 0, 'Project': 0, 'Shophouse': 0, 'Studio': 0, 'Twin': 0, 'Villa': 0}\n",
      "{'Apartment': 1, 'Borey': 0, 'Condo': 0, 'Flat': 0, 'House': 1, 'Land': 1, 'Link': 0, 'Project': 0, 'Shophouse': 0, 'Studio': 0, 'Twin': 0, 'Villa': 0}\n",
      "{'Apartment': 0, 'Borey': 0, 'Condo': 0, 'Flat': 0, 'House': 4, 'Land': 10, 'Link': 0, 'Project': 0, 'Shophouse': 0, 'Studio': 0, 'Twin': 0, 'Villa': 2}\n",
      "{'Apartment': 0, 'Borey': 0, 'Condo': 0, 'Flat': 0, 'House': 4, 'Land': 0, 'Link': 0, 'Project': 0, 'Shophouse': 0, 'Studio': 0, 'Twin': 0, 'Villa': 0}\n",
      "{'Apartment': 0, 'Borey': 0, 'Condo': 0, 'Flat': 0, 'House': 4, 'Land': 15, 'Link': 0, 'Project': 0, 'Shophouse': 0, 'Studio': 0, 'Twin': 0, 'Villa': 2}\n",
      "{'Apartment': 5, 'Borey': 0, 'Condo': 0, 'Flat': 6, 'House': 29, 'Land': 23, 'Link': 4, 'Project': 0, 'Shophouse': 3, 'Studio': 0, 'Twin': 0, 'Villa': 5}\n",
      "{'Apartment': 0, 'Borey': 0, 'Condo': 0, 'Flat': 0, 'House': 1, 'Land': 1, 'Link': 0, 'Project': 0, 'Shophouse': 0, 'Studio': 0, 'Twin': 0, 'Villa': 1}\n",
      "{'Apartment': 0, 'Borey': 0, 'Condo': 0, 'Flat': 0, 'House': 0, 'Land': 0, 'Link': 0, 'Project': 0, 'Shophouse': 0, 'Studio': 0, 'Twin': 0, 'Villa': 0}\n",
      "{'Apartment': 0, 'Borey': 0, 'Condo': 0, 'Flat': 0, 'House': 0, 'Land': 0, 'Link': 0, 'Project': 0, 'Shophouse': 0, 'Studio': 0, 'Twin': 0, 'Villa': 0}\n",
      "{'Apartment': 22, 'Borey': 2, 'Condo': 158, 'Flat': 33, 'House': 194, 'Land': 53, 'Link': 12, 'Project': 5, 'Shophouse': 62, 'Studio': 1, 'Twin': 39, 'Villa': 76}\n",
      "{'Apartment': 0, 'Borey': 0, 'Condo': 0, 'Flat': 0, 'House': 0, 'Land': 0, 'Link': 0, 'Project': 0, 'Shophouse': 0, 'Studio': 0, 'Twin': 0, 'Villa': 0}\n",
      "{'Apartment': 0, 'Borey': 0, 'Condo': 0, 'Flat': 0, 'House': 0, 'Land': 0, 'Link': 0, 'Project': 0, 'Shophouse': 0, 'Studio': 0, 'Twin': 0, 'Villa': 0}\n",
      "{'Apartment': 0, 'Borey': 0, 'Condo': 0, 'Flat': 0, 'House': 0, 'Land': 0, 'Link': 0, 'Project': 0, 'Shophouse': 0, 'Studio': 0, 'Twin': 0, 'Villa': 0}\n",
      "{'Apartment': 0, 'Borey': 0, 'Condo': 0, 'Flat': 0, 'House': 0, 'Land': 0, 'Link': 0, 'Project': 0, 'Shophouse': 0, 'Studio': 0, 'Twin': 0, 'Villa': 0}\n",
      "{'Apartment': 3, 'Borey': 0, 'Condo': 3, 'Flat': 0, 'House': 77, 'Land': 37, 'Link': 0, 'Project': 0, 'Shophouse': 4, 'Studio': 0, 'Twin': 2, 'Villa': 14}\n",
      "{'Apartment': 0, 'Borey': 0, 'Condo': 0, 'Flat': 0, 'House': 0, 'Land': 0, 'Link': 0, 'Project': 0, 'Shophouse': 0, 'Studio': 0, 'Twin': 0, 'Villa': 0}\n",
      "{'Apartment': 0, 'Borey': 0, 'Condo': 0, 'Flat': 0, 'House': 0, 'Land': 0, 'Link': 0, 'Project': 0, 'Shophouse': 0, 'Studio': 0, 'Twin': 0, 'Villa': 0}\n",
      "{'Apartment': 0, 'Borey': 0, 'Condo': 0, 'Flat': 0, 'House': 1, 'Land': 2, 'Link': 0, 'Project': 0, 'Shophouse': 0, 'Studio': 0, 'Twin': 0, 'Villa': 0}\n",
      "{'Apartment': 0, 'Borey': 0, 'Condo': 0, 'Flat': 0, 'House': 0, 'Land': 0, 'Link': 0, 'Project': 0, 'Shophouse': 0, 'Studio': 0, 'Twin': 0, 'Villa': 0}\n",
      "{'Apartment': 0, 'Borey': 0, 'Condo': 0, 'Flat': 0, 'House': 0, 'Land': 0, 'Link': 0, 'Project': 0, 'Shophouse': 0, 'Studio': 0, 'Twin': 0, 'Villa': 0}\n",
      "{'Apartment': 0, 'Borey': 0, 'Condo': 0, 'Flat': 0, 'House': 1, 'Land': 1, 'Link': 0, 'Project': 0, 'Shophouse': 0, 'Studio': 0, 'Twin': 0, 'Villa': 2}\n",
      "{'Apartment': 0, 'Borey': 0, 'Condo': 0, 'Flat': 0, 'House': 0, 'Land': 0, 'Link': 0, 'Project': 0, 'Shophouse': 0, 'Studio': 0, 'Twin': 0, 'Villa': 0}\n",
      "{'Apartment': 0, 'Borey': 0, 'Condo': 0, 'Flat': 0, 'House': 1, 'Land': 0, 'Link': 0, 'Project': 0, 'Shophouse': 0, 'Studio': 0, 'Twin': 0, 'Villa': 0}\n"
     ]
    }
   ],
   "source": [
    "# get location to list\n",
    "\n",
    "locationArr = ['Banteay Meanchey','Battambang','Kampong Cham','Kampong Chhnang','Kampong Speu','Kampong Thom','Kampot','Kandal','Koh Kong','Kratié','Mondulkiri','Phnom Penh','Preah Vihear','Prey Veng','Pursat','Ratanakiri','Siem Reap','Preah Sihanouk','Stung Treng','Svay Rieng','Takéo','Oddar Meanchey','Kep','Pailin','Tboung Khmum']\n",
    "location_count_with_realestate_type = []\n",
    "for location in locationArr:\n",
    "    # print(\"\".join(str(count_realestate_and_location(location))))\n",
    "    data = {\"\".join(str(count_realestate_and_location(location)))}\n",
    "    # print(list(data))\n",
    "    # location_count_with_realestate_type.append(data)\n",
    "# location_count_with_realestate_type"
   ]
  },
  {
   "cell_type": "code",
   "execution_count": 73,
   "id": "63ba2124-1b75-46f2-b26d-7ff6f0acc466",
   "metadata": {
    "tags": []
   },
   "outputs": [
    {
     "ename": "ValueError",
     "evalue": "Shape of passed values is (1, 1), indices imply (1, 13)",
     "output_type": "error",
     "traceback": [
      "\u001b[1;31m---------------------------------------------------------------------------\u001b[0m",
      "\u001b[1;31mValueError\u001b[0m                                Traceback (most recent call last)",
      "\u001b[1;32m~\\AppData\\Local\\Temp\\ipykernel_13648\\2251373265.py\u001b[0m in \u001b[0;36m<module>\u001b[1;34m\u001b[0m\n\u001b[0;32m     26\u001b[0m      ]\n\u001b[0;32m     27\u001b[0m \u001b[1;33m\u001b[0m\u001b[0m\n\u001b[1;32m---> 28\u001b[1;33m \u001b[0mdf\u001b[0m\u001b[1;33m=\u001b[0m\u001b[0mpd\u001b[0m\u001b[1;33m.\u001b[0m\u001b[0mDataFrame\u001b[0m\u001b[1;33m(\u001b[0m\u001b[0mdata\u001b[0m\u001b[1;33m,\u001b[0m\u001b[0mcolumns\u001b[0m\u001b[1;33m=\u001b[0m\u001b[1;33m[\u001b[0m\u001b[1;34m\"Location\"\u001b[0m\u001b[1;33m,\u001b[0m\u001b[1;34m'Apartment'\u001b[0m\u001b[1;33m,\u001b[0m\u001b[1;34m'Borey'\u001b[0m\u001b[1;33m,\u001b[0m\u001b[1;34m'Condo'\u001b[0m\u001b[1;33m,\u001b[0m\u001b[1;34m'Flat'\u001b[0m\u001b[1;33m,\u001b[0m\u001b[1;34m'House'\u001b[0m\u001b[1;33m,\u001b[0m\u001b[1;34m'Land'\u001b[0m\u001b[1;33m,\u001b[0m\u001b[1;34m'Link'\u001b[0m\u001b[1;33m,\u001b[0m\u001b[1;34m'Project'\u001b[0m\u001b[1;33m,\u001b[0m\u001b[1;34m'Shophouse'\u001b[0m\u001b[1;33m,\u001b[0m\u001b[1;34m'Studio'\u001b[0m\u001b[1;33m,\u001b[0m\u001b[1;34m'Twin'\u001b[0m\u001b[1;33m,\u001b[0m \u001b[1;34m'Villa'\u001b[0m\u001b[1;33m]\u001b[0m\u001b[1;33m)\u001b[0m\u001b[1;33m\u001b[0m\u001b[1;33m\u001b[0m\u001b[0m\n\u001b[0m\u001b[0;32m     29\u001b[0m \u001b[1;33m\u001b[0m\u001b[0m\n\u001b[0;32m     30\u001b[0m \u001b[0mdf\u001b[0m\u001b[1;33m.\u001b[0m\u001b[0mplot\u001b[0m\u001b[1;33m(\u001b[0m\u001b[0mx\u001b[0m\u001b[1;33m=\u001b[0m\u001b[1;34m\"Location\"\u001b[0m\u001b[1;33m,\u001b[0m \u001b[0my\u001b[0m\u001b[1;33m=\u001b[0m\u001b[1;33m[\u001b[0m\u001b[1;34m'Apartment'\u001b[0m\u001b[1;33m,\u001b[0m\u001b[1;34m'Borey'\u001b[0m\u001b[1;33m,\u001b[0m\u001b[1;34m'Condo'\u001b[0m\u001b[1;33m,\u001b[0m\u001b[1;34m'Flat'\u001b[0m\u001b[1;33m,\u001b[0m\u001b[1;34m'House'\u001b[0m\u001b[1;33m,\u001b[0m\u001b[1;34m'Land'\u001b[0m\u001b[1;33m,\u001b[0m\u001b[1;34m'Link'\u001b[0m\u001b[1;33m,\u001b[0m\u001b[1;34m'Project'\u001b[0m\u001b[1;33m,\u001b[0m\u001b[1;34m'Shophouse'\u001b[0m\u001b[1;33m,\u001b[0m\u001b[1;34m'Studio'\u001b[0m\u001b[1;33m,\u001b[0m\u001b[1;34m'Twin'\u001b[0m\u001b[1;33m,\u001b[0m \u001b[1;34m'Villa'\u001b[0m\u001b[1;33m]\u001b[0m\u001b[1;33m,\u001b[0m \u001b[0mkind\u001b[0m\u001b[1;33m=\u001b[0m\u001b[1;34m\"bar\"\u001b[0m\u001b[1;33m,\u001b[0m\u001b[0mstacked\u001b[0m\u001b[1;33m=\u001b[0m\u001b[1;32mFalse\u001b[0m\u001b[1;33m,\u001b[0m\u001b[0mfigsize\u001b[0m\u001b[1;33m=\u001b[0m\u001b[1;33m(\u001b[0m\u001b[1;36m10\u001b[0m\u001b[1;33m,\u001b[0m\u001b[1;36m8\u001b[0m\u001b[1;33m)\u001b[0m\u001b[1;33m,\u001b[0m\u001b[0mrot\u001b[0m\u001b[1;33m=\u001b[0m\u001b[1;36m0\u001b[0m\u001b[1;33m)\u001b[0m\u001b[1;33m\u001b[0m\u001b[1;33m\u001b[0m\u001b[0m\n",
      "\u001b[1;32mc:\\users\\rax\\documents\\py_env_37\\lib\\site-packages\\pandas\\core\\frame.py\u001b[0m in \u001b[0;36m__init__\u001b[1;34m(self, data, index, columns, dtype, copy)\u001b[0m\n\u001b[0;32m    715\u001b[0m                         \u001b[0mdtype\u001b[0m\u001b[1;33m=\u001b[0m\u001b[0mdtype\u001b[0m\u001b[1;33m,\u001b[0m\u001b[1;33m\u001b[0m\u001b[1;33m\u001b[0m\u001b[0m\n\u001b[0;32m    716\u001b[0m                         \u001b[0mcopy\u001b[0m\u001b[1;33m=\u001b[0m\u001b[0mcopy\u001b[0m\u001b[1;33m,\u001b[0m\u001b[1;33m\u001b[0m\u001b[1;33m\u001b[0m\u001b[0m\n\u001b[1;32m--> 717\u001b[1;33m                         \u001b[0mtyp\u001b[0m\u001b[1;33m=\u001b[0m\u001b[0mmanager\u001b[0m\u001b[1;33m,\u001b[0m\u001b[1;33m\u001b[0m\u001b[1;33m\u001b[0m\u001b[0m\n\u001b[0m\u001b[0;32m    718\u001b[0m                     )\n\u001b[0;32m    719\u001b[0m             \u001b[1;32melse\u001b[0m\u001b[1;33m:\u001b[0m\u001b[1;33m\u001b[0m\u001b[1;33m\u001b[0m\u001b[0m\n",
      "\u001b[1;32mc:\\users\\rax\\documents\\py_env_37\\lib\\site-packages\\pandas\\core\\internals\\construction.py\u001b[0m in \u001b[0;36mndarray_to_mgr\u001b[1;34m(values, index, columns, dtype, copy, typ)\u001b[0m\n\u001b[0;32m    322\u001b[0m     )\n\u001b[0;32m    323\u001b[0m \u001b[1;33m\u001b[0m\u001b[0m\n\u001b[1;32m--> 324\u001b[1;33m     \u001b[0m_check_values_indices_shape_match\u001b[0m\u001b[1;33m(\u001b[0m\u001b[0mvalues\u001b[0m\u001b[1;33m,\u001b[0m \u001b[0mindex\u001b[0m\u001b[1;33m,\u001b[0m \u001b[0mcolumns\u001b[0m\u001b[1;33m)\u001b[0m\u001b[1;33m\u001b[0m\u001b[1;33m\u001b[0m\u001b[0m\n\u001b[0m\u001b[0;32m    325\u001b[0m \u001b[1;33m\u001b[0m\u001b[0m\n\u001b[0;32m    326\u001b[0m     \u001b[1;32mif\u001b[0m \u001b[0mtyp\u001b[0m \u001b[1;33m==\u001b[0m \u001b[1;34m\"array\"\u001b[0m\u001b[1;33m:\u001b[0m\u001b[1;33m\u001b[0m\u001b[1;33m\u001b[0m\u001b[0m\n",
      "\u001b[1;32mc:\\users\\rax\\documents\\py_env_37\\lib\\site-packages\\pandas\\core\\internals\\construction.py\u001b[0m in \u001b[0;36m_check_values_indices_shape_match\u001b[1;34m(values, index, columns)\u001b[0m\n\u001b[0;32m    391\u001b[0m         \u001b[0mpassed\u001b[0m \u001b[1;33m=\u001b[0m \u001b[0mvalues\u001b[0m\u001b[1;33m.\u001b[0m\u001b[0mshape\u001b[0m\u001b[1;33m\u001b[0m\u001b[1;33m\u001b[0m\u001b[0m\n\u001b[0;32m    392\u001b[0m         \u001b[0mimplied\u001b[0m \u001b[1;33m=\u001b[0m \u001b[1;33m(\u001b[0m\u001b[0mlen\u001b[0m\u001b[1;33m(\u001b[0m\u001b[0mindex\u001b[0m\u001b[1;33m)\u001b[0m\u001b[1;33m,\u001b[0m \u001b[0mlen\u001b[0m\u001b[1;33m(\u001b[0m\u001b[0mcolumns\u001b[0m\u001b[1;33m)\u001b[0m\u001b[1;33m)\u001b[0m\u001b[1;33m\u001b[0m\u001b[1;33m\u001b[0m\u001b[0m\n\u001b[1;32m--> 393\u001b[1;33m         \u001b[1;32mraise\u001b[0m \u001b[0mValueError\u001b[0m\u001b[1;33m(\u001b[0m\u001b[1;34mf\"Shape of passed values is {passed}, indices imply {implied}\"\u001b[0m\u001b[1;33m)\u001b[0m\u001b[1;33m\u001b[0m\u001b[1;33m\u001b[0m\u001b[0m\n\u001b[0m\u001b[0;32m    394\u001b[0m \u001b[1;33m\u001b[0m\u001b[0m\n\u001b[0;32m    395\u001b[0m \u001b[1;33m\u001b[0m\u001b[0m\n",
      "\u001b[1;31mValueError\u001b[0m: Shape of passed values is (1, 1), indices imply (1, 13)"
     ]
    }
   ],
   "source": [
    "banteay_data=[[\"Banteay Meanchey\", 0, 0, 0, 0, 1, 2, 0, 0, 0, 0, 0, 1],\n",
    "      # ['Battambang', 0, 0, 0, 0, 6, 0, 0, 0, 0, 0, 0, 0],\n",
    "      # ['Kampong Cham', 0, 0, 0, 0, 0, 0, 0, 0, 0, 0, 0, 0],\n",
    "      # ['Kampong Chhnang', 1, 0, 0, 0, 1, 1, 0, 0, 0, 0, 0, 0],\n",
    "      # ['Kampong Speu', 0, 0, 0, 0, 4, 10, 0, 0, 0, 0, 0, 2],\n",
    "      # ['Kampong Thom', 0, 0, 0, 0, 4, 0, 0, 0, 0, 0, 0, 0],\n",
    "      # ['Kampot', 0, 0, 0, 0, 4, 15, 0, 0, 0, 0, 0, 2],\n",
    "      # ['Kandal', 5, 0, 0, 6, 29, 23, 4, 0, 3, 0, 0, 5],\n",
    "      # ['Koh Kong', 0, 0, 0, 0, 1, 1, 0, 0, 0, 0, 0, 1],\n",
    "      # ['Kratié', 0, 0, 0, 0, 0, 0, 0, 0, 0, 0, 0, 0],\n",
    "      # ['Mondulkiri', 0, 0, 0, 0, 0, 0, 0, 0, 0, 0, 0, 0],\n",
    "      # ['Phnom Penh', 22, 2, 158, 33, 194, 53, 12, 5, 62, 1, 39, 76],\n",
    "      # ['Preah Vihear', 0, 0, 0, 0, 0, 0, 0, 0, 0, 0, 0, 0],\n",
    "      # ['Prey Veng', 0, 0, 0, 0, 0, 0, 0, 0, 0, 0, 0, 0],\n",
    "      # ['Pursat', 0, 0, 0, 0, 0, 0, 0, 0, 0, 0, 0, 0],\n",
    "      # ['Ratanakiri', 0, 0, 0, 0, 0, 0, 0, 0, 0, 0, 0, 0],\n",
    "      # ['Siem Reap', 3, 0, 3, 0, 77, 37, 0, 0, 4, 0, 2, 14],\n",
    "      # ['Preah Sihanouk', 0, 0, 0, 0, 0, 0, 0, 0, 0, 0, 0, 0],\n",
    "      # ['Stung Treng', 0, 0, 0, 0, 0, 0, 0, 0, 0, 0, 0, 0],\n",
    "      # ['Svay Rieng', 0, 0, 0, 0, 1, 2, 0, 0, 0, 0, 0, 0],\n",
    "      # ['Takéo', 0, 0, 0, 0, 0, 0, 0, 0, 0, 0, 0, 0],\n",
    "      # ['Oddar Meanchey', 0, 0, 0, 0, 0, 0, 0, 0, 0, 0, 0, 0],\n",
    "      # ['Kep', 0, 0, 0, 0, 1, 1, 0, 0, 0, 0, 0, 2],\n",
    "      # ['Pailin', 0, 0, 0, 0, 0, 0, 0, 0, 0, 0, 0, 0],\n",
    "      # ['Tboung Khmum', 0, 0, 0, 0, 1, 0, 0, 0, 0, 0, 0, 0]\n",
    "     ]\n",
    "\n",
    "df=pd.DataFrame(data,columns=[\"Location\",'Apartment','Borey','Condo','Flat','House','Land','Link','Project','Shophouse','Studio','Twin', 'Villa'])\n",
    "\n",
    "df.plot(x=\"Location\", y=['Apartment','Borey','Condo','Flat','House','Land','Link','Project','Shophouse','Studio','Twin', 'Villa'], kind=\"bar\",stacked=False,figsize=(10,8),rot=0)\n",
    "\n",
    "# Show\n",
    "\n",
    "plt.show()\n"
   ]
  },
  {
   "cell_type": "code",
   "execution_count": 76,
   "id": "7e506c73-b5f0-4b65-8082-3520ff5c5885",
   "metadata": {
    "tags": []
   },
   "outputs": [
    {
     "name": "stdout",
     "output_type": "stream",
     "text": [
      "[0, 0, 0, 0, 1, 2, 0, 0, 0, 0, 0, 1]\n",
      "[0, 0, 0, 0, 6, 0, 0, 0, 0, 0, 0, 0]\n",
      "[0, 0, 0, 0, 0, 0, 0, 0, 0, 0, 0, 0]\n",
      "[1, 0, 0, 0, 1, 1, 0, 0, 0, 0, 0, 0]\n",
      "[0, 0, 0, 0, 4, 10, 0, 0, 0, 0, 0, 2]\n",
      "[0, 0, 0, 0, 4, 0, 0, 0, 0, 0, 0, 0]\n",
      "[0, 0, 0, 0, 4, 15, 0, 0, 0, 0, 0, 2]\n",
      "[5, 0, 0, 6, 29, 23, 4, 0, 3, 0, 0, 5]\n",
      "[0, 0, 0, 0, 1, 1, 0, 0, 0, 0, 0, 1]\n",
      "[0, 0, 0, 0, 0, 0, 0, 0, 0, 0, 0, 0]\n",
      "[0, 0, 0, 0, 0, 0, 0, 0, 0, 0, 0, 0]\n",
      "[22, 2, 158, 33, 194, 53, 12, 5, 62, 1, 39, 76]\n",
      "[0, 0, 0, 0, 0, 0, 0, 0, 0, 0, 0, 0]\n",
      "[0, 0, 0, 0, 0, 0, 0, 0, 0, 0, 0, 0]\n",
      "[0, 0, 0, 0, 0, 0, 0, 0, 0, 0, 0, 0]\n",
      "[0, 0, 0, 0, 0, 0, 0, 0, 0, 0, 0, 0]\n",
      "[3, 0, 3, 0, 77, 37, 0, 0, 4, 0, 2, 14]\n",
      "[0, 0, 0, 0, 0, 0, 0, 0, 0, 0, 0, 0]\n",
      "[0, 0, 0, 0, 0, 0, 0, 0, 0, 0, 0, 0]\n",
      "[0, 0, 0, 0, 1, 2, 0, 0, 0, 0, 0, 0]\n",
      "[0, 0, 0, 0, 0, 0, 0, 0, 0, 0, 0, 0]\n",
      "[0, 0, 0, 0, 0, 0, 0, 0, 0, 0, 0, 0]\n",
      "[0, 0, 0, 0, 1, 1, 0, 0, 0, 0, 0, 2]\n",
      "[0, 0, 0, 0, 0, 0, 0, 0, 0, 0, 0, 0]\n",
      "[0, 0, 0, 0, 1, 0, 0, 0, 0, 0, 0, 0]\n"
     ]
    }
   ],
   "source": [
    "for test in location_count_with_realestate_type:\n",
    "    print((list(test)[0]))\n",
    "    # if list(test)[]\n",
    "    # banteay_data=[[\"Banteay Meanchey\", 0, 0, 0, 0, 1, 2, 0, 0, 0, 0, 0, 1],\n",
    "      # ['Battambang', 0, 0, 0, 0, 6, 0, 0, 0, 0, 0, 0, 0],\n",
    "      # ['Kampong Cham', 0, 0, 0, 0, 0, 0, 0, 0, 0, 0, 0, 0],\n",
    "      # ['Kampong Chhnang', 1, 0, 0, 0, 1, 1, 0, 0, 0, 0, 0, 0],\n",
    "      # ['Kampong Speu', 0, 0, 0, 0, 4, 10, 0, 0, 0, 0, 0, 2],\n",
    "      # ['Kampong Thom', 0, 0, 0, 0, 4, 0, 0, 0, 0, 0, 0, 0],\n",
    "      # ['Kampot', 0, 0, 0, 0, 4, 15, 0, 0, 0, 0, 0, 2],\n",
    "      # ['Kandal', 5, 0, 0, 6, 29, 23, 4, 0, 3, 0, 0, 5],\n",
    "      # ['Koh Kong', 0, 0, 0, 0, 1, 1, 0, 0, 0, 0, 0, 1],\n",
    "      # ['Kratié', 0, 0, 0, 0, 0, 0, 0, 0, 0, 0, 0, 0],\n",
    "      # ['Mondulkiri', 0, 0, 0, 0, 0, 0, 0, 0, 0, 0, 0, 0],\n",
    "      # ['Phnom Penh', 22, 2, 158, 33, 194, 53, 12, 5, 62, 1, 39, 76],\n",
    "      # ['Preah Vihear', 0, 0, 0, 0, 0, 0, 0, 0, 0, 0, 0, 0],\n",
    "      # ['Prey Veng', 0, 0, 0, 0, 0, 0, 0, 0, 0, 0, 0, 0],\n",
    "      # ['Pursat', 0, 0, 0, 0, 0, 0, 0, 0, 0, 0, 0, 0],\n",
    "      # ['Ratanakiri', 0, 0, 0, 0, 0, 0, 0, 0, 0, 0, 0, 0],\n",
    "      # ['Siem Reap', 3, 0, 3, 0, 77, 37, 0, 0, 4, 0, 2, 14],\n",
    "      # ['Preah Sihanouk', 0, 0, 0, 0, 0, 0, 0, 0, 0, 0, 0, 0],\n",
    "      # ['Stung Treng', 0, 0, 0, 0, 0, 0, 0, 0, 0, 0, 0, 0],\n",
    "      # ['Svay Rieng', 0, 0, 0, 0, 1, 2, 0, 0, 0, 0, 0, 0],\n",
    "      # ['Takéo', 0, 0, 0, 0, 0, 0, 0, 0, 0, 0, 0, 0],\n",
    "      # ['Oddar Meanchey', 0, 0, 0, 0, 0, 0, 0, 0, 0, 0, 0, 0],\n",
    "      # ['Kep', 0, 0, 0, 0, 1, 1, 0, 0, 0, 0, 0, 2],\n",
    "      # ['Pailin', 0, 0, 0, 0, 0, 0, 0, 0, 0, 0, 0, 0],\n",
    "      # ['Tboung Khmum', 0, 0, 0, 0, 1, 0, 0, 0, 0, 0, 0, 0]\n",
    "     # ]\n",
    "\n",
    "#     df=pd.DataFrame(data,columns=[\"Location\",'Apartment','Borey','Condo','Flat','House','Land','Link','Project','Shophouse','Studio','Twin', 'Villa'])\n",
    "\n",
    "#     df.plot(x=\"Location\", y=['Apartment','Borey','Condo','Flat','House','Land','Link','Project','Shophouse','Studio','Twin', 'Villa'], kind=\"bar\",stacked=False,figsize=(10,8),rot=0)\n",
    "\n",
    "#     # Show\n",
    "\n",
    "#     plt.show()\n"
   ]
  },
  {
   "cell_type": "code",
   "execution_count": null,
   "id": "137a4746-85d5-4175-b128-4f06fa1ba825",
   "metadata": {},
   "outputs": [],
   "source": []
  }
 ],
 "metadata": {
  "kernelspec": {
   "display_name": "Python 3 (ipykernel)",
   "language": "python",
   "name": "python3"
  },
  "language_info": {
   "codemirror_mode": {
    "name": "ipython",
    "version": 3
   },
   "file_extension": ".py",
   "mimetype": "text/x-python",
   "name": "python",
   "nbconvert_exporter": "python",
   "pygments_lexer": "ipython3",
   "version": "3.7.7"
  }
 },
 "nbformat": 4,
 "nbformat_minor": 5
}
