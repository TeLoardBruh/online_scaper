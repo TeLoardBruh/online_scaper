{
 "cells": [
  {
   "cell_type": "code",
   "execution_count": 84,
   "id": "de02f8d8-cf3e-4b23-863e-de126b6c9a9d",
   "metadata": {
    "tags": []
   },
   "outputs": [],
   "source": [
    "import matplotlib.pyplot as plt\n",
    "import numpy as np\n",
    "import pandas as pd\n",
    "import re\n",
    "from bs4 import BeautifulSoup as bs\n",
    "import requests\n",
    "from selenium import webdriver\n",
    "from webdriver_manager.chrome import ChromeDriverManager\n",
    "import time\n",
    "from pprint import pprint\n",
    "import json \n",
    "import itertools"
   ]
  },
  {
   "cell_type": "markdown",
   "id": "d11bc7f6-5828-4b43-aa5a-cd23985a00b7",
   "metadata": {},
   "source": [
    "## Explore data and structure of the website (Header structure)"
   ]
  },
  {
   "cell_type": "code",
   "execution_count": 18,
   "id": "d8caed0c-d231-4e32-a02d-886497f2cc30",
   "metadata": {
    "tags": []
   },
   "outputs": [],
   "source": [
    "url = 'https://www.realestate.com.kh/buy'\n",
    "headers = {'User-Agent': 'Mozilla/5.0 (Linux; Android 6.0; Nexus 5 Build/MRA58N) AppleWebKit/537.36 (KHTML, like Gecko) Chrome/105.0.0.0 Mobile Safari/537.36'}\n",
    "\n",
    "category_url = []\n",
    "\n",
    "response = requests.get(url, headers=headers)\n",
    "data = bs(response.content, 'html.parser')\n"
   ]
  },
  {
   "cell_type": "markdown",
   "id": "61770660-7c60-49e5-b475-f96145b27668",
   "metadata": {},
   "source": [
    "## Get locations list from the website"
   ]
  },
  {
   "cell_type": "code",
   "execution_count": 19,
   "id": "72f01394-91e2-4ef4-b555-051fd8d4b50a",
   "metadata": {
    "tags": []
   },
   "outputs": [
    {
     "data": {
      "text/plain": [
       "['Phnom Penh',\n",
       " 'Siem Reap',\n",
       " 'Sihanoukville',\n",
       " 'Kep',\n",
       " 'Kampot',\n",
       " 'Battambang',\n",
       " 'Kandal',\n",
       " 'Kampong Thom',\n",
       " 'Kampong Chhnang',\n",
       " 'Kampong Speu',\n",
       " 'Kampong Cham',\n",
       " 'Koh Kong',\n",
       " 'Pursat',\n",
       " 'Oddar Meanchey',\n",
       " 'Banteay Meanchey',\n",
       " 'Pailin',\n",
       " 'Kratie',\n",
       " 'Mondulkiri',\n",
       " 'Preah Vihear',\n",
       " 'Ratanakiri',\n",
       " 'Tboung Khmum',\n",
       " 'Svay Rieng',\n",
       " 'Takeo',\n",
       " 'Stung Treng',\n",
       " 'Prey Veng']"
      ]
     },
     "execution_count": 19,
     "metadata": {},
     "output_type": "execute_result"
    }
   ],
   "source": [
    "realestate_location = []\n",
    "get_lists_of_locations = data.find_all(class_='e1ope10j0 css-ib3p51')\n",
    "get_lists_of_locations\n",
    "\n",
    "for location in get_lists_of_locations:\n",
    "    realestate_location.append(location.get_text())\n",
    "realestate_location"
   ]
  },
  {
   "cell_type": "markdown",
   "id": "8446c24e-0e8b-41d4-8641-09cacc007cef",
   "metadata": {},
   "source": [
    "## Explore on pages listing item"
   ]
  },
  {
   "cell_type": "code",
   "execution_count": 46,
   "id": "1a0cb675-2e0d-44d3-888d-9b2792d88eec",
   "metadata": {
    "tags": []
   },
   "outputs": [],
   "source": [
    "# base_url: https://www.realestate.com.kh/buy/?page=2\n",
    "# items-container\n",
    "get_container_element = data.find_all(class_='item css-16n7mg5 eq4or9x0')"
   ]
  },
  {
   "cell_type": "code",
   "execution_count": 114,
   "id": "1b87e8c3-f604-4d01-af55-32ac3e9c2a22",
   "metadata": {
    "tags": []
   },
   "outputs": [
    {
     "data": {
      "text/plain": [
       "[[<div class=\"address\"><span class=\"location-pin\"></span>Chey Chumneah, Daun Penh, Phnom Penh</div>],\n",
       " [<div class=\"address\"><span class=\"location-pin\"></span>Preaek Lieb, Chroy Changvar, Phnom Penh</div>],\n",
       " [<div class=\"address\"><span class=\"location-pin\"></span> Sangkat Buon, Sihanoukville, Sihanoukville</div>],\n",
       " [<div class=\"address\"><span class=\"location-pin\"></span> Sangkat Bei, Sihanoukville, Sihanoukville</div>],\n",
       " [<div class=\"address\"><span class=\"location-pin\"></span> Sangkat Bei, Sihanoukville, Sihanoukville</div>],\n",
       " [<div class=\"address\"><span class=\"location-pin\"></span> <!-- -->BKK 1, Chamkarmon, Phnom Penh</div>],\n",
       " [<div class=\"address\"><span class=\"location-pin\"></span> <!-- -->Svay Dankum, Siem Reap, Siem Reap</div>],\n",
       " [<div class=\"address\"><span class=\"location-pin\"></span> Boeung Tumpun 2, Meanchey, Phnom Penh</div>],\n",
       " [<div class=\"address\"><span class=\"location-pin\"></span><span class=\"project-link\" role=\"button\" tabindex=\"0\">Platinum Coast</span></div>],\n",
       " [<div class=\"address\"><span class=\"location-pin\"></span> <!-- -->Tuek Thla, Sen Sok, Phnom Penh</div>],\n",
       " [<div class=\"address\"><span class=\"location-pin\"></span> <!-- -->Tonle Bassac, Chamkarmon, Phnom Penh</div>],\n",
       " [<div class=\"address\"><span class=\"location-pin\"></span> <!-- -->Tonle Bassac, Chamkarmon, Phnom Penh</div>],\n",
       " [<div class=\"address\"><span class=\"location-pin\"></span> <!-- -->Srah Chak, Daun Penh, Phnom Penh</div>],\n",
       " [<div class=\"address\"><span class=\"location-pin\"></span> <!-- -->306 , BKK 1, Chamkarmon, Phnom Penh</div>],\n",
       " [<div class=\"address\"><span class=\"location-pin\"></span> <!-- -->BKK 1, Chamkarmon, Phnom Penh</div>],\n",
       " [<div class=\"address\"><span class=\"location-pin\"></span> <!-- --> , Sangkat Buon, Sihanoukville, Sihanoukville</div>],\n",
       " [<div class=\"address\"><span class=\"location-pin\"></span> <!-- -->Khmuonh, Sen Sok, Phnom Penh</div>],\n",
       " [<div class=\"address\"><span class=\"location-pin\"></span><span class=\"project-link\" role=\"button\" tabindex=\"0\">LZ Sea View Residences</span></div>],\n",
       " [<div class=\"address\"><span class=\"location-pin\"></span> <!-- -->Nirouth, Chbar Ampov, Phnom Penh</div>],\n",
       " [<div class=\"address\"><span class=\"location-pin\"></span> <!-- -->Komai, Svay Dankum, Siem Reap, Siem Reap</div>]]"
      ]
     },
     "execution_count": 114,
     "metadata": {},
     "output_type": "execute_result"
    }
   ],
   "source": [
    "# address\n",
    "addresses = []\n",
    "for container_info in get_container_element:\n",
    "    addresses.append(container_info.find_all(class_='address'))\n",
    "addresses"
   ]
  },
  {
   "cell_type": "code",
   "execution_count": 64,
   "id": "77e46542-f017-4773-bd6d-73907fc78be8",
   "metadata": {
    "tags": []
   },
   "outputs": [],
   "source": [
    "# get name\n",
    "names = []\n",
    "for container_info in get_container_element:\n",
    "    names.append(container_info.find_all(class_='featured css-1omkpog e1jqslr40'))"
   ]
  },
  {
   "cell_type": "code",
   "execution_count": 48,
   "id": "77463627-ed8c-42fe-b4e8-6220e7680fc0",
   "metadata": {
    "collapsed": true,
    "jupyter": {
     "outputs_hidden": true
    },
    "tags": []
   },
   "outputs": [
    {
     "name": "stdout",
     "output_type": "stream",
     "text": [
      "\n",
      " ========================================= ========================================= \n",
      "\n",
      "[<div class=\"price\"><span class=\"value\" style=\"text-decoration:\">$52,000</span><span><div> </div><div class=\"percent listing\"> </div></span></div>]\n",
      "[<div class=\"price\"><span class=\"value\" style=\"text-decoration:\">$290,000</span><span><div> </div><div class=\"percent listing\"> </div></span></div>]\n",
      "[<div class=\"price\"><span class=\"value\" style=\"text-decoration:\">$45,000</span><span><div> </div><div class=\"percent listing\"> </div></span></div>]\n",
      "[<div class=\"price\"><span class=\"value\" style=\"text-decoration:\">$7,500,000</span><span><div> </div><div class=\"percent listing\"> </div></span></div>]\n",
      "[<div class=\"price\"><span class=\"value\" style=\"text-decoration:\">$1,500/m²</span><span><div> </div><div class=\"percent listing\"> </div></span></div>]\n",
      "[<div class=\"price\"><span class=\"value\" style=\"text-decoration:\">$85,496</span><span><div> </div><div class=\"percent\"> </div></span></div>,\n",
      " <div class=\"price\"><div class=\"old\"><span class=\"value\">$80,000</span><div class=\"priceDetails\">$2,600/m²</div></div></div>,\n",
      " <div class=\"price\"><div class=\"old\"><span class=\"value\">$85,496</span></div></div>,\n",
      " <div class=\"price\"><div class=\"old\"><span class=\"value\">$120,000</span><div class=\"priceDetails\">$1,500/m²</div></div></div>]\n",
      "[<div class=\"price\"><span class=\"value\" style=\"text-decoration:\">$86,478</span><span><div> </div><div class=\"percent\"> </div></span></div>,\n",
      " <div class=\"price\"><div class=\"old\"><span class=\"value\">$75,000</span></div></div>,\n",
      " <div class=\"price\"><div class=\"old\"><span class=\"value\">$86,478</span></div></div>,\n",
      " <div class=\"price\"><div class=\"old\"><span class=\"value\">$103,400</span></div></div>]\n",
      "[<div class=\"price under-market\"><span class=\"value\" style=\"text-decoration:line-through\">$115,112</span><span><div> $80,000</div><div class=\"percent listing\">SAVE 30.50%</div></span></div>]\n",
      "[<div class=\"price\"><span class=\"value\" style=\"text-decoration:\">$60,152</span><span><div> </div><div class=\"percent listing\"> </div></span></div>]\n",
      "[<div class=\"price\"><span class=\"value\" style=\"text-decoration:\">$77,164</span><span><div> </div><div class=\"percent\"> </div></span></div>,\n",
      " <div class=\"price\" style=\"display:flex;gap:5px\"><span class=\"value\" style=\"text-decoration:\">$650</span><span><div> </div><div class=\"percent\"> </div></span><div style=\"font-size:14px;font-weight:400\">per month</div></div>,\n",
      " <div class=\"price\"><div class=\"old\"><span class=\"value\">$68,000</span></div></div>,\n",
      " <div class=\"price\"><div class=\"old\"><span class=\"value\">$110,000</span><div class=\"priceDetails\">$2,000/m²</div></div></div>,\n",
      " <div class=\"price\"><div class=\"old\"><span class=\"value\">$120,000</span></div></div>]\n",
      "[<div class=\"price\"><span class=\"value\" style=\"text-decoration:\">$110,000</span><span><div> </div><div class=\"percent\"> </div></span></div>,\n",
      " <div class=\"price\"><div class=\"old\"><span class=\"value\">$110,000</span></div></div>,\n",
      " <div class=\"price\"><div class=\"old\"><span class=\"value\">$130,000</span></div></div>,\n",
      " <div class=\"price\"><div class=\"old\"><span class=\"value\">$140,000</span></div></div>]\n",
      "[<div class=\"price\"><span class=\"value\" style=\"text-decoration:\">$275,000</span><span><div> </div><div class=\"percent\"> </div></span></div>,\n",
      " <div class=\"price\"><div class=\"old\"><span class=\"value\">$275,000</span></div></div>,\n",
      " <div class=\"price\"><div class=\"old\"><span class=\"value\">$281,000</span><div class=\"priceDetails\">$3,602/m²</div></div></div>,\n",
      " <div class=\"price\"><div class=\"old\"><span class=\"value\">$283,000</span><div class=\"priceDetails\">$3,628/m²</div></div></div>]\n",
      "[<div class=\"price\"><span class=\"value\" style=\"text-decoration:\">$60,067</span><span><div> </div><div class=\"percent\"> </div></span></div>,\n",
      " <div class=\"price\"><div class=\"old\"><span class=\"value\">$56,298</span><div class=\"priceDetails\">$1,522/m²</div></div></div>,\n",
      " <div class=\"price\"><div class=\"old\"><span class=\"value\">$57,745</span><div class=\"priceDetails\">$1,527/m²</div></div></div>,\n",
      " <div class=\"price\"><div class=\"old\"><span class=\"value\">$59,480</span><div class=\"priceDetails\">$1,542/m²</div></div></div>]\n",
      "[<div class=\"price\"><span class=\"value\" style=\"text-decoration:\">$115,900</span><span><div> </div><div class=\"percent\"> </div></span></div>,\n",
      " <div class=\"price\"><div class=\"old\"><span class=\"value\">$70,000</span><div class=\"priceDetails\">$1,600/m²</div></div></div>,\n",
      " <div class=\"price\"><div class=\"old\"><span class=\"value\">$79,800</span><div class=\"priceDetails\">$1,800/m²</div></div></div>,\n",
      " <div class=\"price\"><div class=\"old\"><span class=\"value\">$80,000</span><div class=\"priceDetails\">$1,200/m²</div></div></div>]\n",
      "[<div class=\"price\"><span class=\"value\" style=\"text-decoration:\">$181,000</span><span><div> </div><div class=\"percent\"> </div></span></div>,\n",
      " <div class=\"price\" style=\"display:flex;gap:5px\"><span class=\"value\" style=\"text-decoration:\">$1,200</span><span><div> </div><div class=\"percent\"> </div></span><div style=\"font-size:14px;font-weight:400\">per month</div></div>,\n",
      " <div class=\"price\"><div class=\"old\"><span class=\"value\">$166,748</span><div class=\"priceDetails\">$2,565/m²</div></div></div>,\n",
      " <div class=\"price\"><div class=\"old\"><span class=\"value\">$167,800</span><div class=\"priceDetails\">$2,581/m²</div></div></div>,\n",
      " <div class=\"price\"><div class=\"old\"><span class=\"value\">$169,000</span><div class=\"priceDetails\">$2,600/m²</div></div></div>]\n",
      "[<div class=\"price\"><span class=\"value\" style=\"text-decoration:\">$73,000</span><span><div> </div><div class=\"percent\"> </div></span></div>,\n",
      " <div class=\"price\"><div class=\"old\"><span class=\"value\">$56,500</span><div class=\"priceDetails\">$1,732/m²</div></div></div>,\n",
      " <div class=\"price\"><div class=\"old\"><span class=\"value\">$72,895</span><div class=\"priceDetails\">$2,268/m²</div></div></div>,\n",
      " <div class=\"price\"><div class=\"old\"><span class=\"value\">$139,235</span><div class=\"priceDetails\">$2,093/m²</div></div></div>]\n",
      "[<div class=\"price\"><span class=\"value\" style=\"text-decoration:\">$185,000</span><span><div> </div><div class=\"percent\"> </div></span></div>,\n",
      " <div class=\"price\"><div class=\"old\"><span class=\"value\">$185,000</span><div class=\"priceDetails\">$1,300/m²</div></div></div>,\n",
      " <div class=\"price\"><div class=\"old\"><span class=\"value\">$250,000</span><div class=\"priceDetails\">$1,360/m²</div></div></div>,\n",
      " <div class=\"price\"><div class=\"old\"><span class=\"value\">$296,000</span><div class=\"priceDetails\">$1,338/m²</div></div></div>]\n",
      "[<div class=\"price\"><span class=\"value\" style=\"text-decoration:\">$136,000</span><span><div> </div><div class=\"percent listing\"> </div></span></div>]\n",
      "[<div class=\"price\"><span class=\"value\" style=\"text-decoration:\">$68,000</span><span><div> </div><div class=\"percent\"> </div></span></div>,\n",
      " <div class=\"price\"><div class=\"old\"><span class=\"value\">$60,000</span><div class=\"priceDetails\">$1,300/m²</div></div></div>,\n",
      " <div class=\"price\"><div class=\"old\"><span class=\"value\">$66,300</span></div></div>,\n",
      " <div class=\"price\"><div class=\"old\"><span class=\"value\">$70,000</span><div class=\"priceDetails\">$1,900/m²</div></div></div>]\n",
      "[<div class=\"price\"><span class=\"value\" style=\"text-decoration:\">$183,000</span><span><div> </div><div class=\"percent\"> </div></span></div>,\n",
      " <div class=\"price\"><div class=\"old\"><span class=\"value\">$178,000</span></div></div>,\n",
      " <div class=\"price\"><div class=\"old\"><span class=\"value\">$183,000</span></div></div>,\n",
      " <div class=\"price\"><div class=\"old\"><span class=\"value\">$198,000</span><div class=\"priceDetails\">$1,885/m²</div></div></div>]\n"
     ]
    }
   ],
   "source": [
    "# get price value\n",
    "print('\\n ========================================= ========================================= \\n')    \n",
    "for container_info in get_container_element:\n",
    "    pprint(container_info.find_all(class_='price'))"
   ]
  },
  {
   "cell_type": "code",
   "execution_count": 295,
   "id": "81bfc530-1d9e-48ee-848a-84079cf312d7",
   "metadata": {
    "collapsed": true,
    "jupyter": {
     "outputs_hidden": true
    },
    "tags": []
   },
   "outputs": [
    {
     "name": "stdout",
     "output_type": "stream",
     "text": [
      "\n",
      " ========================================= ========================================= \n",
      "\n",
      "[<div class=\"private\"><div class=\"feature\"><span class=\"icon\"></span> <span class=\"label\">Bedrooms: 1</span><span class=\"short-label\">1</span></div><div class=\"feature\"><span class=\"icon\"></span> <span class=\"label\">Bathrooms: 1</span><span class=\"short-label\">1</span></div><div class=\"feature\"><span class=\"icon\"></span> <span class=\"label\">Floor area: 35m²</span><span class=\"short-label\">35m²</span></div><div class=\"feature\"><span class=\"icon\"></span> <span class=\"label\">Floor level: 3</span><span class=\"short-label\">3</span></div></div>]\n",
      "[<div class=\"private\"><div class=\"feature\"><span class=\"icon\"></span> <span class=\"label\">Bedrooms: 4</span><span class=\"short-label\">4</span></div><div class=\"feature\"><span class=\"icon\"></span> <span class=\"label\">Bathrooms: 5</span><span class=\"short-label\">5</span></div></div>]\n",
      "[<div class=\"private\"><div class=\"feature\"><span class=\"icon\"></span> <span class=\"label\">Bedrooms: 1</span><span class=\"short-label\">1</span></div><div class=\"feature\"><span class=\"icon\"></span> <span class=\"label\">Bathrooms: 1</span><span class=\"short-label\">1</span></div><div class=\"feature\"><span class=\"icon\"></span> <span class=\"label\">Floor area: 35m²</span><span class=\"short-label\">35m²</span></div></div>]\n",
      "[<div class=\"private\"><div class=\"feature\"><span class=\"icon\"></span> <span class=\"label\">Land area: 1025m²</span><span class=\"short-label\">1025m²</span></div></div>]\n",
      "[<div class=\"private\"><div class=\"feature\"><span class=\"icon\"></span> <span class=\"label\">Land area: 1593m²</span><span class=\"short-label\">1593m²</span></div></div>]\n",
      "[<div class=\"private\"><div class=\"feature\"><span class=\"icon\"></span> <span class=\"label\">Bedrooms: 1 to 6</span><span class=\"short-label\">1 to 6</span></div><div class=\"feature\"><span class=\"icon\"></span> <span class=\"label\">Floor area: 39 to 1068m²</span><span class=\"short-label\">39 to 1068m²</span></div></div>,\n",
      " <div class=\"private\"><div class=\"feature\"><span class=\"icon\"></span> <span class=\"label\">1</span><span class=\"short-label\">1</span></div><div class=\"feature\"><span class=\"icon\"></span> <span class=\"label\">1</span><span class=\"short-label\">1</span></div><div class=\"feature\"><span class=\"icon\"></span> <span class=\"label\">39m²</span><span class=\"short-label\">39m²</span></div><div class=\"feature\"><span class=\"icon\"></span> <span class=\"label\">7</span><span class=\"short-label\">7</span></div><div class=\"feature\"><span class=\"icon\"></span> <span class=\"label\">N</span><span class=\"short-label\">N</span></div></div>]\n",
      "[<div class=\"private\"><div class=\"feature\"><span class=\"icon\"></span> <span class=\"label\">Bedrooms: 1 to 3</span><span class=\"short-label\">1 to 3</span></div><div class=\"feature\"><span class=\"icon\"></span> <span class=\"label\">Floor area: 32 to 136m²</span><span class=\"short-label\">32 to 136m²</span></div></div>,\n",
      " <div class=\"private\"><div class=\"feature\"><span class=\"icon\"></span> <span class=\"label\">1</span><span class=\"short-label\">1</span></div><div class=\"feature\"><span class=\"icon\"></span> <span class=\"label\">1</span><span class=\"short-label\">1</span></div><div class=\"feature\"><span class=\"icon\"></span> <span class=\"label\">32m²</span><span class=\"short-label\">32m²</span></div><div class=\"feature\"><span class=\"icon\"></span> <span class=\"label\">6000m²</span><span class=\"short-label\">6000m²</span></div><div class=\"feature\"><span class=\"icon\"></span> <span class=\"label\">2</span><span class=\"short-label\">2</span></div></div>,\n",
      " <div class=\"private\"><div class=\"feature\"><span class=\"icon\"></span> <span class=\"label\">1</span><span class=\"short-label\">1</span></div><div class=\"feature\"><span class=\"icon\"></span> <span class=\"label\">1</span><span class=\"short-label\">1</span></div><div class=\"feature\"><span class=\"icon\"></span> <span class=\"label\">32m²</span><span class=\"short-label\">32m²</span></div></div>,\n",
      " <div class=\"private\"><div class=\"feature\"><span class=\"icon\"></span> <span class=\"label\">1</span><span class=\"short-label\">1</span></div><div class=\"feature\"><span class=\"icon\"></span> <span class=\"label\">1</span><span class=\"short-label\">1</span></div><div class=\"feature\"><span class=\"icon\"></span> <span class=\"label\">47m²</span><span class=\"short-label\">47m²</span></div><div class=\"feature\"><span class=\"icon\"></span> <span class=\"label\">1</span><span class=\"short-label\">1</span></div><div class=\"feature\"><span class=\"icon\"></span> <span class=\"label\">S</span><span class=\"short-label\">S</span></div></div>]\n",
      "[<div class=\"private\"><div class=\"feature\"><span class=\"icon\"></span> <span class=\"label\">Bedrooms: 1</span><span class=\"short-label\">1</span></div><div class=\"feature\"><span class=\"icon\"></span> <span class=\"label\">Bathrooms: 1</span><span class=\"short-label\">1</span></div><div class=\"feature\"><span class=\"icon\"></span> <span class=\"label\">Car spaces: 1</span><span class=\"short-label\">1</span></div><div class=\"feature\"><span class=\"icon\"></span> <span class=\"label\">Floor area: 55m²</span><span class=\"short-label\">55m²</span></div><div class=\"feature\"><span class=\"icon\"></span> <span class=\"label\">Floor level: 30</span><span class=\"short-label\">30</span></div><div class=\"feature\"><span class=\"icon\"></span> <span class=\"label\">Facing: S</span><span class=\"short-label\">S</span></div></div>]\n",
      "[<div class=\"private\"><div class=\"feature\"><span class=\"icon\"></span> <span class=\"label\">Bedrooms: 1</span><span class=\"short-label\">1</span></div><div class=\"feature\"><span class=\"icon\"></span> <span class=\"label\">Bathrooms: 1</span><span class=\"short-label\">1</span></div><div class=\"feature\"><span class=\"icon\"></span> <span class=\"label\">Floor area: 35m²</span><span class=\"short-label\">35m²</span></div></div>]\n",
      "[<div class=\"private\"><div class=\"feature\"><span class=\"icon\"></span> <span class=\"label\">Bedrooms: 1 to 3</span><span class=\"short-label\">1 to 3</span></div><div class=\"feature\"><span class=\"icon\"></span> <span class=\"label\">Floor area: 30 to 127m²</span><span class=\"short-label\">30 to 127m²</span></div></div>,\n",
      " <div class=\"private\"><div class=\"feature\"><span class=\"icon\"></span> <span class=\"label\">1</span><span class=\"short-label\">1</span></div><div class=\"feature\"><span class=\"icon\"></span> <span class=\"label\">1</span><span class=\"short-label\">1</span></div><div class=\"feature\"><span class=\"icon\"></span> <span class=\"label\">1</span><span class=\"short-label\">1</span></div><div class=\"feature\"><span class=\"icon\"></span> <span class=\"label\">30m²</span><span class=\"short-label\">30m²</span></div><div class=\"feature\"><span class=\"icon\"></span> <span class=\"label\">8</span><span class=\"short-label\">8</span></div></div>,\n",
      " <div class=\"private\"><div class=\"feature\"><span class=\"icon\"></span> <span class=\"label\">1</span><span class=\"short-label\">1</span></div><div class=\"feature\"><span class=\"icon\"></span> <span class=\"label\">1</span><span class=\"short-label\">1</span></div><div class=\"feature\"><span class=\"icon\"></span> <span class=\"label\">1</span><span class=\"short-label\">1</span></div><div class=\"feature\"><span class=\"icon\"></span> <span class=\"label\">54m²</span><span class=\"short-label\">54m²</span></div><div class=\"feature\"><span class=\"icon\"></span> <span class=\"label\">8</span><span class=\"short-label\">8</span></div><div class=\"feature\"><span class=\"icon\"></span> <span class=\"label\">S</span><span class=\"short-label\">S</span></div></div>,\n",
      " <div class=\"private\"><div class=\"feature\"><span class=\"icon\"></span> <span class=\"label\">1</span><span class=\"short-label\">1</span></div><div class=\"feature\"><span class=\"icon\"></span> <span class=\"label\">1</span><span class=\"short-label\">1</span></div><div class=\"feature\"><span class=\"icon\"></span> <span class=\"label\">53m²</span><span class=\"short-label\">53m²</span></div><div class=\"feature\"><span class=\"icon\"></span> <span class=\"label\">7</span><span class=\"short-label\">7</span></div></div>]\n",
      "[<div class=\"private\"><div class=\"feature\"><span class=\"icon\"></span> <span class=\"label\">Bedrooms: 1 to 3</span><span class=\"short-label\">1 to 3</span></div><div class=\"feature\"><span class=\"icon\"></span> <span class=\"label\">Floor area: 59 to 169m²</span><span class=\"short-label\">59 to 169m²</span></div></div>,\n",
      " <div class=\"private\"><div class=\"feature\"><span class=\"icon\"></span> <span class=\"label\">1</span><span class=\"short-label\">1</span></div><div class=\"feature\"><span class=\"icon\"></span> <span class=\"label\">1</span><span class=\"short-label\">1</span></div><div class=\"feature\"><span class=\"icon\"></span> <span class=\"label\">62m²</span><span class=\"short-label\">62m²</span></div></div>,\n",
      " <div class=\"private\"><div class=\"feature\"><span class=\"icon\"></span> <span class=\"label\">1</span><span class=\"short-label\">1</span></div><div class=\"feature\"><span class=\"icon\"></span> <span class=\"label\">1</span><span class=\"short-label\">1</span></div><div class=\"feature\"><span class=\"icon\"></span> <span class=\"label\">60m²</span><span class=\"short-label\">60m²</span></div></div>,\n",
      " <div class=\"private\"><div class=\"feature\"><span class=\"icon\"></span> <span class=\"label\">2</span><span class=\"short-label\">2</span></div><div class=\"feature\"><span class=\"icon\"></span> <span class=\"label\">1</span><span class=\"short-label\">1</span></div><div class=\"feature\"><span class=\"icon\"></span> <span class=\"label\">75m²</span><span class=\"short-label\">75m²</span></div></div>]\n",
      "[<div class=\"private\"><div class=\"feature\"><span class=\"icon\"></span> <span class=\"label\">Bedrooms: 1 to 3</span><span class=\"short-label\">1 to 3</span></div><div class=\"feature\"><span class=\"icon\"></span> <span class=\"label\">Floor area: 78 to 196m²</span><span class=\"short-label\">78 to 196m²</span></div></div>,\n",
      " <div class=\"private\"><div class=\"feature\"><span class=\"icon\"></span> <span class=\"label\">1</span><span class=\"short-label\">1</span></div><div class=\"feature\"><span class=\"icon\"></span> <span class=\"label\">1</span><span class=\"short-label\">1</span></div><div class=\"feature\"><span class=\"icon\"></span> <span class=\"label\">78m²</span><span class=\"short-label\">78m²</span></div><div class=\"feature\"><span class=\"icon\"></span> <span class=\"label\">N/E</span><span class=\"short-label\">N/E</span></div></div>,\n",
      " <div class=\"private\"><div class=\"feature\"><span class=\"icon\"></span> <span class=\"label\">1</span><span class=\"short-label\">1</span></div><div class=\"feature\"><span class=\"icon\"></span> <span class=\"label\">1</span><span class=\"short-label\">1</span></div><div class=\"feature\"><span class=\"icon\"></span> <span class=\"label\">78m²</span><span class=\"short-label\">78m²</span></div></div>,\n",
      " <div class=\"private\"><div class=\"feature\"><span class=\"icon\"></span> <span class=\"label\">1</span><span class=\"short-label\">1</span></div><div class=\"feature\"><span class=\"icon\"></span> <span class=\"label\">1</span><span class=\"short-label\">1</span></div><div class=\"feature\"><span class=\"icon\"></span> <span class=\"label\">78m²</span><span class=\"short-label\">78m²</span></div></div>]\n",
      "[<div class=\"private\"><div class=\"feature\"><span class=\"icon\"></span> <span class=\"label\">Bedrooms: 1 to 2</span><span class=\"short-label\">1 to 2</span></div><div class=\"feature\"><span class=\"icon\"></span> <span class=\"label\">Floor area: 37 to 91m²</span><span class=\"short-label\">37 to 91m²</span></div></div>,\n",
      " <div class=\"private\"><div class=\"feature\"><span class=\"icon\"></span> <span class=\"label\">1</span><span class=\"short-label\">1</span></div><div class=\"feature\"><span class=\"icon\"></span> <span class=\"label\">1</span><span class=\"short-label\">1</span></div><div class=\"feature\"><span class=\"icon\"></span> <span class=\"label\">37m²</span><span class=\"short-label\">37m²</span></div></div>,\n",
      " <div class=\"private\"><div class=\"feature\"><span class=\"icon\"></span> <span class=\"label\">1</span><span class=\"short-label\">1</span></div><div class=\"feature\"><span class=\"icon\"></span> <span class=\"label\">1</span><span class=\"short-label\">1</span></div><div class=\"feature\"><span class=\"icon\"></span> <span class=\"label\">37m²</span><span class=\"short-label\">37m²</span></div></div>,\n",
      " <div class=\"private\"><div class=\"feature\"><span class=\"icon\"></span> <span class=\"label\">1</span><span class=\"short-label\">1</span></div><div class=\"feature\"><span class=\"icon\"></span> <span class=\"label\">1</span><span class=\"short-label\">1</span></div><div class=\"feature\"><span class=\"icon\"></span> <span class=\"label\">38m²</span><span class=\"short-label\">38m²</span></div></div>]\n",
      "[<div class=\"private\"><div class=\"feature\"><span class=\"icon\"></span> <span class=\"label\">Bedrooms: 1 to 2</span><span class=\"short-label\">1 to 2</span></div><div class=\"feature\"><span class=\"icon\"></span> <span class=\"label\">Floor area: 43 to 1600m²</span><span class=\"short-label\">43 to 1600m²</span></div></div>,\n",
      " <div class=\"private\"><div class=\"feature\"><span class=\"icon\"></span> <span class=\"label\">1</span><span class=\"short-label\">1</span></div><div class=\"feature\"><span class=\"icon\"></span> <span class=\"label\">1</span><span class=\"short-label\">1</span></div><div class=\"feature\"><span class=\"icon\"></span> <span class=\"label\">1</span><span class=\"short-label\">1</span></div><div class=\"feature\"><span class=\"icon\"></span> <span class=\"label\">1m²</span><span class=\"short-label\">1m²</span></div><div class=\"feature\"><span class=\"icon\"></span> <span class=\"label\">950m²</span><span class=\"short-label\">950m²</span></div><div class=\"feature\"><span class=\"icon\"></span> <span class=\"label\">1</span><span class=\"short-label\">1</span></div></div>,\n",
      " <div class=\"private\"><div class=\"feature\"><span class=\"icon\"></span> <span class=\"label\">1</span><span class=\"short-label\">1</span></div><div class=\"feature\"><span class=\"icon\"></span> <span class=\"label\">1</span><span class=\"short-label\">1</span></div><div class=\"feature\"><span class=\"icon\"></span> <span class=\"label\">50m²</span><span class=\"short-label\">50m²</span></div></div>,\n",
      " <div class=\"private\"><div class=\"feature\"><span class=\"icon\"></span> <span class=\"label\">1</span><span class=\"short-label\">1</span></div><div class=\"feature\"><span class=\"icon\"></span> <span class=\"label\">1</span><span class=\"short-label\">1</span></div></div>]\n",
      "[<div class=\"private\"><div class=\"feature\"><span class=\"icon\"></span> <span class=\"label\">Bedrooms: 2 to 3</span><span class=\"short-label\">2 to 3</span></div><div class=\"feature\"><span class=\"icon\"></span> <span class=\"label\">Floor area: 65 to 153m²</span><span class=\"short-label\">65 to 153m²</span></div></div>,\n",
      " <div class=\"private\"><div class=\"feature\"><span class=\"icon\"></span> <span class=\"label\">2</span><span class=\"short-label\">2</span></div><div class=\"feature\"><span class=\"icon\"></span> <span class=\"label\">2</span><span class=\"short-label\">2</span></div><div class=\"feature\"><span class=\"icon\"></span> <span class=\"label\">65m²</span><span class=\"short-label\">65m²</span></div><div class=\"feature\"><span class=\"icon\"></span> <span class=\"label\">19</span><span class=\"short-label\">19</span></div></div>,\n",
      " <div class=\"private\"><div class=\"feature\"><span class=\"icon\"></span> <span class=\"label\">2</span><span class=\"short-label\">2</span></div><div class=\"feature\"><span class=\"icon\"></span> <span class=\"label\">2</span><span class=\"short-label\">2</span></div><div class=\"feature\"><span class=\"icon\"></span> <span class=\"label\">1</span><span class=\"short-label\">1</span></div><div class=\"feature\"><span class=\"icon\"></span> <span class=\"label\">11</span><span class=\"short-label\">11</span></div><div class=\"feature\"><span class=\"icon\"></span> <span class=\"label\">S</span><span class=\"short-label\">S</span></div></div>,\n",
      " <div class=\"private\"><div class=\"feature\"><span class=\"icon\"></span> <span class=\"label\">2</span><span class=\"short-label\">2</span></div><div class=\"feature\"><span class=\"icon\"></span> <span class=\"label\">2</span><span class=\"short-label\">2</span></div><div class=\"feature\"><span class=\"icon\"></span> <span class=\"label\">1</span><span class=\"short-label\">1</span></div><div class=\"feature\"><span class=\"icon\"></span> <span class=\"label\">65m²</span><span class=\"short-label\">65m²</span></div><div class=\"feature\"><span class=\"icon\"></span> <span class=\"label\">18</span><span class=\"short-label\">18</span></div><div class=\"feature\"><span class=\"icon\"></span> <span class=\"label\">S</span><span class=\"short-label\">S</span></div></div>]\n",
      "[<div class=\"private\"><div class=\"feature\"><span class=\"icon\"></span> <span class=\"label\">1</span><span class=\"short-label\">1</span></div><div class=\"feature\"><span class=\"icon\"></span> <span class=\"label\">Floor area: 32 to 66m²</span><span class=\"short-label\">32 to 66m²</span></div></div>,\n",
      " <div class=\"private\"><div class=\"feature\"><span class=\"icon\"></span> <span class=\"label\">1</span><span class=\"short-label\">1</span></div><div class=\"feature\"><span class=\"icon\"></span> <span class=\"label\">1</span><span class=\"short-label\">1</span></div><div class=\"feature\"><span class=\"icon\"></span> <span class=\"label\">1</span><span class=\"short-label\">1</span></div><div class=\"feature\"><span class=\"icon\"></span> <span class=\"label\">33m²</span><span class=\"short-label\">33m²</span></div><div class=\"feature\"><span class=\"icon\"></span> <span class=\"label\">33m²</span><span class=\"short-label\">33m²</span></div><div class=\"feature\"><span class=\"icon\"></span> <span class=\"label\">10</span><span class=\"short-label\">10</span></div></div>,\n",
      " <div class=\"private\"><div class=\"feature\"><span class=\"icon\"></span> <span class=\"label\">1</span><span class=\"short-label\">1</span></div><div class=\"feature\"><span class=\"icon\"></span> <span class=\"label\">1</span><span class=\"short-label\">1</span></div><div class=\"feature\"><span class=\"icon\"></span> <span class=\"label\">33m²</span><span class=\"short-label\">33m²</span></div></div>,\n",
      " <div class=\"private\"><div class=\"feature\"><span class=\"icon\"></span> <span class=\"label\">1</span><span class=\"short-label\">1</span></div><div class=\"feature\"><span class=\"icon\"></span> <span class=\"label\">1</span><span class=\"short-label\">1</span></div><div class=\"feature\"><span class=\"icon\"></span> <span class=\"label\">66m²</span><span class=\"short-label\">66m²</span></div></div>]\n",
      "[<div class=\"private\"><div class=\"feature\"><span class=\"icon\"></span> <span class=\"label\">Bedrooms: 4 to 7</span><span class=\"short-label\">4 to 7</span></div><div class=\"feature\"><span class=\"icon\"></span> <span class=\"label\">Floor area: 143 to 624m²</span><span class=\"short-label\">143 to 624m²</span></div></div>,\n",
      " <div class=\"private\"><div class=\"feature\"><span class=\"icon\"></span> <span class=\"label\">4</span><span class=\"short-label\">4</span></div><div class=\"feature\"><span class=\"icon\"></span> <span class=\"label\">5</span><span class=\"short-label\">5</span></div><div class=\"feature\"><span class=\"icon\"></span> <span class=\"label\">2</span><span class=\"short-label\">2</span></div><div class=\"feature\"><span class=\"icon\"></span> <span class=\"label\">143m²</span><span class=\"short-label\">143m²</span></div><div class=\"feature\"><span class=\"icon\"></span> <span class=\"label\">76m²</span><span class=\"short-label\">76m²</span></div></div>,\n",
      " <div class=\"private\"><div class=\"feature\"><span class=\"icon\"></span> <span class=\"label\">4</span><span class=\"short-label\">4</span></div><div class=\"feature\"><span class=\"icon\"></span> <span class=\"label\">5</span><span class=\"short-label\">5</span></div><div class=\"feature\"><span class=\"icon\"></span> <span class=\"label\">2</span><span class=\"short-label\">2</span></div><div class=\"feature\"><span class=\"icon\"></span> <span class=\"label\">189m²</span><span class=\"short-label\">189m²</span></div><div class=\"feature\"><span class=\"icon\"></span> <span class=\"label\">105m²</span><span class=\"short-label\">105m²</span></div></div>,\n",
      " <div class=\"private\"><div class=\"feature\"><span class=\"icon\"></span> <span class=\"label\">4</span><span class=\"short-label\">4</span></div><div class=\"feature\"><span class=\"icon\"></span> <span class=\"label\">6</span><span class=\"short-label\">6</span></div><div class=\"feature\"><span class=\"icon\"></span> <span class=\"label\">2</span><span class=\"short-label\">2</span></div><div class=\"feature\"><span class=\"icon\"></span> <span class=\"label\">221m²</span><span class=\"short-label\">221m²</span></div><div class=\"feature\"><span class=\"icon\"></span> <span class=\"label\">105m²</span><span class=\"short-label\">105m²</span></div><div class=\"feature\"><span class=\"icon\"></span> <span class=\"label\">S</span><span class=\"short-label\">S</span></div></div>]\n",
      "[<div class=\"private\"><div class=\"feature\"><span class=\"icon\"></span> <span class=\"label\">Bedrooms: 2</span><span class=\"short-label\">2</span></div><div class=\"feature\"><span class=\"icon\"></span> <span class=\"label\">Bathrooms: 2</span><span class=\"short-label\">2</span></div><div class=\"feature\"><span class=\"icon\"></span> <span class=\"label\">Floor area: 68m²</span><span class=\"short-label\">68m²</span></div></div>]\n",
      "[<div class=\"private\"><div class=\"feature\"><span class=\"icon\"></span> <span class=\"label\">Bedrooms: 1 to 4</span><span class=\"short-label\">1 to 4</span></div><div class=\"feature\"><span class=\"icon\"></span> <span class=\"label\">Floor area: 32 to 1800m²</span><span class=\"short-label\">32 to 1800m²</span></div></div>,\n",
      " <div class=\"private\"><div class=\"feature\"><span class=\"icon\"></span> <span class=\"label\">1</span><span class=\"short-label\">1</span></div><div class=\"feature\"><span class=\"icon\"></span> <span class=\"label\">1</span><span class=\"short-label\">1</span></div><div class=\"feature\"><span class=\"icon\"></span> <span class=\"label\">45m²</span><span class=\"short-label\">45m²</span></div><div class=\"feature\"><span class=\"icon\"></span> <span class=\"label\">6</span><span class=\"short-label\">6</span></div></div>,\n",
      " <div class=\"private\"><div class=\"feature\"><span class=\"icon\"></span> <span class=\"label\">1</span><span class=\"short-label\">1</span></div><div class=\"feature\"><span class=\"icon\"></span> <span class=\"label\">1</span><span class=\"short-label\">1</span></div><div class=\"feature\"><span class=\"icon\"></span> <span class=\"label\">1</span><span class=\"short-label\">1</span></div><div class=\"feature\"><span class=\"icon\"></span> <span class=\"label\">1800m²</span><span class=\"short-label\">1800m²</span></div><div class=\"feature\"><span class=\"icon\"></span> <span class=\"label\">5358m²</span><span class=\"short-label\">5358m²</span></div><div class=\"feature\"><span class=\"icon\"></span> <span class=\"label\">38</span><span class=\"short-label\">38</span></div></div>]\n",
      "[<div class=\"private\"><div class=\"feature\"><span class=\"icon\"></span> <span class=\"label\">Bedrooms: 1 to 4</span><span class=\"short-label\">1 to 4</span></div><div class=\"feature\"><span class=\"icon\"></span> <span class=\"label\">Floor area: 105 to 272m²</span><span class=\"short-label\">105 to 272m²</span></div></div>,\n",
      " <div class=\"private\"><div class=\"feature\"><span class=\"icon\"></span> <span class=\"label\">2</span><span class=\"short-label\">2</span></div><div class=\"feature\"><span class=\"icon\"></span> <span class=\"label\">2</span><span class=\"short-label\">2</span></div><div class=\"feature\"><span class=\"icon\"></span> <span class=\"label\">120m²</span><span class=\"short-label\">120m²</span></div></div>,\n",
      " <div class=\"private\"><div class=\"feature\"><span class=\"icon\"></span> <span class=\"label\">2</span><span class=\"short-label\">2</span></div><div class=\"feature\"><span class=\"icon\"></span> <span class=\"label\">2</span><span class=\"short-label\">2</span></div><div class=\"feature\"><span class=\"icon\"></span> <span class=\"label\">120m²</span><span class=\"short-label\">120m²</span></div></div>,\n",
      " <div class=\"private\"><div class=\"feature\"><span class=\"icon\"></span> <span class=\"label\">1</span><span class=\"short-label\">1</span></div><div class=\"feature\"><span class=\"icon\"></span> <span class=\"label\">1</span><span class=\"short-label\">1</span></div><div class=\"feature\"><span class=\"icon\"></span> <span class=\"label\">105m²</span><span class=\"short-label\">105m²</span></div></div>]\n"
     ]
    }
   ],
   "source": [
    "# get info bedroom, bathroom\n",
    "print('\\n ========================================= ========================================= \\n')    \n",
    "for container_info in get_container_element:\n",
    "    pprint(container_info.find_all(class_='private'))"
   ]
  },
  {
   "cell_type": "code",
   "execution_count": 331,
   "id": "9f35e1ad-62da-4b46-9019-791755808b32",
   "metadata": {
    "tags": []
   },
   "outputs": [
    {
     "name": "stdout",
     "output_type": "stream",
     "text": [
      "\n",
      " ========================================= ========================================= \n",
      "\n",
      "Apartment\n",
      "Twin\n",
      "Apartment\n",
      "Land\n",
      "Land\n",
      "Project\n",
      "Condo\n",
      "Apartment\n",
      "Condo\n",
      "Project\n",
      "Condo\n",
      "Project\n",
      "Project\n",
      "Project\n",
      "Borey\n",
      "Condo\n",
      "Project\n",
      "Condo\n"
     ]
    }
   ],
   "source": [
    "# get type\n",
    "type_list = []\n",
    "print('\\n ========================================= ========================================= \\n')    \n",
    "for container_info in get_container_element:\n",
    "    # pprint(container_info.find(class_='heading'))\n",
    "    type_list.append(container_info.find(class_='heading'))\n",
    "    if container_info.find(\"div\", {\"class\":\"heading\"}):\n",
    "        print(container_info.find(\"div\", {\"class\":\"heading\"}).get_text().replace(\"$\",\" \").replace(\" \",\" \").split(\" \")[0])\n",
    "    \n",
    "# type(type_list)"
   ]
  },
  {
   "cell_type": "markdown",
   "id": "17891949-2d0f-4a7f-ad56-3eb0d7c9801d",
   "metadata": {},
   "source": [
    "## Function to extract the information"
   ]
  },
  {
   "cell_type": "code",
   "execution_count": 336,
   "id": "69fe46c1-6d5a-4e93-b143-95a9729ffbc0",
   "metadata": {
    "collapsed": true,
    "jupyter": {
     "outputs_hidden": true,
     "source_hidden": true
    },
    "tags": []
   },
   "outputs": [
    {
     "data": {
      "text/plain": [
       "[{'location': 'Chey Chumneah, Daun Penh, Phnom Penh',\n",
       "  'price': '$52,000',\n",
       "  'bedrooms': '1',\n",
       "  'bathrooms': '1',\n",
       "  'floors': '35',\n",
       "  'lands': None,\n",
       "  'type': 'Apartment'},\n",
       " {'location': 'Preaek Lieb, Chroy Changvar, Phnom Penh',\n",
       "  'price': '$290,000',\n",
       "  'bedrooms': '4',\n",
       "  'bathrooms': '5',\n",
       "  'floors': None,\n",
       "  'lands': None,\n",
       "  'type': 'Twin'},\n",
       " {'location': ' Sangkat Buon, Sihanoukville, Sihanoukville',\n",
       "  'price': '$45,000',\n",
       "  'bedrooms': '1',\n",
       "  'bathrooms': '1',\n",
       "  'floors': '35',\n",
       "  'lands': None,\n",
       "  'type': 'Apartment'},\n",
       " {'location': ' Sangkat Bei, Sihanoukville, Sihanoukville',\n",
       "  'price': '$7,500,000',\n",
       "  'bedrooms': None,\n",
       "  'bathrooms': None,\n",
       "  'floors': None,\n",
       "  'lands': '1025',\n",
       "  'type': 'Land'},\n",
       " {'location': ' Sangkat Bei, Sihanoukville, Sihanoukville',\n",
       "  'price': '$1,500/m²',\n",
       "  'bedrooms': None,\n",
       "  'bathrooms': None,\n",
       "  'floors': None,\n",
       "  'lands': '1593',\n",
       "  'type': 'Land'},\n",
       " {'location': ' BKK 1, Chamkarmon, Phnom Penh',\n",
       "  'price': '$85,496',\n",
       "  'bedrooms': ('1', '6'),\n",
       "  'bathrooms': None,\n",
       "  'floors': ('39', '1068'),\n",
       "  'lands': None,\n",
       "  'type': 'Project'},\n",
       " {'location': ' Svay Dankum, Siem Reap, Siem Reap',\n",
       "  'price': '$86,478',\n",
       "  'bedrooms': ('1', '3'),\n",
       "  'bathrooms': None,\n",
       "  'floors': ('32', '136'),\n",
       "  'lands': None,\n",
       "  'type': 'Condo'},\n",
       " {'location': ' Boeung Tumpun 2, Meanchey, Phnom Penh',\n",
       "  'price': '$115,112$80,000SAVE30.50%',\n",
       "  'bedrooms': '1',\n",
       "  'bathrooms': '1',\n",
       "  'floors': '55',\n",
       "  'lands': None,\n",
       "  'type': 'Apartment'},\n",
       " {'location': 'Platinum Coast',\n",
       "  'price': '$60,152',\n",
       "  'bedrooms': '1',\n",
       "  'bathrooms': '1',\n",
       "  'floors': '35',\n",
       "  'lands': None,\n",
       "  'type': 'Condo'},\n",
       " {'location': ' Tuek Thla, Sen Sok, Phnom Penh',\n",
       "  'price': '$77,164',\n",
       "  'bedrooms': ('1', '3'),\n",
       "  'bathrooms': None,\n",
       "  'floors': ('30', '127'),\n",
       "  'lands': None,\n",
       "  'type': None},\n",
       " {'location': ' Tonle Bassac, Chamkarmon, Phnom Penh',\n",
       "  'price': '$110,000',\n",
       "  'bedrooms': ('1', '3'),\n",
       "  'bathrooms': None,\n",
       "  'floors': ('59', '169'),\n",
       "  'lands': None,\n",
       "  'type': 'Project'},\n",
       " {'location': ' Tonle Bassac, Chamkarmon, Phnom Penh',\n",
       "  'price': '$275,000',\n",
       "  'bedrooms': ('1', '3'),\n",
       "  'bathrooms': None,\n",
       "  'floors': ('78', '196'),\n",
       "  'lands': None,\n",
       "  'type': 'Condo'},\n",
       " {'location': ' Srah Chak, Daun Penh, Phnom Penh',\n",
       "  'price': '$60,067',\n",
       "  'bedrooms': ('1', '2'),\n",
       "  'bathrooms': None,\n",
       "  'floors': ('37', '91'),\n",
       "  'lands': None,\n",
       "  'type': 'Project'},\n",
       " {'location': ' 306 , BKK 1, Chamkarmon, Phnom Penh',\n",
       "  'price': '$115,900',\n",
       "  'bedrooms': ('1', '2'),\n",
       "  'bathrooms': None,\n",
       "  'floors': ('43', '1600'),\n",
       "  'lands': None,\n",
       "  'type': 'Project'},\n",
       " {'location': ' BKK 1, Chamkarmon, Phnom Penh',\n",
       "  'price': '$181,000',\n",
       "  'bedrooms': ('2', '3'),\n",
       "  'bathrooms': None,\n",
       "  'floors': ('65', '153'),\n",
       "  'lands': None,\n",
       "  'type': None},\n",
       " {'location': '  , Sangkat Buon, Sihanoukville, Sihanoukville',\n",
       "  'price': '$73,000',\n",
       "  'bedrooms': None,\n",
       "  'bathrooms': None,\n",
       "  'floors': ('32', '66'),\n",
       "  'lands': None,\n",
       "  'type': 'Project'},\n",
       " {'location': ' Khmuonh, Sen Sok, Phnom Penh',\n",
       "  'price': '$185,000',\n",
       "  'bedrooms': ('4', '7'),\n",
       "  'bathrooms': None,\n",
       "  'floors': ('143', '624'),\n",
       "  'lands': None,\n",
       "  'type': 'Borey'},\n",
       " {'location': 'LZ Sea View Residences',\n",
       "  'price': '$136,000',\n",
       "  'bedrooms': '2',\n",
       "  'bathrooms': '2',\n",
       "  'floors': '68',\n",
       "  'lands': None,\n",
       "  'type': 'Condo'},\n",
       " {'location': ' Nirouth, Chbar Ampov, Phnom Penh',\n",
       "  'price': '$68,000',\n",
       "  'bedrooms': ('1', '4'),\n",
       "  'bathrooms': None,\n",
       "  'floors': ('32', '1800'),\n",
       "  'lands': None,\n",
       "  'type': 'Project'},\n",
       " {'location': ' Komai, Svay Dankum, Siem Reap, Siem Reap',\n",
       "  'price': '$183,000',\n",
       "  'bedrooms': ('1', '4'),\n",
       "  'bathrooms': None,\n",
       "  'floors': ('105', '272'),\n",
       "  'lands': None,\n",
       "  'type': 'Condo'}]"
      ]
     },
     "execution_count": 336,
     "metadata": {},
     "output_type": "execute_result"
    }
   ],
   "source": [
    "test = []\n",
    "for x in range(len(addresses)):\n",
    "    # Regexr area to filter data    \n",
    "    bedroom_regexr = re.compile('Bedrooms: (\\d+)')\n",
    "    bedrooms_regexr = re.compile('Bedrooms: (\\d+) to (\\d+)')\n",
    "    \n",
    "    bathroom_regexr = re.compile('Bathrooms: (\\d+)')\n",
    "    bathrooms_regexr = re.compile('Bathrooms: (\\d+) to (\\d+)')\n",
    "\n",
    "    floor_regexr = re.compile('Floor area: (\\d+)')\n",
    "    floors_regexr = re.compile('Floor area: (\\d+) to (\\d+)')\n",
    "\n",
    "    \n",
    "    land_regexr = re.compile('Land area: (\\d+)')\n",
    "    lands_regexr = re.compile('Land area: (\\d+) t0 (\\d+)')\n",
    "    #============== End here ============================\n",
    "    \n",
    "    # Variable area\n",
    "    realestate_type = get_container_element[x].find(\"div\", {\"class\":\"heading\"})\n",
    "    address = get_container_element[x].find(class_='address').get_text().replace('\\ue92f','')\n",
    "    \n",
    "    price = get_container_element[x].find(class_='price').get_text().replace('\\ue92f','').replace(' ','')\n",
    "    \n",
    "    feature = get_container_element[x].find_all(class_='feature')\n",
    "    \n",
    "    bedroom = bedroom_regexr.findall(str(feature))[0] if bedroom_regexr.findall(str(feature)) else None\n",
    "    \n",
    "    bedrooms = bedrooms_regexr.findall(str(feature))[0] if bedrooms_regexr.findall(str(feature)) else None\n",
    "\n",
    "    \n",
    "    bathroom = bathroom_regexr.findall(str(feature))[0] if bathroom_regexr.findall(str(feature)) else None\n",
    "    \n",
    "    bathrooms = bathrooms_regexr.findall(str(feature))[0] if bathrooms_regexr.findall(str(feature)) else None\n",
    "\n",
    "        \n",
    "    floor = floor_regexr.findall(str(feature))[0] if floor_regexr.findall(str(feature)) else None\n",
    "    floors = floors_regexr.findall(str(feature))[0] if floors_regexr.findall(str(feature)) else None\n",
    "\n",
    "    land = land_regexr.findall(str(feature))[0] if land_regexr.findall(str(feature)) else None\n",
    "    lands = lands_regexr.findall(str(feature))[0] if lands_regexr.findall(str(feature)) else None\n",
    "    \n",
    "    realestate_type = realestate_type.get_text().replace(\"$\",\" \").replace(\" \",\" \").split(\" \")[0] if realestate_type else None\n",
    "    #============== End here ============================\n",
    "\n",
    "    # conditional before push in list\n",
    "    final_bedroom = bedrooms if bedrooms else bedroom\n",
    "    final_bathroom = bathrooms if bathrooms else bathroom\n",
    "    final_floor = floors if floors else floor\n",
    "    final_land = lands if lands else land\n",
    "    #============== End here ============================\n",
    "    test.append({'location': address, 'price': price, 'bedrooms': final_bedroom,\n",
    "                 'bathrooms': final_bathroom, 'floors': final_floor, 'lands': final_land,\n",
    "                 'type': realestate_type\n",
    "                })\n",
    "test\n",
    "\n"
   ]
  },
  {
   "cell_type": "markdown",
   "id": "a1a52957-716b-4539-86e0-3f575db5994c",
   "metadata": {},
   "source": [
    "## Convert the loop to function"
   ]
  },
  {
   "cell_type": "code",
   "execution_count": 337,
   "id": "e890094b-4036-48fb-ae44-0cb6ecd3b56a",
   "metadata": {
    "tags": []
   },
   "outputs": [],
   "source": [
    "def extra_name_location_price_info(url, headers):\n",
    "    response = requests.get(url, headers=headers)\n",
    "    data = bs(response.content, 'html.parser')\n",
    "    get_container_element = data.find_all(class_='item css-16n7mg5 eq4or9x0')\n",
    "    realestate_data_collectio  = []\n",
    "    for x in range(len(addresses)):\n",
    "        # Regexr area to filter data    \n",
    "        bedroom_regexr = re.compile('Bedrooms: (\\d+)')\n",
    "        bedrooms_regexr = re.compile('Bedrooms: (\\d+) to (\\d+)')\n",
    "\n",
    "        bathroom_regexr = re.compile('Bathrooms: (\\d+)')\n",
    "        bathrooms_regexr = re.compile('Bathrooms: (\\d+) to (\\d+)')\n",
    "\n",
    "        floor_regexr = re.compile('Floor area: (\\d+)')\n",
    "        floors_regexr = re.compile('Floor area: (\\d+) to (\\d+)')\n",
    "\n",
    "\n",
    "        land_regexr = re.compile('Land area: (\\d+)')\n",
    "        lands_regexr = re.compile('Land area: (\\d+) t0 (\\d+)')\n",
    "        #============== End here ============================\n",
    "\n",
    "        # Variable area\n",
    "        realestate_type = get_container_element[x].find(\"div\", {\"class\":\"heading\"})\n",
    "        address = get_container_element[x].find(class_='address').get_text().replace('\\ue92f','')\n",
    "\n",
    "        price = get_container_element[x].find(class_='price').get_text().replace('\\ue92f','').replace(' ','')\n",
    "\n",
    "        feature = get_container_element[x].find_all(class_='feature')\n",
    "\n",
    "        bedroom = bedroom_regexr.findall(str(feature))[0] if bedroom_regexr.findall(str(feature)) else None\n",
    "\n",
    "        bedrooms = bedrooms_regexr.findall(str(feature))[0] if bedrooms_regexr.findall(str(feature)) else None\n",
    "\n",
    "\n",
    "        bathroom = bathroom_regexr.findall(str(feature))[0] if bathroom_regexr.findall(str(feature)) else None\n",
    "\n",
    "        bathrooms = bathrooms_regexr.findall(str(feature))[0] if bathrooms_regexr.findall(str(feature)) else None\n",
    "\n",
    "\n",
    "        floor = floor_regexr.findall(str(feature))[0] if floor_regexr.findall(str(feature)) else None\n",
    "        floors = floors_regexr.findall(str(feature))[0] if floors_regexr.findall(str(feature)) else None\n",
    "\n",
    "        land = land_regexr.findall(str(feature))[0] if land_regexr.findall(str(feature)) else None\n",
    "        lands = lands_regexr.findall(str(feature))[0] if lands_regexr.findall(str(feature)) else None\n",
    "\n",
    "        realestate_type = realestate_type.get_text().replace(\"$\",\" \").replace(\" \",\" \").split(\" \")[0] if realestate_type else None\n",
    "        #============== End here ============================\n",
    "\n",
    "        # conditional before push in list\n",
    "        final_bedroom = bedrooms if bedrooms else bedroom\n",
    "        final_bathroom = bathrooms if bathrooms else bathroom\n",
    "        final_floor = floors if floors else floor\n",
    "        final_land = lands if lands else land\n",
    "        #============== End here ============================\n",
    "        realestate_data_collectio.append({'location': address, 'price': price, 'bedrooms': final_bedroom,\n",
    "                     'bathrooms': final_bathroom, 'floors': final_floor, 'lands': final_land,\n",
    "                     'type': realestate_type\n",
    "                    })"
   ]
  },
  {
   "cell_type": "markdown",
   "id": "d35207ef-2b13-43ed-b458-c485ceb4e085",
   "metadata": {},
   "source": [
    "## Resuse the function"
   ]
  },
  {
   "cell_type": "code",
   "execution_count": null,
   "id": "c57fd9e8-473c-44ff-82b5-ff7049426c9c",
   "metadata": {
    "tags": []
   },
   "outputs": [],
   "source": [
    "url = 'https://www.realestate.com.kh/buy'\n",
    "headers = {'User-Agent': 'Mozilla/5.0 (Linux; Android 6.0; Nexus 5 Build/MRA58N) AppleWebKit/537.36 (KHTML, like Gecko) Chrome/105.0.0.0 Mobile Safari/537.36'}\n",
    "\n",
    "# https://www.realestate.com.kh/buy/?page=2\n",
    "\n",
    "for page in range (50):\n",
    "    extra_name_location_price_info('https://www.realestate.com.kh/buy/?page='+str(page+1), headers)\n",
    "    if page == 50:\n",
    "        print('done')\n"
   ]
  },
  {
   "cell_type": "code",
   "execution_count": null,
   "id": "c9ea5e26-5f77-4c4f-93f6-0240f257a871",
   "metadata": {},
   "outputs": [],
   "source": []
  }
 ],
 "metadata": {
  "kernelspec": {
   "display_name": "Python 3 (ipykernel)",
   "language": "python",
   "name": "python3"
  },
  "language_info": {
   "codemirror_mode": {
    "name": "ipython",
    "version": 3
   },
   "file_extension": ".py",
   "mimetype": "text/x-python",
   "name": "python",
   "nbconvert_exporter": "python",
   "pygments_lexer": "ipython3",
   "version": "3.9.6"
  }
 },
 "nbformat": 4,
 "nbformat_minor": 5
}
