{
 "cells": [
  {
   "cell_type": "markdown",
   "id": "29e100a7-f26b-4952-9652-ed1f7ae1843e",
   "metadata": {},
   "source": [
    "This question I want to get from this dataset are:\n",
    "- Total types of the real estate that exist in the dataset\n",
    "- Total types of the real estate in specific location"
   ]
  },
  {
   "cell_type": "code",
   "execution_count": 134,
   "id": "c2b54d86-b2d6-48cf-b56a-8ea59cb705ac",
   "metadata": {
    "tags": []
   },
   "outputs": [],
   "source": [
    "import matplotlib.pyplot as plt\n",
    "import numpy as np\n",
    "from pandas import json_normalize\n",
    "import pandas as pd\n",
    "from pandas import json_normalize\n",
    "import json\n",
    "import re"
   ]
  },
  {
   "cell_type": "code",
   "execution_count": 135,
   "id": "22b005a2-24bf-4466-ab57-2940063ea059",
   "metadata": {
    "tags": []
   },
   "outputs": [],
   "source": [
    "def load_data(title):\n",
    "    with open(title,encoding='utf-8') as f:\n",
    "        return json.load(f)"
   ]
  },
  {
   "cell_type": "code",
   "execution_count": 136,
   "id": "84e8968b-f9a4-4a46-bbe9-862f9c6cc35d",
   "metadata": {
    "tags": []
   },
   "outputs": [],
   "source": [
    "realestate_kh = \"./realestate_kh.json\"\n",
    "realestate_kh_list = load_data(realestate_kh)"
   ]
  },
  {
   "cell_type": "code",
   "execution_count": 137,
   "id": "527f146e-24e1-4606-86cd-6a9b818dfc5e",
   "metadata": {
    "tags": []
   },
   "outputs": [
    {
     "data": {
      "text/html": [
       "<div>\n",
       "<style scoped>\n",
       "    .dataframe tbody tr th:only-of-type {\n",
       "        vertical-align: middle;\n",
       "    }\n",
       "\n",
       "    .dataframe tbody tr th {\n",
       "        vertical-align: top;\n",
       "    }\n",
       "\n",
       "    .dataframe thead th {\n",
       "        text-align: right;\n",
       "    }\n",
       "</style>\n",
       "<table border=\"1\" class=\"dataframe\">\n",
       "  <thead>\n",
       "    <tr style=\"text-align: right;\">\n",
       "      <th></th>\n",
       "      <th>name</th>\n",
       "      <th>location</th>\n",
       "      <th>category</th>\n",
       "      <th>price</th>\n",
       "      <th>infos</th>\n",
       "    </tr>\n",
       "  </thead>\n",
       "  <tbody>\n",
       "    <tr>\n",
       "      <th>0</th>\n",
       "      <td>None</td>\n",
       "      <td>None</td>\n",
       "      <td>None</td>\n",
       "      <td>None</td>\n",
       "      <td>[]</td>\n",
       "    </tr>\n",
       "    <tr>\n",
       "      <th>1</th>\n",
       "      <td>Villa for Sale in Siem Reap-Kon Deak Borey Tou...</td>\n",
       "      <td>Siem Reap</td>\n",
       "      <td>Villa</td>\n",
       "      <td>$130,000</td>\n",
       "      <td>[&lt;span class=\"label\"&gt;Bedrooms: 3&lt;/span&gt;, &lt;span...</td>\n",
       "    </tr>\n",
       "    <tr>\n",
       "      <th>2</th>\n",
       "      <td>Land for Sale in​ Krong Siem Reap-Sangkat Chreav</td>\n",
       "      <td>Siem Reap</td>\n",
       "      <td>Land</td>\n",
       "      <td>$59,150</td>\n",
       "      <td>[&lt;span class=\"label\"&gt;Land area: 455m²&lt;/span&gt;]</td>\n",
       "    </tr>\n",
       "    <tr>\n",
       "      <th>3</th>\n",
       "      <td>Spacious 2Bedroom Condo For Sale in Olympia City</td>\n",
       "      <td>Phnom Penh</td>\n",
       "      <td>Condo</td>\n",
       "      <td>$220,000</td>\n",
       "      <td>[&lt;span class=\"label\"&gt;Bedrooms: 2&lt;/span&gt;, &lt;span...</td>\n",
       "    </tr>\n",
       "    <tr>\n",
       "      <th>4</th>\n",
       "      <td>DABEST PROPERTIES: Luxuxry Villa for Sale in S...</td>\n",
       "      <td>Siem Reap</td>\n",
       "      <td>Villa</td>\n",
       "      <td>$550,000</td>\n",
       "      <td>[&lt;span class=\"label\"&gt;Bedrooms: 6&lt;/span&gt;, &lt;span...</td>\n",
       "    </tr>\n",
       "    <tr>\n",
       "      <th>...</th>\n",
       "      <td>...</td>\n",
       "      <td>...</td>\n",
       "      <td>...</td>\n",
       "      <td>...</td>\n",
       "      <td>...</td>\n",
       "    </tr>\n",
       "    <tr>\n",
       "      <th>1045</th>\n",
       "      <td>None</td>\n",
       "      <td>Phnom Penh</td>\n",
       "      <td>Condo</td>\n",
       "      <td>$120,000</td>\n",
       "      <td>[&lt;span class=\"label\"&gt;Bedrooms: 1&lt;/span&gt;, &lt;span...</td>\n",
       "    </tr>\n",
       "    <tr>\n",
       "      <th>1046</th>\n",
       "      <td>None</td>\n",
       "      <td>Phnom Penh</td>\n",
       "      <td>Villa</td>\n",
       "      <td>$285,000</td>\n",
       "      <td>[&lt;span class=\"label\"&gt;Bedrooms: 4&lt;/span&gt;, &lt;span...</td>\n",
       "    </tr>\n",
       "    <tr>\n",
       "      <th>1047</th>\n",
       "      <td>None</td>\n",
       "      <td>Siem Reap</td>\n",
       "      <td>House</td>\n",
       "      <td>$120,000</td>\n",
       "      <td>[&lt;span class=\"label\"&gt;Bedrooms: 3&lt;/span&gt;, &lt;span...</td>\n",
       "    </tr>\n",
       "    <tr>\n",
       "      <th>1048</th>\n",
       "      <td>None</td>\n",
       "      <td>Phnom Penh</td>\n",
       "      <td>Condo</td>\n",
       "      <td>$90,000</td>\n",
       "      <td>[&lt;span class=\"label\"&gt;Bedrooms: 1&lt;/span&gt;, &lt;span...</td>\n",
       "    </tr>\n",
       "    <tr>\n",
       "      <th>1049</th>\n",
       "      <td>None</td>\n",
       "      <td>Kandal</td>\n",
       "      <td>Shophouse</td>\n",
       "      <td>$800,000</td>\n",
       "      <td>[&lt;span class=\"label\"&gt;Bedrooms: 2&lt;/span&gt;, &lt;span...</td>\n",
       "    </tr>\n",
       "  </tbody>\n",
       "</table>\n",
       "<p>1050 rows × 5 columns</p>\n",
       "</div>"
      ],
      "text/plain": [
       "                                                   name    location  \\\n",
       "0                                                  None        None   \n",
       "1     Villa for Sale in Siem Reap-Kon Deak Borey Tou...   Siem Reap   \n",
       "2     Land for Sale in​ Krong Siem Reap-Sangkat Chreav    Siem Reap   \n",
       "3      Spacious 2Bedroom Condo For Sale in Olympia City  Phnom Penh   \n",
       "4     DABEST PROPERTIES: Luxuxry Villa for Sale in S...   Siem Reap   \n",
       "...                                                 ...         ...   \n",
       "1045                                               None  Phnom Penh   \n",
       "1046                                               None  Phnom Penh   \n",
       "1047                                               None   Siem Reap   \n",
       "1048                                               None  Phnom Penh   \n",
       "1049                                               None      Kandal   \n",
       "\n",
       "       category     price                                              infos  \n",
       "0          None      None                                                 []  \n",
       "1         Villa  $130,000  [<span class=\"label\">Bedrooms: 3</span>, <span...  \n",
       "2          Land   $59,150      [<span class=\"label\">Land area: 455m²</span>]  \n",
       "3         Condo  $220,000  [<span class=\"label\">Bedrooms: 2</span>, <span...  \n",
       "4         Villa  $550,000  [<span class=\"label\">Bedrooms: 6</span>, <span...  \n",
       "...         ...       ...                                                ...  \n",
       "1045      Condo  $120,000  [<span class=\"label\">Bedrooms: 1</span>, <span...  \n",
       "1046      Villa  $285,000  [<span class=\"label\">Bedrooms: 4</span>, <span...  \n",
       "1047      House  $120,000  [<span class=\"label\">Bedrooms: 3</span>, <span...  \n",
       "1048      Condo   $90,000  [<span class=\"label\">Bedrooms: 1</span>, <span...  \n",
       "1049  Shophouse  $800,000  [<span class=\"label\">Bedrooms: 2</span>, <span...  \n",
       "\n",
       "[1050 rows x 5 columns]"
      ]
     },
     "execution_count": 137,
     "metadata": {},
     "output_type": "execute_result"
    }
   ],
   "source": [
    "df2 = json_normalize(realestate_kh_list) \n",
    "df2"
   ]
  },
  {
   "cell_type": "markdown",
   "id": "8fce938e-5422-4dd2-9acc-61796a36d3c0",
   "metadata": {},
   "source": [
    "## Exploring the data"
   ]
  },
  {
   "cell_type": "markdown",
   "id": "d9c5ef0d-6486-4a3d-9ab5-1a24ab4676d8",
   "metadata": {},
   "source": [
    "### Get category data"
   ]
  },
  {
   "cell_type": "code",
   "execution_count": 138,
   "id": "aa7a2e47-935b-49ca-b566-6571bf80bf22",
   "metadata": {
    "tags": []
   },
   "outputs": [
    {
     "data": {
      "text/plain": [
       "['Villa',\n",
       " 'Land',\n",
       " 'Condo',\n",
       " 'Apartment',\n",
       " 'Project',\n",
       " 'House',\n",
       " 'Link House',\n",
       " 'Borey',\n",
       " 'Studio',\n",
       " 'Flat',\n",
       " 'Twin Villa',\n",
       " 'Flat House',\n",
       " 'Shophouse']"
      ]
     },
     "execution_count": 138,
     "metadata": {},
     "output_type": "execute_result"
    }
   ],
   "source": [
    "realestate_type = []\n",
    "\n",
    "# loop to get cate into one array \n",
    "# for cate in realestate_kh_list:\n",
    "#     print(cate['category'])\n",
    "# since have duplicates we want to remo|ve it.\n",
    "# sources : https://stackoverflow.com/questions/9835762/how-do-i-find-the-duplicates-in-a-list-and-create-another-list-with-them\n",
    "seen = set()\n",
    "for realestate in realestate_kh_list:\n",
    "    if realestate['category'] not in seen and realestate['category'] != None and realestate['category'] != re.search(\"POA\", (realestate['category'])):\n",
    "        realestate_type.append(realestate['category'])\n",
    "        seen.add(realestate['category'])\n",
    "\n",
    "realestate_type.remove('LandPOA  ')\n",
    "realestate_type.remove('ApartmentPOA  ')\n",
    "realestate_type.remove('Serviced Apartment')\n",
    "realestate_type.remove('Residential Property')\n",
    "realestate_type\n",
    "         "
   ]
  },
  {
   "cell_type": "code",
   "execution_count": 139,
   "id": "dbd82fe2-4430-4ef9-8ba5-13551b3b0c7b",
   "metadata": {
    "tags": []
   },
   "outputs": [
    {
     "data": {
      "text/plain": [
       "{'Villa': 122,\n",
       " 'Land': 334,\n",
       " 'Condo': 197,\n",
       " 'Apartment': 69,\n",
       " 'Project': 11,\n",
       " 'House': 134,\n",
       " 'Link House': 16,\n",
       " 'Borey': 4,\n",
       " 'Studio': 2,\n",
       " 'Flat': 14,\n",
       " 'Twin Villa': 47,\n",
       " 'Flat House': 19,\n",
       " 'Shophouse': 24}"
      ]
     },
     "execution_count": 139,
     "metadata": {},
     "output_type": "execute_result"
    }
   ],
   "source": [
    "categoryArr = []\n",
    "for item in realestate_kh_list:\n",
    "    categoryArr.append(item['category'])\n",
    "\n",
    "\n",
    "realestate_type_counts = {i:categoryArr.count(i) for i in categoryArr}\n",
    "\n",
    "realestate_type_counts.pop(None)\n",
    "realestate_type_counts.pop('ApartmentPOA  ')\n",
    "realestate_type_counts.pop('LandPOA  ')\n",
    "realestate_type_counts.pop('Serviced Apartment')\n",
    "realestate_type_counts.pop('Residential Property')\n",
    "\n",
    "realestate_type_counts"
   ]
  },
  {
   "cell_type": "markdown",
   "id": "0fc4148d-f709-4df9-a309-7c7a54d0b355",
   "metadata": {},
   "source": [
    "## Total realestate_type compare from one to another"
   ]
  },
  {
   "cell_type": "code",
   "execution_count": 140,
   "id": "df1fe74a-6a33-4c34-8ba6-282a83f86f38",
   "metadata": {
    "tags": []
   },
   "outputs": [
    {
     "data": {
      "text/plain": [
       "<BarContainer object of 13 artists>"
      ]
     },
     "execution_count": 140,
     "metadata": {},
     "output_type": "execute_result"
    },
    {
     "data": {
      "image/png": "[encoded data removed]",
      "text/plain": [
       "<Figure size 640x480 with 1 Axes>"
      ]
     },
     "metadata": {},
     "output_type": "display_data"
    }
   ],
   "source": [
    "heights = list(realestate_type_counts.values())\n",
    "bars = realestate_type\n",
    "y_pos = range(len(bars))\n",
    "c = ['red', 'green', 'black', 'blue', 'orange']\n",
    "\n",
    "# Rotation of the bars names\n",
    "plt.xticks(y_pos, bars,rotation=90)\n",
    "plt.bar(y_pos, heights,color=c)\n"
   ]
  },
  {
   "cell_type": "markdown",
   "id": "dfa14a98-2728-4057-8c6f-711d3e0b7ff0",
   "metadata": {},
   "source": [
    "## Total realestate_type compare from one to another base in city or province"
   ]
  },
  {
   "cell_type": "code",
   "execution_count": 477,
   "id": "e1221936-8a16-421c-bc7d-25923c4ad6e6",
   "metadata": {
    "tags": []
   },
   "outputs": [
    {
     "name": "stdout",
     "output_type": "stream",
     "text": [
      "{'Apartment': 57, 'Borey': 4, 'Condo': 172, 'Flat': 11, 'Flat House': 13, 'House': 26, 'Land': 57, 'Link House': 13, 'Project': 11, 'Shophouse': 17, 'Studio': 1, 'Twin Villa': 38, 'Villa': 82}\n"
     ]
    },
    {
     "data": {
      "text/plain": [
       "[57, 4, 172, 11, 13, 26, 57, 13, 11, 17, 1, 38, 82]"
      ]
     },
     "execution_count": 477,
     "metadata": {},
     "output_type": "execute_result"
    }
   ],
   "source": [
    "# function for finding realestate at all locatios\n",
    "import collections\n",
    "def count_realestate_and_location(location_name):\n",
    "    realestate_location_type = {}\n",
    "    list_realestate = []\n",
    "    for item in realestate_kh_list:\n",
    "        if item['location'] == location_name:\n",
    "            list_realestate.append(item['category'])\n",
    "    realestate_location_type = {i:list_realestate.count(i) for i in list_realestate}\n",
    "    if None in realestate_location_type:\n",
    "        realestate_location_type.pop(None)\n",
    "    if 'ApartmentPOA  ' in realestate_location_type:\n",
    "        realestate_location_type.pop('ApartmentPOA  ')\n",
    "    if 'Residential Property' in realestate_location_type:\n",
    "        realestate_location_type.pop('Residential Property')\n",
    "    if 'LandPOA  ' in realestate_location_type:\n",
    "        realestate_location_type.pop('LandPOA  ')\n",
    "    if 'Serviced Apartment' in realestate_location_type:\n",
    "        realestate_location_type.pop('Serviced Apartment')\n",
    "    for realestate_type_check in realestate_type:\n",
    "\n",
    "        if realestate_type_check in realestate_location_type.keys():\n",
    "            pass\n",
    "        else:\n",
    "            realestate_location_type[realestate_type_check] =  0\n",
    "    if realestate_location_type:\n",
    "        result = dict(sorted(realestate_location_type.items()))\n",
    "        print(result)\n",
    "        return list(result.values())\n",
    "\n",
    "\n",
    "        \n",
    "count_realestate_and_location('Phnom Penh')\n",
    "# realestate_type"
   ]
  },
  {
   "cell_type": "code",
   "execution_count": 448,
   "id": "a3fe8868-368a-4ac9-b343-c239faeb0347",
   "metadata": {
    "tags": []
   },
   "outputs": [
    {
     "name": "stdout",
     "output_type": "stream",
     "text": [
      "{'Apartment': 0, 'Borey': 0, 'Condo': 0, 'Flat': 0, 'Flat House': 0, 'House': 0, 'Land': 2, 'Link House': 0, 'Project': 0, 'Shophouse': 0, 'Studio': 0, 'Twin Villa': 0, 'Villa': 0}\n"
     ]
    },
    {
     "data": {
      "text/plain": [
       "[0, 0, 0, 0, 0, 0, 2, 0, 0, 0, 0, 0, 0]"
      ]
     },
     "execution_count": 448,
     "metadata": {},
     "output_type": "execute_result"
    }
   ],
   "source": [
    "count_realestate_and_location('Kampong Cham')\n"
   ]
  },
  {
   "cell_type": "code",
   "execution_count": 449,
   "id": "3fd6e52a-8f39-461c-919c-a24c9648629b",
   "metadata": {
    "tags": []
   },
   "outputs": [
    {
     "name": "stdout",
     "output_type": "stream",
     "text": [
      "{'Apartment': 0, 'Borey': 0, 'Condo': 0, 'Flat': 0, 'Flat House': 0, 'House': 0, 'Land': 0, 'Link House': 0, 'Project': 0, 'Shophouse': 0, 'Studio': 0, 'Twin Villa': 0, 'Villa': 0}\n",
      "[0, 0, 0, 0, 0, 0, 0, 0, 0, 0, 0, 0, 0]\n",
      "{'Apartment': 0, 'Borey': 0, 'Condo': 0, 'Flat': 0, 'Flat House': 0, 'House': 0, 'Land': 0, 'Link House': 0, 'Project': 0, 'Shophouse': 0, 'Studio': 0, 'Twin Villa': 0, 'Villa': 0}\n",
      "{'Apartment': 0, 'Borey': 0, 'Condo': 0, 'Flat': 0, 'Flat House': 0, 'House': 0, 'Land': 0, 'Link House': 0, 'Project': 0, 'Shophouse': 0, 'Studio': 0, 'Twin Villa': 0, 'Villa': 0}\n",
      "[0, 0, 0, 0, 0, 0, 0, 0, 0, 0, 0, 0, 0]\n",
      "{'Apartment': 0, 'Borey': 0, 'Condo': 0, 'Flat': 0, 'Flat House': 0, 'House': 0, 'Land': 0, 'Link House': 0, 'Project': 0, 'Shophouse': 0, 'Studio': 0, 'Twin Villa': 0, 'Villa': 0}\n",
      "{'Apartment': 0, 'Borey': 0, 'Condo': 0, 'Flat': 0, 'Flat House': 0, 'House': 0, 'Land': 2, 'Link House': 0, 'Project': 0, 'Shophouse': 0, 'Studio': 0, 'Twin Villa': 0, 'Villa': 0}\n",
      "[0, 0, 0, 0, 0, 0, 2, 0, 0, 0, 0, 0, 0]\n",
      "{'Apartment': 0, 'Borey': 0, 'Condo': 0, 'Flat': 0, 'Flat House': 0, 'House': 0, 'Land': 2, 'Link House': 0, 'Project': 0, 'Shophouse': 0, 'Studio': 0, 'Twin Villa': 0, 'Villa': 0}\n",
      "{'Apartment': 0, 'Borey': 0, 'Condo': 0, 'Flat': 0, 'Flat House': 0, 'House': 0, 'Land': 0, 'Link House': 0, 'Project': 0, 'Shophouse': 0, 'Studio': 0, 'Twin Villa': 0, 'Villa': 0}\n",
      "[0, 0, 0, 0, 0, 0, 0, 0, 0, 0, 0, 0, 0]\n",
      "{'Apartment': 0, 'Borey': 0, 'Condo': 0, 'Flat': 0, 'Flat House': 0, 'House': 0, 'Land': 0, 'Link House': 0, 'Project': 0, 'Shophouse': 0, 'Studio': 0, 'Twin Villa': 0, 'Villa': 0}\n",
      "{'Apartment': 0, 'Borey': 0, 'Condo': 0, 'Flat': 0, 'Flat House': 0, 'House': 0, 'Land': 2, 'Link House': 1, 'Project': 0, 'Shophouse': 0, 'Studio': 0, 'Twin Villa': 0, 'Villa': 0}\n",
      "[0, 0, 0, 0, 0, 0, 2, 1, 0, 0, 0, 0, 0]\n",
      "{'Apartment': 0, 'Borey': 0, 'Condo': 0, 'Flat': 0, 'Flat House': 0, 'House': 0, 'Land': 2, 'Link House': 1, 'Project': 0, 'Shophouse': 0, 'Studio': 0, 'Twin Villa': 0, 'Villa': 0}\n",
      "{'Apartment': 0, 'Borey': 0, 'Condo': 0, 'Flat': 0, 'Flat House': 0, 'House': 0, 'Land': 0, 'Link House': 0, 'Project': 0, 'Shophouse': 0, 'Studio': 0, 'Twin Villa': 0, 'Villa': 0}\n",
      "[0, 0, 0, 0, 0, 0, 0, 0, 0, 0, 0, 0, 0]\n",
      "{'Apartment': 0, 'Borey': 0, 'Condo': 0, 'Flat': 0, 'Flat House': 0, 'House': 0, 'Land': 0, 'Link House': 0, 'Project': 0, 'Shophouse': 0, 'Studio': 0, 'Twin Villa': 0, 'Villa': 0}\n",
      "{'Apartment': 0, 'Borey': 0, 'Condo': 0, 'Flat': 0, 'Flat House': 0, 'House': 0, 'Land': 4, 'Link House': 0, 'Project': 0, 'Shophouse': 0, 'Studio': 0, 'Twin Villa': 0, 'Villa': 0}\n",
      "[0, 0, 0, 0, 0, 0, 4, 0, 0, 0, 0, 0, 0]\n",
      "{'Apartment': 0, 'Borey': 0, 'Condo': 0, 'Flat': 0, 'Flat House': 0, 'House': 0, 'Land': 4, 'Link House': 0, 'Project': 0, 'Shophouse': 0, 'Studio': 0, 'Twin Villa': 0, 'Villa': 0}\n",
      "{'Apartment': 4, 'Borey': 0, 'Condo': 2, 'Flat': 1, 'Flat House': 0, 'House': 1, 'Land': 9, 'Link House': 2, 'Project': 0, 'Shophouse': 3, 'Studio': 0, 'Twin Villa': 1, 'Villa': 3}\n",
      "[4, 0, 2, 1, 0, 1, 9, 2, 0, 3, 0, 1, 3]\n",
      "{'Apartment': 4, 'Borey': 0, 'Condo': 2, 'Flat': 1, 'Flat House': 0, 'House': 1, 'Land': 9, 'Link House': 2, 'Project': 0, 'Shophouse': 3, 'Studio': 0, 'Twin Villa': 1, 'Villa': 3}\n",
      "{'Apartment': 0, 'Borey': 0, 'Condo': 0, 'Flat': 0, 'Flat House': 0, 'House': 0, 'Land': 0, 'Link House': 0, 'Project': 0, 'Shophouse': 0, 'Studio': 0, 'Twin Villa': 0, 'Villa': 0}\n",
      "[0, 0, 0, 0, 0, 0, 0, 0, 0, 0, 0, 0, 0]\n",
      "{'Apartment': 0, 'Borey': 0, 'Condo': 0, 'Flat': 0, 'Flat House': 0, 'House': 0, 'Land': 0, 'Link House': 0, 'Project': 0, 'Shophouse': 0, 'Studio': 0, 'Twin Villa': 0, 'Villa': 0}\n",
      "{'Apartment': 0, 'Borey': 0, 'Condo': 0, 'Flat': 0, 'Flat House': 0, 'House': 0, 'Land': 0, 'Link House': 0, 'Project': 0, 'Shophouse': 0, 'Studio': 0, 'Twin Villa': 0, 'Villa': 0}\n",
      "[0, 0, 0, 0, 0, 0, 0, 0, 0, 0, 0, 0, 0]\n",
      "{'Apartment': 0, 'Borey': 0, 'Condo': 0, 'Flat': 0, 'Flat House': 0, 'House': 0, 'Land': 0, 'Link House': 0, 'Project': 0, 'Shophouse': 0, 'Studio': 0, 'Twin Villa': 0, 'Villa': 0}\n",
      "{'Apartment': 0, 'Borey': 0, 'Condo': 0, 'Flat': 0, 'Flat House': 0, 'House': 0, 'Land': 0, 'Link House': 0, 'Project': 0, 'Shophouse': 0, 'Studio': 0, 'Twin Villa': 0, 'Villa': 0}\n",
      "[0, 0, 0, 0, 0, 0, 0, 0, 0, 0, 0, 0, 0]\n",
      "{'Apartment': 0, 'Borey': 0, 'Condo': 0, 'Flat': 0, 'Flat House': 0, 'House': 0, 'Land': 0, 'Link House': 0, 'Project': 0, 'Shophouse': 0, 'Studio': 0, 'Twin Villa': 0, 'Villa': 0}\n",
      "{'Apartment': 57, 'Borey': 4, 'Condo': 172, 'Flat': 11, 'Flat House': 13, 'House': 26, 'Land': 57, 'Link House': 13, 'Project': 11, 'Shophouse': 17, 'Studio': 1, 'Twin Villa': 38, 'Villa': 82}\n",
      "[57, 4, 172, 11, 13, 26, 57, 13, 11, 17, 1, 38, 82]\n",
      "{'Apartment': 57, 'Borey': 4, 'Condo': 172, 'Flat': 11, 'Flat House': 13, 'House': 26, 'Land': 57, 'Link House': 13, 'Project': 11, 'Shophouse': 17, 'Studio': 1, 'Twin Villa': 38, 'Villa': 82}\n",
      "{'Apartment': 0, 'Borey': 0, 'Condo': 0, 'Flat': 0, 'Flat House': 0, 'House': 0, 'Land': 0, 'Link House': 0, 'Project': 0, 'Shophouse': 0, 'Studio': 0, 'Twin Villa': 0, 'Villa': 0}\n",
      "[0, 0, 0, 0, 0, 0, 0, 0, 0, 0, 0, 0, 0]\n",
      "{'Apartment': 0, 'Borey': 0, 'Condo': 0, 'Flat': 0, 'Flat House': 0, 'House': 0, 'Land': 0, 'Link House': 0, 'Project': 0, 'Shophouse': 0, 'Studio': 0, 'Twin Villa': 0, 'Villa': 0}\n",
      "{'Apartment': 0, 'Borey': 0, 'Condo': 0, 'Flat': 0, 'Flat House': 0, 'House': 0, 'Land': 0, 'Link House': 0, 'Project': 0, 'Shophouse': 0, 'Studio': 0, 'Twin Villa': 0, 'Villa': 0}\n",
      "[0, 0, 0, 0, 0, 0, 0, 0, 0, 0, 0, 0, 0]\n",
      "{'Apartment': 0, 'Borey': 0, 'Condo': 0, 'Flat': 0, 'Flat House': 0, 'House': 0, 'Land': 0, 'Link House': 0, 'Project': 0, 'Shophouse': 0, 'Studio': 0, 'Twin Villa': 0, 'Villa': 0}\n",
      "{'Apartment': 0, 'Borey': 0, 'Condo': 0, 'Flat': 0, 'Flat House': 0, 'House': 0, 'Land': 0, 'Link House': 0, 'Project': 0, 'Shophouse': 0, 'Studio': 0, 'Twin Villa': 0, 'Villa': 0}\n",
      "[0, 0, 0, 0, 0, 0, 0, 0, 0, 0, 0, 0, 0]\n",
      "{'Apartment': 0, 'Borey': 0, 'Condo': 0, 'Flat': 0, 'Flat House': 0, 'House': 0, 'Land': 0, 'Link House': 0, 'Project': 0, 'Shophouse': 0, 'Studio': 0, 'Twin Villa': 0, 'Villa': 0}\n",
      "{'Apartment': 0, 'Borey': 0, 'Condo': 0, 'Flat': 0, 'Flat House': 0, 'House': 0, 'Land': 0, 'Link House': 0, 'Project': 0, 'Shophouse': 0, 'Studio': 0, 'Twin Villa': 0, 'Villa': 0}\n",
      "[0, 0, 0, 0, 0, 0, 0, 0, 0, 0, 0, 0, 0]\n",
      "{'Apartment': 0, 'Borey': 0, 'Condo': 0, 'Flat': 0, 'Flat House': 0, 'House': 0, 'Land': 0, 'Link House': 0, 'Project': 0, 'Shophouse': 0, 'Studio': 0, 'Twin Villa': 0, 'Villa': 0}\n",
      "{'Apartment': 8, 'Borey': 0, 'Condo': 17, 'Flat': 2, 'Flat House': 6, 'House': 104, 'Land': 252, 'Link House': 0, 'Project': 0, 'Shophouse': 1, 'Studio': 0, 'Twin Villa': 2, 'Villa': 30}\n",
      "[8, 0, 17, 2, 6, 104, 252, 0, 0, 1, 0, 2, 30]\n",
      "{'Apartment': 8, 'Borey': 0, 'Condo': 17, 'Flat': 2, 'Flat House': 6, 'House': 104, 'Land': 252, 'Link House': 0, 'Project': 0, 'Shophouse': 1, 'Studio': 0, 'Twin Villa': 2, 'Villa': 30}\n",
      "{'Apartment': 0, 'Borey': 0, 'Condo': 0, 'Flat': 0, 'Flat House': 0, 'House': 0, 'Land': 0, 'Link House': 0, 'Project': 0, 'Shophouse': 0, 'Studio': 0, 'Twin Villa': 0, 'Villa': 0}\n",
      "[0, 0, 0, 0, 0, 0, 0, 0, 0, 0, 0, 0, 0]\n",
      "{'Apartment': 0, 'Borey': 0, 'Condo': 0, 'Flat': 0, 'Flat House': 0, 'House': 0, 'Land': 0, 'Link House': 0, 'Project': 0, 'Shophouse': 0, 'Studio': 0, 'Twin Villa': 0, 'Villa': 0}\n",
      "{'Apartment': 0, 'Borey': 0, 'Condo': 0, 'Flat': 0, 'Flat House': 0, 'House': 0, 'Land': 0, 'Link House': 0, 'Project': 0, 'Shophouse': 0, 'Studio': 0, 'Twin Villa': 0, 'Villa': 0}\n",
      "[0, 0, 0, 0, 0, 0, 0, 0, 0, 0, 0, 0, 0]\n",
      "{'Apartment': 0, 'Borey': 0, 'Condo': 0, 'Flat': 0, 'Flat House': 0, 'House': 0, 'Land': 0, 'Link House': 0, 'Project': 0, 'Shophouse': 0, 'Studio': 0, 'Twin Villa': 0, 'Villa': 0}\n",
      "{'Apartment': 0, 'Borey': 0, 'Condo': 0, 'Flat': 0, 'Flat House': 0, 'House': 1, 'Land': 1, 'Link House': 0, 'Project': 0, 'Shophouse': 0, 'Studio': 0, 'Twin Villa': 0, 'Villa': 0}\n",
      "[0, 0, 0, 0, 0, 1, 1, 0, 0, 0, 0, 0, 0]\n",
      "{'Apartment': 0, 'Borey': 0, 'Condo': 0, 'Flat': 0, 'Flat House': 0, 'House': 1, 'Land': 1, 'Link House': 0, 'Project': 0, 'Shophouse': 0, 'Studio': 0, 'Twin Villa': 0, 'Villa': 0}\n",
      "{'Apartment': 0, 'Borey': 0, 'Condo': 0, 'Flat': 0, 'Flat House': 0, 'House': 0, 'Land': 0, 'Link House': 0, 'Project': 0, 'Shophouse': 0, 'Studio': 0, 'Twin Villa': 0, 'Villa': 0}\n",
      "[0, 0, 0, 0, 0, 0, 0, 0, 0, 0, 0, 0, 0]\n",
      "{'Apartment': 0, 'Borey': 0, 'Condo': 0, 'Flat': 0, 'Flat House': 0, 'House': 0, 'Land': 0, 'Link House': 0, 'Project': 0, 'Shophouse': 0, 'Studio': 0, 'Twin Villa': 0, 'Villa': 0}\n",
      "{'Apartment': 0, 'Borey': 0, 'Condo': 0, 'Flat': 0, 'Flat House': 0, 'House': 0, 'Land': 0, 'Link House': 0, 'Project': 0, 'Shophouse': 0, 'Studio': 0, 'Twin Villa': 0, 'Villa': 0}\n",
      "[0, 0, 0, 0, 0, 0, 0, 0, 0, 0, 0, 0, 0]\n",
      "{'Apartment': 0, 'Borey': 0, 'Condo': 0, 'Flat': 0, 'Flat House': 0, 'House': 0, 'Land': 0, 'Link House': 0, 'Project': 0, 'Shophouse': 0, 'Studio': 0, 'Twin Villa': 0, 'Villa': 0}\n",
      "{'Apartment': 0, 'Borey': 0, 'Condo': 0, 'Flat': 0, 'Flat House': 0, 'House': 1, 'Land': 1, 'Link House': 0, 'Project': 0, 'Shophouse': 0, 'Studio': 0, 'Twin Villa': 0, 'Villa': 2}\n",
      "[0, 0, 0, 0, 0, 1, 1, 0, 0, 0, 0, 0, 2]\n",
      "{'Apartment': 0, 'Borey': 0, 'Condo': 0, 'Flat': 0, 'Flat House': 0, 'House': 1, 'Land': 1, 'Link House': 0, 'Project': 0, 'Shophouse': 0, 'Studio': 0, 'Twin Villa': 0, 'Villa': 2}\n",
      "{'Apartment': 0, 'Borey': 0, 'Condo': 0, 'Flat': 0, 'Flat House': 0, 'House': 0, 'Land': 0, 'Link House': 0, 'Project': 0, 'Shophouse': 0, 'Studio': 0, 'Twin Villa': 0, 'Villa': 0}\n",
      "[0, 0, 0, 0, 0, 0, 0, 0, 0, 0, 0, 0, 0]\n",
      "{'Apartment': 0, 'Borey': 0, 'Condo': 0, 'Flat': 0, 'Flat House': 0, 'House': 0, 'Land': 0, 'Link House': 0, 'Project': 0, 'Shophouse': 0, 'Studio': 0, 'Twin Villa': 0, 'Villa': 0}\n",
      "{'Apartment': 0, 'Borey': 0, 'Condo': 0, 'Flat': 0, 'Flat House': 0, 'House': 0, 'Land': 0, 'Link House': 0, 'Project': 0, 'Shophouse': 0, 'Studio': 0, 'Twin Villa': 0, 'Villa': 0}\n",
      "[0, 0, 0, 0, 0, 0, 0, 0, 0, 0, 0, 0, 0]\n",
      "{'Apartment': 0, 'Borey': 0, 'Condo': 0, 'Flat': 0, 'Flat House': 0, 'House': 0, 'Land': 0, 'Link House': 0, 'Project': 0, 'Shophouse': 0, 'Studio': 0, 'Twin Villa': 0, 'Villa': 0}\n"
     ]
    },
    {
     "data": {
      "text/plain": [
       "[{'Banteay Meanchey', '[0, 0, 0, 0, 0, 0, 0, 0, 0, 0, 0, 0, 0]'},\n",
       " {'Battambang', '[0, 0, 0, 0, 0, 0, 0, 0, 0, 0, 0, 0, 0]'},\n",
       " {'Kampong Cham', '[0, 0, 0, 0, 0, 0, 2, 0, 0, 0, 0, 0, 0]'},\n",
       " {'Kampong Chhnang', '[0, 0, 0, 0, 0, 0, 0, 0, 0, 0, 0, 0, 0]'},\n",
       " {'Kampong Speu', '[0, 0, 0, 0, 0, 0, 2, 1, 0, 0, 0, 0, 0]'},\n",
       " {'Kampong Thom', '[0, 0, 0, 0, 0, 0, 0, 0, 0, 0, 0, 0, 0]'},\n",
       " {'Kampot', '[0, 0, 0, 0, 0, 0, 4, 0, 0, 0, 0, 0, 0]'},\n",
       " {'Kandal', '[4, 0, 2, 1, 0, 1, 9, 2, 0, 3, 0, 1, 3]'},\n",
       " {'Koh Kong', '[0, 0, 0, 0, 0, 0, 0, 0, 0, 0, 0, 0, 0]'},\n",
       " {'Kratié', '[0, 0, 0, 0, 0, 0, 0, 0, 0, 0, 0, 0, 0]'},\n",
       " {'Mondulkiri', '[0, 0, 0, 0, 0, 0, 0, 0, 0, 0, 0, 0, 0]'},\n",
       " {'Phnom Penh', '[57, 4, 172, 11, 13, 26, 57, 13, 11, 17, 1, 38, 82]'},\n",
       " {'Preah Vihear', '[0, 0, 0, 0, 0, 0, 0, 0, 0, 0, 0, 0, 0]'},\n",
       " {'Prey Veng', '[0, 0, 0, 0, 0, 0, 0, 0, 0, 0, 0, 0, 0]'},\n",
       " {'Pursat', '[0, 0, 0, 0, 0, 0, 0, 0, 0, 0, 0, 0, 0]'},\n",
       " {'Ratanakiri', '[0, 0, 0, 0, 0, 0, 0, 0, 0, 0, 0, 0, 0]'},\n",
       " {'Siem Reap', '[8, 0, 17, 2, 6, 104, 252, 0, 0, 1, 0, 2, 30]'},\n",
       " {'Preah Sihanouk', '[0, 0, 0, 0, 0, 0, 0, 0, 0, 0, 0, 0, 0]'},\n",
       " {'Stung Treng', '[0, 0, 0, 0, 0, 0, 0, 0, 0, 0, 0, 0, 0]'},\n",
       " {'Svay Rieng', '[0, 0, 0, 0, 0, 1, 1, 0, 0, 0, 0, 0, 0]'},\n",
       " {'Takéo', '[0, 0, 0, 0, 0, 0, 0, 0, 0, 0, 0, 0, 0]'},\n",
       " {'Oddar Meanchey', '[0, 0, 0, 0, 0, 0, 0, 0, 0, 0, 0, 0, 0]'},\n",
       " {'Kep', '[0, 0, 0, 0, 0, 1, 1, 0, 0, 0, 0, 0, 2]'},\n",
       " {'Pailin', '[0, 0, 0, 0, 0, 0, 0, 0, 0, 0, 0, 0, 0]'},\n",
       " {'Tboung Khmum', '[0, 0, 0, 0, 0, 0, 0, 0, 0, 0, 0, 0, 0]'}]"
      ]
     },
     "execution_count": 449,
     "metadata": {},
     "output_type": "execute_result"
    }
   ],
   "source": [
    "# get location to list\n",
    "\n",
    "locationArr = ['Banteay Meanchey','Battambang','Kampong Cham','Kampong Chhnang','Kampong Speu','Kampong Thom','Kampot','Kandal','Koh Kong','Kratié','Mondulkiri','Phnom Penh','Preah Vihear','Prey Veng','Pursat','Ratanakiri','Siem Reap','Preah Sihanouk','Stung Treng','Svay Rieng','Takéo','Oddar Meanchey','Kep','Pailin','Tboung Khmum']\n",
    "location_count_with_realestate_type = []\n",
    "for location in locationArr:\n",
    "    print(\"\".join(str(count_realestate_and_location(location))))\n",
    "    data = {\"\".join(str(count_realestate_and_location(location))), location}\n",
    "    location_count_with_realestate_type.append(data)\n",
    "location_count_with_realestate_type"
   ]
  },
  {
   "cell_type": "code",
   "execution_count": 476,
   "id": "63ba2124-1b75-46f2-b26d-7ff6f0acc466",
   "metadata": {
    "tags": []
   },
   "outputs": [
    {
     "data": {
      "image/png": "[encoded data removed]",
      "text/plain": [
       "<Figure size 1900x800 with 1 Axes>"
      ]
     },
     "metadata": {},
     "output_type": "display_data"
    }
   ],
   "source": [
    "data=[[\"Banteay Meanchey\", 0, 0, 0, 0, 0, 0, 0, 0, 0, 0, 0, 0, 0],\n",
    "      ['Battambang', 0, 0, 0, 0, 0, 0, 0, 0, 0, 0, 0, 0, 0],\n",
    "      ['Kampong Cham', 0, 0, 0, 0, 0, 0, 2, 0, 0, 0, 0, 0, 0],\n",
    "      ['Kampong Chhnang', 0, 0, 0, 0, 0, 0, 0, 0, 0, 0, 0, 0, 0],\n",
    "      ['Kampong Speu', 0, 0, 0, 0, 0, 0, 2, 1, 0, 0, 0, 0, 0],\n",
    "      ['Kampong Thom', 0, 0, 0, 0, 0, 0, 0, 0, 0, 0, 0, 0, 0],\n",
    "      ['Kampot', 0, 0, 0, 0, 0, 0, 4, 0, 0, 0, 0, 0, 0],\n",
    "      ['Kandal', 4, 0, 2, 1, 0, 1, 9, 2, 0, 3, 0, 1, 3],\n",
    "      ['Koh Kong', 0, 0, 0, 0, 0, 0, 0, 0, 0, 0, 0, 0, 0],\n",
    "      ['Kratié', 0, 0, 0, 0, 0, 0, 0, 0, 0, 0, 0, 0, 0],\n",
    "      ['Mondulkiri', 0, 0, 0, 0, 0, 0, 0, 0, 0, 0, 0, 0, 0],\n",
    "      ['Phnom Penh', 57, 4, 172, 11, 13, 26, 57, 13, 11, 17, 1, 38, 82],\n",
    "      ['Preah Vihear', 0, 0, 0, 0, 0, 0, 0, 0, 0, 0, 0, 0, 0],\n",
    "      ['Prey Veng', 0, 0, 0, 0, 0, 0, 0, 0, 0, 0, 0, 0, 0],\n",
    "      ['Pursat', 0, 0, 0, 0, 0, 0, 0, 0, 0, 0, 0, 0, 0],\n",
    "      ['Ratanakiri', 0, 0, 0, 0, 0, 0, 0, 0, 0, 0, 0, 0, 0],\n",
    "      ['Siem Reap', 8, 0, 17, 2, 6, 104, 252, 0, 0, 1, 0, 2, 30],\n",
    "      ['Preah Sihanouk', 0, 0, 0, 0, 0, 0, 0, 0, 0, 0, 0, 0, 0],\n",
    "      ['Stung Treng', 0, 0, 0, 0, 0, 0, 0, 0, 0, 0, 0, 0, 0],\n",
    "      ['Svay Rieng', 0, 0, 0, 0, 0, 1, 1, 0, 0, 0, 0, 0, 0],\n",
    "      ['Takéo', 0, 0, 0, 0, 0, 0, 0, 0, 0, 0, 0, 0, 0],\n",
    "      ['Oddar Meanchey', 0, 0, 0, 0, 0, 0, 0, 0, 0, 0, 0, 0, 0],\n",
    "      ['Kep', 0, 0, 0, 0, 0, 1, 1, 0, 0, 0, 0, 0, 2],\n",
    "      ['Pailin', 0, 0, 0, 0, 0, 0, 0, 0, 0, 0, 0, 0, 0],\n",
    "      ['Tboung Khmum', 0, 0, 0, 0, 0, 0, 0, 0, 0, 0, 0, 0, 0]\n",
    "     ]\n",
    "# Plot multiple columns bar chart\n",
    "\n",
    "df=pd.DataFrame(data,columns=[\"Location\",'Villa','Land','Condo','Apartment','Project','House','Link House','Borey','Studio','Flat','Twin Villa','Flat House','Shophouse'])\n",
    "\n",
    "df.plot(x=\"Location\", y=['Villa','Land','Condo','Apartment','Project','House','Link House','Borey','Studio','Flat','Twin Villa','Flat House','Shophouse'], kind=\"bar\",figsize=(19,8), width=5,)\n",
    "\n",
    "# Show\n",
    "\n",
    "plt.show()"
   ]
  },
  {
   "cell_type": "code",
   "execution_count": null,
   "id": "7e506c73-b5f0-4b65-8082-3520ff5c5885",
   "metadata": {},
   "outputs": [],
   "source": []
  },
  {
   "cell_type": "code",
   "execution_count": null,
   "id": "5c6b6cf0-a52b-47e9-b057-9eacd0454408",
   "metadata": {},
   "outputs": [],
   "source": []
  }
 ],
 "metadata": {
  "kernelspec": {
   "display_name": "Python 3 (ipykernel)",
   "language": "python",
   "name": "python3"
  },
  "language_info": {
   "codemirror_mode": {
    "name": "ipython",
    "version": 3
   },
   "file_extension": ".py",
   "mimetype": "text/x-python",
   "name": "python",
   "nbconvert_exporter": "python",
   "pygments_lexer": "ipython3",
   "version": "3.7.7"
  }
 },
 "nbformat": 4,
 "nbformat_minor": 5
}
