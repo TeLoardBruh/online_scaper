{
 "cells": [
  {
   "cell_type": "code",
   "execution_count": 1,
   "metadata": {},
   "outputs": [],
   "source": [
    "import matplotlib.pyplot as plt\n",
    "import numpy as np\n",
    "import pandas as pd\n",
    "import re\n",
    "from bs4 import BeautifulSoup as bs\n",
    "import requests\n",
    "from selenium import webdriver\n",
    "from webdriver_manager.chrome import ChromeDriverManager\n",
    "import time\n",
    "from pprint import pprint\n",
    "import json "
   ]
  },
  {
   "cell_type": "markdown",
   "metadata": {},
   "source": [
    "## Start scraping process"
   ]
  },
  {
   "cell_type": "markdown",
   "metadata": {},
   "source": [
    "### Getting all navigation of the website for access the elements"
   ]
  },
  {
   "cell_type": "code",
   "execution_count": 57,
   "metadata": {},
   "outputs": [
    {
     "name": "stdout",
     "output_type": "stream",
     "text": [
      "<div class=\"items\"><div class=\"item css-1uuzwjq eq4or9x0\"><header class=\"featured css-ineky e1jqslr40\"><a href=\"/buy/kandaek/properties-dabest-153486/\" target=\"_blank\">Villa for Sale in Siem Reap-Kon Deak Borey Tourism siem reap</a></header><article class=\"shadow featured css-1dego4x e1gd26e40\"><div class=\"labels\"><div class=\"featured\" style=\"background-color:#8DCA3F\">Featured</div><div class=\"translucent\">For sale</div></div><a class=\"carousel-wrap\" href=\"/buy/kandaek/properties-dabest-153486/\" target=\"_blank\"><div class=\"css-m6v9vd\"><div class=\"css-g96nnt\"><div class=\"carousel-scrollbox css-ifzriq\"><div class=\"carousel-item\"><div class=\"carousel-img-wrap\"><script style=\"display:none\" type=\"text/javascript\">\n",
      "//<![CDATA[\n",
      "window.__mirage2 = {petok:\"OJb3AsSYd3KNxGhRBwmtsp0NP1kOLUesmVhVfVJyZ2U-1800-0\"};\n",
      "//]]>\n",
      "</script>\n",
      "<script src=\"https://ajax.cloudflare.com/cdn-cgi/scripts/04b3eb47/cloudflare-static/mirage2.min.js\" type=\"text/javascript\"></script>\n",
      "<img alt=\"1Y3A7065.jpg\" data-cfsrc=\"https://images.realestate.com.kh/__sized__/listings/2022-11/1y3a7065-thumbnail-400x300-70.jpeg\" data-pagespeed-url-hash=\"174930983\" height=\"216\" onload=\"pagespeed.CriticalImages.checkImageForCriticality(this);\" style=\"display:none;visibility:hidden;\" width=\"360\"/><noscript><img alt=\"1Y3A7065.jpg\" data-pagespeed-url-hash=\"174930983\" height=\"216\" onload=\"pagespeed.CriticalImages.checkImageForCriticality(this);\" src=\"https://images.realestate.com.kh/__sized__/listings/2022-11/1y3a7065-thumbnail-400x300-70.jpeg\" width=\"360\"/></noscript></div></div><div class=\"carousel-item\"><div class=\"carousel-img-wrap\"><img alt=\"1Y3A7075.jpg\" data-pagespeed-url-hash=\"1136099774\" height=\"216\" onload=\"pagespeed.CriticalImages.checkImageForCriticality(this);\" src=\"data:image/png;base64,iVBORw0KGgoAAAANSUhEUgAAAIsAAACFAQMAAABR3ZnMAAAAA1BMVEXz8/ML3eGLAAAAGUlEQVRIx+3BAQ0AAADCIPuntscHDACAkgMJ3wABgx3axAAAAABJRU5ErkJggg==\" width=\"360\"/></div></div><div class=\"carousel-item\"><div class=\"carousel-img-wrap\"><img alt=\"1Y3A7078.jpg\" data-pagespeed-url-hash=\"1136099774\" height=\"216\" onload=\"pagespeed.CriticalImages.checkImageForCriticality(this);\" src=\"data:image/png;base64,iVBORw0KGgoAAAANSUhEUgAAAIsAAACFAQMAAABR3ZnMAAAAA1BMVEXz8/ML3eGLAAAAGUlEQVRIx+3BAQ0AAADCIPuntscHDACAkgMJ3wABgx3axAAAAABJRU5ErkJggg==\" width=\"360\"/></div></div></div><div class=\"carousel-addon carousel-addon-prev css-qis04y\"><button aria-label=\"Scroll to previous\" class=\"css-1id397z\" tabindex=\"0\"><svg class=\"css-xbrogd\" viewbox=\"0 0 20 20\"><path d=\"M12.452,4.516c0.446,0.436,0.481,1.043,0,1.576L8.705,10l3.747,3.908c0.481,0.533,0.446,1.141,0,1.574c-0.445,0.436-1.197,0.408-1.615,0c-0.418-0.406-4.502-4.695-4.502-4.695C6.112,10.57,6,10.285,6,10s0.112-0.57,0.335-0.789c0,0,4.084-4.287,4.502-4.695C11.255,4.107,12.007,4.08,12.452,4.516z\"></path></svg></button></div><div class=\"carousel-addon carousel-addon-next css-1j5mh5t\"><button aria-label=\"Scroll to next\" class=\"css-47h1rd\" tabindex=\"0\"><svg class=\"css-xbrogd\" viewbox=\"0 0 20 20\"><path d=\"M9.163,4.516c0.418,0.408,4.502,4.695,4.502,4.695C13.888,9.43,14,9.715,14,10s-0.112,0.57-0.335,0.787c0,0-4.084,4.289-4.502,4.695c-0.418,0.408-1.17,0.436-1.615,0c-0.446-0.434-0.481-1.041,0-1.574L11.295,10L7.548,6.092c-0.481-0.533-0.446-1.141,0-1.576C7.993,4.08,8.745,4.107,9.163,4.516z\"></path></svg></button></div><div class=\"css-6ph02n ergm6r10\"><div class=\"active css-1ggt5vp\"></div><div class=\"css-1ggt5vp\"></div><div class=\"css-1ggt5vp\"></div></div></div></div><div class=\"center-360-container\"></div><div class=\"indicators\"></div></a><div class=\"info listing\" href=\"/buy/kandaek/properties-dabest-153486/\"><div class=\"copy-wrapper\"><div class=\"heading\">Villa<div class=\"price\"><span class=\"value\" style=\"text-decoration:\">$130,000</span><span><div> </div><div class=\"percent listing\"> </div></span></div></div><div class=\"address-features-block\"><div class=\"address\"><span class=\"location-pin\"></span>Kandaek, Prasat Bakong, Siem Reap</div><div class=\"featured-box css-1ubmfrc eu11br40\"><div class=\"private\"><div class=\"feature\"><span class=\"icon\"></span> <span class=\"label\">Bedrooms: 3</span><span class=\"short-label\">3</span></div><div class=\"feature\"><span class=\"icon\"></span> <span class=\"label\">Bathrooms: 3</span><span class=\"short-label\">3</span></div><div class=\"feature\"><span class=\"icon\"></span> <span class=\"label\">Land area: 240m²</span><span class=\"short-label\">240m²</span></div></div></div></div><div class=\"listed\"><svg class=\"css-ri58vd\" viewbox=\"0 0 20 20\"><path d=\"M10,0.4c-5.303,0-9.601,4.298-9.601,9.6c0,5.303,4.298,9.601,9.601,9.601c5.301,0,9.6-4.298,9.6-9.601C19.6,4.698,15.301,0.4,10,0.4z M9.999,17.6c-4.197,0-7.6-3.402-7.6-7.6c0-4.197,3.402-7.6,7.6-7.6c4.197,0,7.601,3.402,7.601,7.6C17.6,14.197,14.196,17.6,9.999,17.6z M11,9.33V4H9v6.245l-3.546,2.048l1,1.732l4.115-2.377C10.807,11.511,11,11.175,11,10.9v-0.168l4.24-4.166c-0.198-0.271-0.411-0.529-0.647-0.766L11,9.33z\"></path></svg> <!-- -->Updated<!-- -->: <!-- -->1 week ago<span>DaBest Properties Cambodia Co., Ltd</span></div></div><div class=\"office-image\"></div></div></article></div><div class=\"item css-1uuzwjq eq4or9x0\"><header class=\"featured css-ineky e1jqslr40\"><a href=\"/buy/chreav/properties-dabest-133319/\" target=\"_blank\">Land for Sale in​ Krong Siem Reap-Sangkat Chreav </a></header><article class=\"shadow featured css-1dego4x e1gd26e40\"><div class=\"labels\"><div class=\"featured\" style=\"background-color:#8DCA3F\">Featured</div><div class=\"translucent\">For sale</div></div><a class=\"carousel-wrap\" href=\"/buy/chreav/properties-dabest-133319/\" target=\"_blank\"><div class=\"css-m6v9vd\"><div class=\"css-g96nnt\"><div class=\"carousel-scrollbox css-ifzriq\"><div class=\"carousel-item\"><div class=\"carousel-img-wrap\"><img alt=\"AA.JPG\" data-cfsrc=\"https://images.realestate.com.kh/__sized__/listings/2022-11/aa-thumbnail-400x300-70.jpeg\" data-pagespeed-url-hash=\"2918393281\" height=\"216\" onload=\"pagespeed.CriticalImages.checkImageForCriticality(this);\" style=\"display:none;visibility:hidden;\" width=\"360\"/><noscript><img alt=\"AA.JPG\" data-pagespeed-url-hash=\"2918393281\" height=\"216\" onload=\"pagespeed.CriticalImages.checkImageForCriticality(this);\" src=\"https://images.realestate.com.kh/__sized__/listings/2022-11/aa-thumbnail-400x300-70.jpeg\" width=\"360\"/></noscript></div></div><div class=\"carousel-item\"><div class=\"carousel-img-wrap\"><img alt=\"untitled-1.JPG\" data-pagespeed-url-hash=\"1136099774\" height=\"216\" onload=\"pagespeed.CriticalImages.checkImageForCriticality(this);\" src=\"data:image/png;base64,iVBORw0KGgoAAAANSUhEUgAAAIsAAACFAQMAAABR3ZnMAAAAA1BMVEXz8/ML3eGLAAAAGUlEQVRIx+3BAQ0AAADCIPuntscHDACAkgMJ3wABgx3axAAAAABJRU5ErkJggg==\" width=\"360\"/></div></div><div class=\"carousel-item\"><div class=\"carousel-img-wrap\"><img alt=\"untitled-11.JPG\" data-pagespeed-url-hash=\"1136099774\" height=\"216\" onload=\"pagespeed.CriticalImages.checkImageForCriticality(this);\" src=\"data:image/png;base64,iVBORw0KGgoAAAANSUhEUgAAAIsAAACFAQMAAABR3ZnMAAAAA1BMVEXz8/ML3eGLAAAAGUlEQVRIx+3BAQ0AAADCIPuntscHDACAkgMJ3wABgx3axAAAAABJRU5ErkJggg==\" width=\"360\"/></div></div></div><div class=\"carousel-addon carousel-addon-prev css-qis04y\"><button aria-label=\"Scroll to previous\" class=\"css-1id397z\" tabindex=\"0\"><svg class=\"css-xbrogd\" viewbox=\"0 0 20 20\"><path d=\"M12.452,4.516c0.446,0.436,0.481,1.043,0,1.576L8.705,10l3.747,3.908c0.481,0.533,0.446,1.141,0,1.574c-0.445,0.436-1.197,0.408-1.615,0c-0.418-0.406-4.502-4.695-4.502-4.695C6.112,10.57,6,10.285,6,10s0.112-0.57,0.335-0.789c0,0,4.084-4.287,4.502-4.695C11.255,4.107,12.007,4.08,12.452,4.516z\"></path></svg></button></div><div class=\"carousel-addon carousel-addon-next css-1j5mh5t\"><button aria-label=\"Scroll to next\" class=\"css-47h1rd\" tabindex=\"0\"><svg class=\"css-xbrogd\" viewbox=\"0 0 20 20\"><path d=\"M9.163,4.516c0.418,0.408,4.502,4.695,4.502,4.695C13.888,9.43,14,9.715,14,10s-0.112,0.57-0.335,0.787c0,0-4.084,4.289-4.502,4.695c-0.418,0.408-1.17,0.436-1.615,0c-0.446-0.434-0.481-1.041,0-1.574L11.295,10L7.548,6.092c-0.481-0.533-0.446-1.141,0-1.576C7.993,4.08,8.745,4.107,9.163,4.516z\"></path></svg></button></div><div class=\"css-6ph02n ergm6r10\"><div class=\"active css-1ggt5vp\"></div><div class=\"css-1ggt5vp\"></div><div class=\"css-1ggt5vp\"></div></div></div></div><div class=\"center-360-container\"></div><div class=\"indicators\"></div></a><div class=\"info listing\" href=\"/buy/chreav/properties-dabest-133319/\"><div class=\"copy-wrapper\"><div class=\"heading\">Land<div class=\"price\"><span class=\"value\" style=\"text-decoration:\">$59,150</span><span><div> </div><div class=\"percent listing\"> </div></span></div></div><div class=\"address-features-block\"><div class=\"address\"><span class=\"location-pin\"></span>Chreav, Siem Reap, Siem Reap</div><div class=\"featured-box css-1ubmfrc eu11br40\"><div class=\"private\"><div class=\"feature\"><span class=\"icon\"></span> <span class=\"label\">Land area: 455m²</span><span class=\"short-label\">455m²</span></div></div></div></div><div class=\"listed\"><svg class=\"css-ri58vd\" viewbox=\"0 0 20 20\"><path d=\"M10,0.4c-5.303,0-9.601,4.298-9.601,9.6c0,5.303,4.298,9.601,9.601,9.601c5.301,0,9.6-4.298,9.6-9.601C19.6,4.698,15.301,0.4,10,0.4z M9.999,17.6c-4.197,0-7.6-3.402-7.6-7.6c0-4.197,3.402-7.6,7.6-7.6c4.197,0,7.601,3.402,7.601,7.6C17.6,14.197,14.196,17.6,9.999,17.6z M11,9.33V4H9v6.245l-3.546,2.048l1,1.732l4.115-2.377C10.807,11.511,11,11.175,11,10.9v-0.168l4.24-4.166c-0.198-0.271-0.411-0.529-0.647-0.766L11,9.33z\"></path></svg> <!-- -->Updated<!-- -->: <!-- -->1 week ago<span>DaBest Properties Cambodia Co., Ltd</span></div></div><div class=\"office-image\"></div></div></article></div><div class=\"item css-1uuzwjq eq4or9x0\"><header class=\"featured css-ineky e1jqslr40\"><a href=\"/buy/veal-vong/dabest-properties-148574/\" target=\"_blank\">Spacious 2Bedroom Condo For Sale in Olympia City</a></header><article class=\"shadow featured css-1dego4x e1gd26e40\"><div class=\"labels\"><div class=\"featured\" style=\"background-color:#8DCA3F\">Featured</div><div class=\"translucent\">For sale</div><div class=\"translucent badge\">Urgent Sale</div></div><a class=\"carousel-wrap\" href=\"/buy/veal-vong/dabest-properties-148574/\" target=\"_blank\"><div class=\"carousel-img-wrap placeholder\"></div><div class=\"intersection-visible-wrapper\"></div></a><div class=\"info listing\" href=\"/buy/veal-vong/dabest-properties-148574/\"><div class=\"copy-wrapper\"><div class=\"heading\">Condo<div class=\"price\"><span class=\"value\" style=\"text-decoration:\">$220,000</span><span><div> </div><div class=\"percent listing\"> </div></span></div></div><div class=\"address-features-block\"><div class=\"address\"><span class=\"location-pin\"></span>Veal Vong, 7 Makara, Phnom Penh</div><div class=\"featured-box css-1ubmfrc eu11br40\"><div class=\"private\"><div class=\"feature\"><span class=\"icon\"></span> <span class=\"label\">Bedrooms: 2</span><span class=\"short-label\">2</span></div><div class=\"feature\"><span class=\"icon\"></span> <span class=\"label\">Bathrooms: 2</span><span class=\"short-label\">2</span></div><div class=\"feature\"><span class=\"icon\"></span> <span class=\"label\">Car spaces: 1</span><span class=\"short-label\">1</span></div><div class=\"feature\"><span class=\"icon\"></span> <span class=\"label\">Floor area: 122m²</span><span class=\"short-label\">122m²</span></div><div class=\"feature\"><span class=\"icon\"></span> <span class=\"label\">Facing: E/S</span><span class=\"short-label\">E/S</span></div></div></div></div><div class=\"listed\"><svg class=\"css-ri58vd\" viewbox=\"0 0 20 20\"><path d=\"M10,0.4c-5.303,0-9.601,4.298-9.601,9.6c0,5.303,4.298,9.601,9.601,9.601c5.301,0,9.6-4.298,9.6-9.601C19.6,4.698,15.301,0.4,10,0.4z M9.999,17.6c-4.197,0-7.6-3.402-7.6-7.6c0-4.197,3.402-7.6,7.6-7.6c4.197,0,7.601,3.402,7.601,7.6C17.6,14.197,14.196,17.6,9.999,17.6z M11,9.33V4H9v6.245l-3.546,2.048l1,1.732l4.115-2.377C10.807,11.511,11,11.175,11,10.9v-0.168l4.24-4.166c-0.198-0.271-0.411-0.529-0.647-0.766L11,9.33z\"></path></svg> <!-- -->Updated<!-- -->: <!-- -->1 week ago<span>DaBest Properties Cambodia Co., Ltd</span></div></div><div class=\"office-image\"></div></div></article></div><div class=\"item css-1uuzwjq eq4or9x0\"><header class=\"featured css-ineky e1jqslr40\"><a href=\"/buy/sala-kamraeuk/dabest-properties-114460/\" target=\"_blank\">DABEST PROPERTIES: Luxuxry Villa for Sale in Siem Reap- Sala Kamreuk</a></header><article class=\"shadow featured css-1dego4x e1gd26e40\"><div class=\"labels\"><div class=\"featured\" style=\"background-color:#8DCA3F\">Featured</div><div class=\"translucent\">For sale</div></div><a class=\"carousel-wrap\" href=\"/buy/sala-kamraeuk/dabest-properties-114460/\" target=\"_blank\"><div class=\"carousel-img-wrap placeholder\"></div><div class=\"intersection-visible-wrapper\"></div></a><div class=\"info listing\" href=\"/buy/sala-kamraeuk/dabest-properties-114460/\"><div class=\"copy-wrapper\"><div class=\"heading\">Villa<div class=\"price\"><span class=\"value\" style=\"text-decoration:\">$550,000</span><span><div> </div><div class=\"percent listing\"> </div></span></div></div><div class=\"address-features-block\"><div class=\"address\"><span class=\"location-pin\"></span>DABEST PROPERTIES, Sala Kamraeuk, Siem Reap, Siem Reap</div><div class=\"featured-box css-1ubmfrc eu11br40\"><div class=\"private\"><div class=\"feature\"><span class=\"icon\"></span> <span class=\"label\">Bedrooms: 6</span><span class=\"short-label\">6</span></div><div class=\"feature\"><span class=\"icon\"></span> <span class=\"label\">Bathrooms: 6</span><span class=\"short-label\">6</span></div><div class=\"feature\"><span class=\"icon\"></span> <span class=\"label\">Car spaces: 3</span><span class=\"short-label\">3</span></div><div class=\"feature\"><span class=\"icon\"></span> <span class=\"label\">Floor area: 317m²</span><span class=\"short-label\">317m²</span></div><div class=\"feature\"><span class=\"icon\"></span> <span class=\"label\">Land area: 800m²</span><span class=\"short-label\">800m²</span></div></div></div></div><div class=\"listed\"><svg class=\"css-ri58vd\" viewbox=\"0 0 20 20\"><path d=\"M10,0.4c-5.303,0-9.601,4.298-9.601,9.6c0,5.303,4.298,9.601,9.601,9.601c5.301,0,9.6-4.298,9.6-9.601C19.6,4.698,15.301,0.4,10,0.4z M9.999,17.6c-4.197,0-7.6-3.402-7.6-7.6c0-4.197,3.402-7.6,7.6-7.6c4.197,0,7.601,3.402,7.601,7.6C17.6,14.197,14.196,17.6,9.999,17.6z M11,9.33V4H9v6.245l-3.546,2.048l1,1.732l4.115-2.377C10.807,11.511,11,11.175,11,10.9v-0.168l4.24-4.166c-0.198-0.271-0.411-0.529-0.647-0.766L11,9.33z\"></path></svg> <!-- -->Updated<!-- -->: <!-- -->1 week ago<span>DaBest Properties Cambodia Co., Ltd</span></div></div><div class=\"office-image\"></div></div></article></div><div class=\"item css-1uuzwjq eq4or9x0\"><header class=\"featured css-ineky e1jqslr40\"><a href=\"/new-developments/le-conde-bkk1/\" target=\"_blank\">Le Condé BKK1</a></header><article class=\"shadow featured css-1dego4x e1gd26e40\"><div class=\"labels\"><div class=\"featured\" style=\"background-color:#8DCA3F\">Featured</div><div class=\"translucent\" style=\"background-color:#8DCA3F\">Rental Return: 8.0% a year for 3 years</div><div class=\"translucent\">For sale</div><div class=\"translucent badge\">Luxury Property</div></div><a class=\"carousel-wrap\" href=\"/new-developments/le-conde-bkk1/\" target=\"_blank\"><div class=\"carousel-img-wrap placeholder\"></div><div class=\"intersection-visible-wrapper\"></div></a><a class=\"info project\" href=\"/new-developments/le-conde-bkk1/\"><div class=\"copy-wrapper\"><div class=\"prices-block\"><div class=\"full\"><div class=\"heading\">Apartment</div><div><div class=\"price\"><span class=\"value\" style=\"text-decoration:\">$139,895</span><span><div> </div><div class=\"percent\"> </div></span></div></div></div></div><div class=\"address-features-block\"><div class=\"address\"><span class=\"location-pin\"></span> <!-- -->BKK 1, Chamkarmon, Phnom Penh</div><div class=\"featured-box css-1ubmfrc eu11br40\"><div class=\"general\"><div class=\"feature\"><span class=\"icon\"></span> <span class=\"label\">Total units: 1080</span><span class=\"short-label\">Total units: 1080</span></div><div class=\"feature\"><span class=\"icon\"></span> <span class=\"label\">Unit types: Condo, Studio, Condo, Retail</span><span class=\"short-label\">Unit types: Condo, Studio, Condo, Retail</span></div></div><div class=\"private\"><div class=\"feature\"><span class=\"icon\"></span> <span class=\"label\">Bedrooms: 1 to 3</span><span class=\"short-label\">1 to 3</span></div><div class=\"feature\"><span class=\"icon\"></span> <span class=\"label\">Floor area: 39 to 167m²</span><span class=\"short-label\">39 to 167m²</span></div></div><div class=\"amenities\"><div class=\"feature\"><span class=\"icon\"></span> <!-- -->High Return Yield</div><div class=\"feature\"><span class=\"icon\"></span> <!-- -->Brand Developer</div></div></div></div><div class=\"listed\"><span>WANG FU GUO JI PROPERTY DEVELOPMENT CO., LTD</span></div></div><div class=\"office-image\"></div></a></article><a href=\"/new-developments/le-conde-bkk1/1-bed-1-bath-studio-142103/\" style=\"text-decoration:none\" target=\"_blank\"><div class=\"css-1vnpk6b eumwje70\"><img alt=\"P1655133.jpg at Le Condé BKK1 | Studio Room Type A3\" class=\"image\" data-pagespeed-url-hash=\"1136099774\" onload=\"pagespeed.CriticalImages.checkImageForCriticality(this);\" src=\"data:image/png;base64,iVBORw0KGgoAAAANSUhEUgAAAHAAAABQAQMAAAD7gmM+AAAAA1BMVEXz8/ML3eGLAAAAEklEQVQ4y2NgGAWjYBSMgqEBAASwAAEWEzfQAAAAAElFTkSuQmCC\"/><div class=\"content\"><div class=\"texts\"><div>Le Condé BKK1 | Studio Room Type A3</div><div class=\"price\"><div class=\"old\"><span class=\"value\">$139,895</span></div></div></div><div class=\"featured-box css-1ubmfrc eu11br40\"><div class=\"private\"><div class=\"feature\"><span class=\"icon\"></span> <span class=\"label\">1</span><span class=\"short-label\">1</span></div><div class=\"feature\"><span class=\"icon\"></span> <span class=\"label\">1</span><span class=\"short-label\">1</span></div><div class=\"feature\"><span class=\"icon\"></span> <span class=\"label\">39m²</span><span class=\"short-label\">39m²</span></div><div class=\"feature\"><span class=\"icon\"></span> <span class=\"label\">7</span><span class=\"short-label\">7</span></div><div class=\"feature\"><span class=\"icon\"></span> <span class=\"label\">N</span><span class=\"short-label\">N</span></div></div></div></div></div></a><a href=\"/new-developments/le-conde-bkk1/1-bed-1-bath-condo-142107/\" style=\"text-decoration:none\" target=\"_blank\"><div class=\"css-1vnpk6b eumwje70\"><img alt=\"P1649937.jpg at Le Condé BKK1 | One Bedroom Type B1\" class=\"image\" data-pagespeed-url-hash=\"1136099774\" onload=\"pagespeed.CriticalImages.checkImageForCriticality(this);\" src=\"data:image/png;base64,iVBORw0KGgoAAAANSUhEUgAAAHAAAABQAQMAAAD7gmM+AAAAA1BMVEXz8/ML3eGLAAAAEklEQVQ4y2NgGAWjYBSMgqEBAASwAAEWEzfQAAAAAElFTkSuQmCC\"/><div class=\"content\"><div class=\"texts\"><div>Le Condé BKK1 | One Bedroom Type B1</div><div class=\"price\"><div class=\"old\"><span class=\"value\">$211,819</span></div></div></div><div class=\"featured-box css-1ubmfrc eu11br40\"><div class=\"private\"><div class=\"feature\"><span class=\"icon\"></span> <span class=\"label\">1</span><span class=\"short-label\">1</span></div><div class=\"feature\"><span class=\"icon\"></span> <span class=\"label\">1</span><span class=\"short-label\">1</span></div><div class=\"feature\"><span class=\"icon\"></span> <span class=\"label\">61m²</span><span class=\"short-label\">61m²</span></div><div class=\"feature\"><span class=\"icon\"></span> <span class=\"label\">23</span><span class=\"short-label\">23</span></div><div class=\"feature\"><span class=\"icon\"></span> <span class=\"label\">S</span><span class=\"short-label\">S</span></div></div></div></div></div></a><a href=\"/new-developments/le-conde-bkk1/1-bed-1-bath-condo-220847/\" style=\"text-decoration:none\" target=\"_blank\"><div class=\"css-1vnpk6b eumwje70\"><img alt=\"P1649916.jpg at Le Condé BKK1 | One Bedroom Type B2\" class=\"image\" data-pagespeed-url-hash=\"1136099774\" onload=\"pagespeed.CriticalImages.checkImageForCriticality(this);\" src=\"data:image/png;base64,iVBORw0KGgoAAAANSUhEUgAAAHAAAABQAQMAAAD7gmM+AAAAA1BMVEXz8/ML3eGLAAAAEklEQVQ4y2NgGAWjYBSMgqEBAASwAAEWEzfQAAAAAElFTkSuQmCC\"/><div class=\"content\"><div class=\"texts\"><div>Le Condé BKK1 | One Bedroom Type B2</div><div class=\"price\"><div class=\"old\"><span class=\"value\">$218,729</span></div></div></div><div class=\"featured-box css-1ubmfrc eu11br40\"><div class=\"private\"><div class=\"feature\"><span class=\"icon\"></span> <span class=\"label\">1</span><span class=\"short-label\">1</span></div><div class=\"feature\"><span class=\"icon\"></span> <span class=\"label\">1</span><span class=\"short-label\">1</span></div><div class=\"feature\"><span class=\"icon\"></span> <span class=\"label\">61m²</span><span class=\"short-label\">61m²</span></div><div class=\"feature\"><span class=\"icon\"></span> <span class=\"label\">7</span><span class=\"short-label\">7</span></div><div class=\"feature\"><span class=\"icon\"></span> <span class=\"label\">N</span><span class=\"short-label\">N</span></div></div></div></div></div></a></div></div>\n"
     ]
    }
   ],
   "source": [
    "url = 'https://www.realestate.com.kh/buy/?page=1'\n",
    "headers = {'User-Agent': 'Mozilla/5.0 (Linux; Android 6.0; Nexus 5 Build/MRA58N) AppleWebKit/537.36 (KHTML, like Gecko) Chrome/105.0.0.0 Mobile Safari/537.36'}\n",
    "\n",
    "category_url = []\n",
    "\n",
    "response = requests.get(url, headers=headers)\n",
    "data = bs(response.content, 'html.parser')\n",
    "\n",
    "# query all headers\n",
    "get_all_header = data.find_all(class_='items')\n",
    "get_all_header[0]\n",
    "\n",
    "print(get_all_header[0])\n",
    "# for i in get_all_header[0]:\n",
    "#     print(i.find(class_='value').get_text())\n",
    "\n"
   ]
  },
  {
   "cell_type": "code",
   "execution_count": 61,
   "metadata": {},
   "outputs": [
    {
     "name": "stdout",
     "output_type": "stream",
     "text": [
      "$130,000\n",
      "Kandaek, Prasat Bakong, Siem Reap\n",
      "Villa\n",
      "Villa for Sale in Siem Reap-Kon Deak Borey Tourism siem reap\n"
     ]
    }
   ],
   "source": [
    "print(get_all_header[0].find(class_='value').get_text())\n",
    "print(get_all_header[0].find(class_='address').get_text().replace('\\ue92f',''))\n",
    "print(get_all_header[0].find(class_='heading').get_text().split('$')[0])\n",
    "# print(get_all_header[0].find_all(class_='label'))\n",
    "print(get_all_header[0].find(class_='featured').get_text())"
   ]
  },
  {
   "cell_type": "code",
   "execution_count": 162,
   "metadata": {},
   "outputs": [],
   "source": [
    "product_info = []"
   ]
  },
  {
   "cell_type": "code",
   "execution_count": 163,
   "metadata": {},
   "outputs": [],
   "source": [
    "def get_product_info(url):\n",
    "    browser = webdriver.Chrome(ChromeDriverManager().install())\n",
    "    browser.get(url)\n",
    "    headers = {'User-Agent': 'Mozilla/5.0 (Linux; Android 6.0; Nexus 5 Build/MRA58N) AppleWebKit/537.36 (KHTML, like Gecko) Chrome/105.0.0.0 Mobile Safari/537.36'}\n",
    "    response = requests.get(url, headers=headers)\n",
    "    data = bs(response.content, 'html.parser')\n",
    "\n",
    "\n",
    "    # query all headers\n",
    "    get_all_header_no_nest = data.find_all(class_='item')\n",
    "\n",
    "    time.sleep(20)\n",
    "    for item in get_all_header_no_nest:\n",
    "        name = item.find(class_='featured') if item.find(class_='featured') == None else item.find(class_='featured').get_text()\n",
    "        loaction = item.find(class_='address') if item.find(class_='address') == None else  item.get_text().replace('\\ue92f','')\n",
    "        category = item.find(class_='heading') if item.find(class_='heading') == None else item.find(class_='heading').get_text().split('$')[0]        \n",
    "        price = item.find(class_='value') if item.find(class_='value') == None else item.get_text()\n",
    "        infos = str(item.find_all(class_='label'))\n",
    "        product_info.append({'name': name, 'location' : loaction, 'category' : category, 'price' : price, 'infos' : infos})"
   ]
  },
  {
   "cell_type": "code",
   "execution_count": 164,
   "metadata": {},
   "outputs": [
    {
     "name": "stderr",
     "output_type": "stream",
     "text": [
      "/tmp/ipykernel_82856/4209728301.py:2: DeprecationWarning: executable_path has been deprecated, please pass in a Service object\n",
      "  browser = webdriver.Chrome(ChromeDriverManager().install())\n"
     ]
    },
    {
     "ename": "WebDriverException",
     "evalue": "Message: unknown error: Devtools port number file contents <> were in an unexpected format\nStacktrace:\n#0 0x55a1bd8b4463 <unknown>\n#1 0x55a1bd6788d8 <unknown>\n#2 0x55a1bd6a4331 <unknown>\n#3 0x55a1bd6a0371 <unknown>\n#4 0x55a1bd69bc05 <unknown>\n#5 0x55a1bd6df802 <unknown>\n#6 0x55a1bd6df2af <unknown>\n#7 0x55a1bd6d7443 <unknown>\n#8 0x55a1bd6a83c5 <unknown>\n#9 0x55a1bd6a9531 <unknown>\n#10 0x55a1bd906dce <unknown>\n#11 0x55a1bd90a192 <unknown>\n#12 0x55a1bd8eb93e <unknown>\n#13 0x55a1bd90b103 <unknown>\n#14 0x55a1bd8ded85 <unknown>\n#15 0x55a1bd92c0a8 <unknown>\n#16 0x55a1bd92c239 <unknown>\n#17 0x55a1bd947492 <unknown>\n#18 0x7fc1014c8b43 <unknown>\n",
     "output_type": "error",
     "traceback": [
      "\u001b[0;31m---------------------------------------------------------------------------\u001b[0m",
      "\u001b[0;31mWebDriverException\u001b[0m                        Traceback (most recent call last)",
      "Cell \u001b[0;32mIn [164], line 4\u001b[0m\n\u001b[1;32m      1\u001b[0m url_for_loop \u001b[39m=\u001b[39m \u001b[39m'\u001b[39m\u001b[39mhttps://www.realestate.com.kh/buy/?page=\u001b[39m\u001b[39m'\u001b[39m\n\u001b[1;32m      3\u001b[0m \u001b[39mfor\u001b[39;00m page_number \u001b[39min\u001b[39;00m \u001b[39mrange\u001b[39m(\u001b[39m1\u001b[39m, \u001b[39m51\u001b[39m, \u001b[39m1\u001b[39m):\n\u001b[0;32m----> 4\u001b[0m     get_product_info(\u001b[39m'\u001b[39;49m\u001b[39mhttps://www.realestate.com.kh/buy/?page=\u001b[39;49m\u001b[39m'\u001b[39;49m\u001b[39m+\u001b[39;49m\u001b[39mstr\u001b[39;49m(page_number))\n",
      "Cell \u001b[0;32mIn [163], line 2\u001b[0m, in \u001b[0;36mget_product_info\u001b[0;34m(url)\u001b[0m\n\u001b[1;32m      1\u001b[0m \u001b[39mdef\u001b[39;00m \u001b[39mget_product_info\u001b[39m(url):\n\u001b[0;32m----> 2\u001b[0m     browser \u001b[39m=\u001b[39m webdriver\u001b[39m.\u001b[39;49mChrome(ChromeDriverManager()\u001b[39m.\u001b[39;49minstall())\n\u001b[1;32m      3\u001b[0m     browser\u001b[39m.\u001b[39mget(url)\n\u001b[1;32m      4\u001b[0m     headers \u001b[39m=\u001b[39m {\u001b[39m'\u001b[39m\u001b[39mUser-Agent\u001b[39m\u001b[39m'\u001b[39m: \u001b[39m'\u001b[39m\u001b[39mMozilla/5.0 (Linux; Android 6.0; Nexus 5 Build/MRA58N) AppleWebKit/537.36 (KHTML, like Gecko) Chrome/105.0.0.0 Mobile Safari/537.36\u001b[39m\u001b[39m'\u001b[39m}\n",
      "File \u001b[0;32m~/Documents/pyver/venv/lib/python3.10/site-packages/selenium/webdriver/chrome/webdriver.py:69\u001b[0m, in \u001b[0;36mWebDriver.__init__\u001b[0;34m(self, executable_path, port, options, service_args, desired_capabilities, service_log_path, chrome_options, service, keep_alive)\u001b[0m\n\u001b[1;32m     66\u001b[0m \u001b[39mif\u001b[39;00m \u001b[39mnot\u001b[39;00m service:\n\u001b[1;32m     67\u001b[0m     service \u001b[39m=\u001b[39m Service(executable_path, port, service_args, service_log_path)\n\u001b[0;32m---> 69\u001b[0m \u001b[39msuper\u001b[39;49m()\u001b[39m.\u001b[39;49m\u001b[39m__init__\u001b[39;49m(DesiredCapabilities\u001b[39m.\u001b[39;49mCHROME[\u001b[39m'\u001b[39;49m\u001b[39mbrowserName\u001b[39;49m\u001b[39m'\u001b[39;49m], \u001b[39m\"\u001b[39;49m\u001b[39mgoog\u001b[39;49m\u001b[39m\"\u001b[39;49m,\n\u001b[1;32m     70\u001b[0m                  port, options,\n\u001b[1;32m     71\u001b[0m                  service_args, desired_capabilities,\n\u001b[1;32m     72\u001b[0m                  service_log_path, service, keep_alive)\n",
      "File \u001b[0;32m~/Documents/pyver/venv/lib/python3.10/site-packages/selenium/webdriver/chromium/webdriver.py:92\u001b[0m, in \u001b[0;36mChromiumDriver.__init__\u001b[0;34m(self, browser_name, vendor_prefix, port, options, service_args, desired_capabilities, service_log_path, service, keep_alive)\u001b[0m\n\u001b[1;32m     89\u001b[0m \u001b[39mself\u001b[39m\u001b[39m.\u001b[39mservice\u001b[39m.\u001b[39mstart()\n\u001b[1;32m     91\u001b[0m \u001b[39mtry\u001b[39;00m:\n\u001b[0;32m---> 92\u001b[0m     \u001b[39msuper\u001b[39;49m()\u001b[39m.\u001b[39;49m\u001b[39m__init__\u001b[39;49m(\n\u001b[1;32m     93\u001b[0m         command_executor\u001b[39m=\u001b[39;49mChromiumRemoteConnection(\n\u001b[1;32m     94\u001b[0m             remote_server_addr\u001b[39m=\u001b[39;49m\u001b[39mself\u001b[39;49m\u001b[39m.\u001b[39;49mservice\u001b[39m.\u001b[39;49mservice_url,\n\u001b[1;32m     95\u001b[0m             browser_name\u001b[39m=\u001b[39;49mbrowser_name, vendor_prefix\u001b[39m=\u001b[39;49mvendor_prefix,\n\u001b[1;32m     96\u001b[0m             keep_alive\u001b[39m=\u001b[39;49mkeep_alive, ignore_proxy\u001b[39m=\u001b[39;49m_ignore_proxy),\n\u001b[1;32m     97\u001b[0m         options\u001b[39m=\u001b[39;49moptions)\n\u001b[1;32m     98\u001b[0m \u001b[39mexcept\u001b[39;00m \u001b[39mException\u001b[39;00m:\n\u001b[1;32m     99\u001b[0m     \u001b[39mself\u001b[39m\u001b[39m.\u001b[39mquit()\n",
      "File \u001b[0;32m~/Documents/pyver/venv/lib/python3.10/site-packages/selenium/webdriver/remote/webdriver.py:270\u001b[0m, in \u001b[0;36mWebDriver.__init__\u001b[0;34m(self, command_executor, desired_capabilities, browser_profile, proxy, keep_alive, file_detector, options)\u001b[0m\n\u001b[1;32m    268\u001b[0m \u001b[39mself\u001b[39m\u001b[39m.\u001b[39m_authenticator_id \u001b[39m=\u001b[39m \u001b[39mNone\u001b[39;00m\n\u001b[1;32m    269\u001b[0m \u001b[39mself\u001b[39m\u001b[39m.\u001b[39mstart_client()\n\u001b[0;32m--> 270\u001b[0m \u001b[39mself\u001b[39;49m\u001b[39m.\u001b[39;49mstart_session(capabilities, browser_profile)\n",
      "File \u001b[0;32m~/Documents/pyver/venv/lib/python3.10/site-packages/selenium/webdriver/remote/webdriver.py:363\u001b[0m, in \u001b[0;36mWebDriver.start_session\u001b[0;34m(self, capabilities, browser_profile)\u001b[0m\n\u001b[1;32m    361\u001b[0m w3c_caps \u001b[39m=\u001b[39m _make_w3c_caps(capabilities)\n\u001b[1;32m    362\u001b[0m parameters \u001b[39m=\u001b[39m {\u001b[39m\"\u001b[39m\u001b[39mcapabilities\u001b[39m\u001b[39m\"\u001b[39m: w3c_caps}\n\u001b[0;32m--> 363\u001b[0m response \u001b[39m=\u001b[39m \u001b[39mself\u001b[39;49m\u001b[39m.\u001b[39;49mexecute(Command\u001b[39m.\u001b[39;49mNEW_SESSION, parameters)\n\u001b[1;32m    364\u001b[0m \u001b[39mif\u001b[39;00m \u001b[39m'\u001b[39m\u001b[39msessionId\u001b[39m\u001b[39m'\u001b[39m \u001b[39mnot\u001b[39;00m \u001b[39min\u001b[39;00m response:\n\u001b[1;32m    365\u001b[0m     response \u001b[39m=\u001b[39m response[\u001b[39m'\u001b[39m\u001b[39mvalue\u001b[39m\u001b[39m'\u001b[39m]\n",
      "File \u001b[0;32m~/Documents/pyver/venv/lib/python3.10/site-packages/selenium/webdriver/remote/webdriver.py:428\u001b[0m, in \u001b[0;36mWebDriver.execute\u001b[0;34m(self, driver_command, params)\u001b[0m\n\u001b[1;32m    426\u001b[0m response \u001b[39m=\u001b[39m \u001b[39mself\u001b[39m\u001b[39m.\u001b[39mcommand_executor\u001b[39m.\u001b[39mexecute(driver_command, params)\n\u001b[1;32m    427\u001b[0m \u001b[39mif\u001b[39;00m response:\n\u001b[0;32m--> 428\u001b[0m     \u001b[39mself\u001b[39;49m\u001b[39m.\u001b[39;49merror_handler\u001b[39m.\u001b[39;49mcheck_response(response)\n\u001b[1;32m    429\u001b[0m     response[\u001b[39m'\u001b[39m\u001b[39mvalue\u001b[39m\u001b[39m'\u001b[39m] \u001b[39m=\u001b[39m \u001b[39mself\u001b[39m\u001b[39m.\u001b[39m_unwrap_value(\n\u001b[1;32m    430\u001b[0m         response\u001b[39m.\u001b[39mget(\u001b[39m'\u001b[39m\u001b[39mvalue\u001b[39m\u001b[39m'\u001b[39m, \u001b[39mNone\u001b[39;00m))\n\u001b[1;32m    431\u001b[0m     \u001b[39mreturn\u001b[39;00m response\n",
      "File \u001b[0;32m~/Documents/pyver/venv/lib/python3.10/site-packages/selenium/webdriver/remote/errorhandler.py:243\u001b[0m, in \u001b[0;36mErrorHandler.check_response\u001b[0;34m(self, response)\u001b[0m\n\u001b[1;32m    241\u001b[0m         alert_text \u001b[39m=\u001b[39m value[\u001b[39m'\u001b[39m\u001b[39malert\u001b[39m\u001b[39m'\u001b[39m]\u001b[39m.\u001b[39mget(\u001b[39m'\u001b[39m\u001b[39mtext\u001b[39m\u001b[39m'\u001b[39m)\n\u001b[1;32m    242\u001b[0m     \u001b[39mraise\u001b[39;00m exception_class(message, screen, stacktrace, alert_text)  \u001b[39m# type: ignore[call-arg]  # mypy is not smart enough here\u001b[39;00m\n\u001b[0;32m--> 243\u001b[0m \u001b[39mraise\u001b[39;00m exception_class(message, screen, stacktrace)\n",
      "\u001b[0;31mWebDriverException\u001b[0m: Message: unknown error: Devtools port number file contents <> were in an unexpected format\nStacktrace:\n#0 0x55a1bd8b4463 <unknown>\n#1 0x55a1bd6788d8 <unknown>\n#2 0x55a1bd6a4331 <unknown>\n#3 0x55a1bd6a0371 <unknown>\n#4 0x55a1bd69bc05 <unknown>\n#5 0x55a1bd6df802 <unknown>\n#6 0x55a1bd6df2af <unknown>\n#7 0x55a1bd6d7443 <unknown>\n#8 0x55a1bd6a83c5 <unknown>\n#9 0x55a1bd6a9531 <unknown>\n#10 0x55a1bd906dce <unknown>\n#11 0x55a1bd90a192 <unknown>\n#12 0x55a1bd8eb93e <unknown>\n#13 0x55a1bd90b103 <unknown>\n#14 0x55a1bd8ded85 <unknown>\n#15 0x55a1bd92c0a8 <unknown>\n#16 0x55a1bd92c239 <unknown>\n#17 0x55a1bd947492 <unknown>\n#18 0x7fc1014c8b43 <unknown>\n"
     ]
    }
   ],
   "source": [
    "url_for_loop = 'https://www.realestate.com.kh/buy/?page='\n",
    "\n",
    "for page_number in range(1, 51, 1):\n",
    "    get_product_info('https://www.realestate.com.kh/buy/?page='+str(page_number))\n",
    "\n",
    "\n",
    "# get_product_info('https://www.realestate.com.kh/buy/?page=1')"
   ]
  },
  {
   "cell_type": "code",
   "execution_count": 158,
   "metadata": {},
   "outputs": [
    {
     "data": {
      "text/plain": [
       "[{'name': None,\n",
       "  'location': None,\n",
       "  'category': None,\n",
       "  'price': None,\n",
       "  'infos': '[]'},\n",
       " {'name': None,\n",
       "  'location': None,\n",
       "  'category': None,\n",
       "  'price': None,\n",
       "  'infos': '[]'},\n",
       " {'name': 'Villa for Sale in Siem Reap-Kon Deak Borey Tourism siem reap',\n",
       "  'location': 'Villa for Sale in Siem Reap-Kon Deak Borey Tourism siem reapFeaturedFor sale\\n\\nVilla$130,000  Kandaek, Prasat Bakong, Siem Reap\\ue920 Bedrooms: 33\\ue91f Bathrooms: 33\\ue93f Land area: 240m²240m² Updated: 1\\xa0week agoDaBest Properties Cambodia Co., Ltd',\n",
       "  'category': 'Villa',\n",
       "  'price': 'Villa for Sale in Siem Reap-Kon Deak Borey Tourism siem reapFeaturedFor sale\\n\\nVilla$130,000  \\ue92fKandaek, Prasat Bakong, Siem Reap\\ue920 Bedrooms: 33\\ue91f Bathrooms: 33\\ue93f Land area: 240m²240m² Updated: 1\\xa0week agoDaBest Properties Cambodia Co., Ltd',\n",
       "  'infos': '[<span class=\"label\">Bedrooms: 3</span>, <span class=\"label\">Bathrooms: 3</span>, <span class=\"label\">Land area: 240m²</span>]'},\n",
       " {'name': 'Land for Sale in\\u200b Krong Siem Reap-Sangkat Chreav ',\n",
       "  'location': 'Land for Sale in\\u200b Krong Siem Reap-Sangkat Chreav FeaturedFor saleLand$59,150  Chreav, Siem Reap, Siem Reap\\ue93f Land area: 455m²455m² Updated: 1\\xa0week agoDaBest Properties Cambodia Co., Ltd',\n",
       "  'category': 'Land',\n",
       "  'price': 'Land for Sale in\\u200b Krong Siem Reap-Sangkat Chreav FeaturedFor saleLand$59,150  \\ue92fChreav, Siem Reap, Siem Reap\\ue93f Land area: 455m²455m² Updated: 1\\xa0week agoDaBest Properties Cambodia Co., Ltd',\n",
       "  'infos': '[<span class=\"label\">Land area: 455m²</span>]'},\n",
       " {'name': 'Spacious 2Bedroom Condo For Sale in Olympia City',\n",
       "  'location': 'Spacious 2Bedroom Condo For Sale in Olympia CityFeaturedFor saleUrgent SaleCondo$220,000  Veal Vong, 7 Makara, Phnom Penh\\ue920 Bedrooms: 22\\ue91f Bathrooms: 22\\ue90d Car spaces: 11\\ue94a Floor area: 122m²122m²\\ue933 Facing: E/SE/S Updated: 1\\xa0week agoDaBest Properties Cambodia Co., Ltd',\n",
       "  'category': 'Condo',\n",
       "  'price': 'Spacious 2Bedroom Condo For Sale in Olympia CityFeaturedFor saleUrgent SaleCondo$220,000  \\ue92fVeal Vong, 7 Makara, Phnom Penh\\ue920 Bedrooms: 22\\ue91f Bathrooms: 22\\ue90d Car spaces: 11\\ue94a Floor area: 122m²122m²\\ue933 Facing: E/SE/S Updated: 1\\xa0week agoDaBest Properties Cambodia Co., Ltd',\n",
       "  'infos': '[<span class=\"label\">Bedrooms: 2</span>, <span class=\"label\">Bathrooms: 2</span>, <span class=\"label\">Car spaces: 1</span>, <span class=\"label\">Floor area: 122m²</span>, <span class=\"label\">Facing: E/S</span>]'},\n",
       " {'name': 'DABEST PROPERTIES: Luxuxry Villa for Sale in Siem Reap- Sala Kamreuk',\n",
       "  'location': 'DABEST PROPERTIES: Luxuxry Villa for Sale in Siem Reap- Sala KamreukFeaturedFor saleVilla$550,000  DABEST PROPERTIES, Sala Kamraeuk, Siem Reap, Siem Reap\\ue920 Bedrooms: 66\\ue91f Bathrooms: 66\\ue90d Car spaces: 33\\ue94a Floor area: 317m²317m²\\ue93f Land area: 800m²800m² Updated: 1\\xa0week agoDaBest Properties Cambodia Co., Ltd',\n",
       "  'category': 'Villa',\n",
       "  'price': 'DABEST PROPERTIES: Luxuxry Villa for Sale in Siem Reap- Sala KamreukFeaturedFor saleVilla$550,000  \\ue92fDABEST PROPERTIES, Sala Kamraeuk, Siem Reap, Siem Reap\\ue920 Bedrooms: 66\\ue91f Bathrooms: 66\\ue90d Car spaces: 33\\ue94a Floor area: 317m²317m²\\ue93f Land area: 800m²800m² Updated: 1\\xa0week agoDaBest Properties Cambodia Co., Ltd',\n",
       "  'infos': '[<span class=\"label\">Bedrooms: 6</span>, <span class=\"label\">Bathrooms: 6</span>, <span class=\"label\">Car spaces: 3</span>, <span class=\"label\">Floor area: 317m²</span>, <span class=\"label\">Land area: 800m²</span>]'},\n",
       " {'name': 'Le Condé BKK1',\n",
       "  'location': 'Le Condé BKK1FeaturedRental Return: 8.0% a year for 3 yearsFor saleLuxury PropertyApartment$139,895   BKK 1, Chamkarmon, Phnom Penh\\ue948 Total units: 1080Total units: 1080\\ue947 Unit types: Condo, Studio, Condo, RetailUnit types: Condo, Studio, Condo, Retail\\ue920 Bedrooms: 1 to 31 to 3\\ue94a Floor area: 39 to 167m²39 to 167m²\\ue923 High Return Yield\\ue923 Brand DeveloperWANG FU GUO JI PROPERTY DEVELOPMENT CO., LTDLe Condé BKK1 | Studio Room Type A3$139,895\\ue920 11\\ue91f 11\\ue94a 39m²39m²\\ue94b 77\\ue933 NNLe Condé BKK1 | One Bedroom Type B1$211,819\\ue920 11\\ue91f 11\\ue94a 61m²61m²\\ue94b 2323\\ue933 SSLe Condé BKK1 | One Bedroom Type B2$218,729\\ue920 11\\ue91f 11\\ue94a 61m²61m²\\ue94b 77\\ue933 NN',\n",
       "  'category': 'Apartment',\n",
       "  'price': 'Le Condé BKK1FeaturedRental Return: 8.0% a year for 3 yearsFor saleLuxury PropertyApartment$139,895  \\ue92f BKK 1, Chamkarmon, Phnom Penh\\ue948 Total units: 1080Total units: 1080\\ue947 Unit types: Condo, Studio, Condo, RetailUnit types: Condo, Studio, Condo, Retail\\ue920 Bedrooms: 1 to 31 to 3\\ue94a Floor area: 39 to 167m²39 to 167m²\\ue923 High Return Yield\\ue923 Brand DeveloperWANG FU GUO JI PROPERTY DEVELOPMENT CO., LTDLe Condé BKK1 | Studio Room Type A3$139,895\\ue920 11\\ue91f 11\\ue94a 39m²39m²\\ue94b 77\\ue933 NNLe Condé BKK1 | One Bedroom Type B1$211,819\\ue920 11\\ue91f 11\\ue94a 61m²61m²\\ue94b 2323\\ue933 SSLe Condé BKK1 | One Bedroom Type B2$218,729\\ue920 11\\ue91f 11\\ue94a 61m²61m²\\ue94b 77\\ue933 NN',\n",
       "  'infos': '[<span class=\"label\">Total units: 1080</span>, <span class=\"label\">Unit types: Condo, Studio, Condo, Retail</span>, <span class=\"label\">Bedrooms: 1 to 3</span>, <span class=\"label\">Floor area: 39 to 167m²</span>, <span class=\"label\">1</span>, <span class=\"label\">1</span>, <span class=\"label\">39m²</span>, <span class=\"label\">7</span>, <span class=\"label\">N</span>, <span class=\"label\">1</span>, <span class=\"label\">1</span>, <span class=\"label\">61m²</span>, <span class=\"label\">23</span>, <span class=\"label\">S</span>, <span class=\"label\">1</span>, <span class=\"label\">1</span>, <span class=\"label\">61m²</span>, <span class=\"label\">7</span>, <span class=\"label\">N</span>]'},\n",
       " {'name': 'Luxury Penthouse | 3 Floors | 4 Master Bedrooms | Private Cinema, Swimming Pool, Gym, Salon',\n",
       "  'location': 'Luxury Penthouse | 3 Floors | 4 Master Bedrooms | Private Cinema, Swimming Pool, Gym, SalonFeaturedFor sale or rentUnder Market ValueCondo$3,500,000 $3,000,000SAVE 14.29%Tonle Bassac, Chamkarmon, Phnom Penh\\ue920 Bedrooms: 44\\ue91f Bathrooms: 55\\ue90d Car spaces: 11\\ue94a Floor area: 1054m²1054m²\\ue94b Floor level: 3232 Updated: 2\\xa0weeks agoMLS Property Cambodia',\n",
       "  'category': 'Condo',\n",
       "  'price': 'Luxury Penthouse | 3 Floors | 4 Master Bedrooms | Private Cinema, Swimming Pool, Gym, SalonFeaturedFor sale or rentUnder Market ValueCondo$3,500,000 $3,000,000SAVE 14.29%\\ue92fTonle Bassac, Chamkarmon, Phnom Penh\\ue920 Bedrooms: 44\\ue91f Bathrooms: 55\\ue90d Car spaces: 11\\ue94a Floor area: 1054m²1054m²\\ue94b Floor level: 3232 Updated: 2\\xa0weeks agoMLS Property Cambodia',\n",
       "  'infos': '[<span class=\"label\">Bedrooms: 4</span>, <span class=\"label\">Bathrooms: 5</span>, <span class=\"label\">Car spaces: 1</span>, <span class=\"label\">Floor area: 1054m²</span>, <span class=\"label\">Floor level: 32</span>]'},\n",
       " {'name': 'Orkide The Royal Condominium',\n",
       "  'location': \"Orkide The Royal CondominiumFeaturedFor saleReady to Move InProject$73,489   Maida st 2004, Ou Baek K'am, Sen Sok, Phnom Penh\\ue948 Total units: 1999Total units: 1999\\ue947 Unit types: Apartment, Condo, Link House, Villa, Condo, ShophouseUnit types: Apartment, Condo, Link House, Villa, Condo, Shophouse\\ue920 Bedrooms: 1 to 31 to 3\\ue94a Floor area: 30 to 127m²30 to 127m²\\ue923 Brand Developer\\ue923 High Appreciation ValueOrkidē Villa Co., LtdResale unit in Orkide The Royal Condominium$68,000\\ue920 11\\ue91f 11\\ue90d 11\\ue94a 30m²30m²\\ue94b 88Orkide The Royal Condominium Unit 1A$120,733$2,508/m²\\ue920 11\\ue91f 11\\ue94a 48m²48m²Orkide The Royal Condominium Unit 2A$211,845$3,355/m²\\ue920 22\\ue91f 22\\ue94a 63m²63m²\",\n",
       "  'category': 'Project',\n",
       "  'price': \"Orkide The Royal CondominiumFeaturedFor saleReady to Move InProject$73,489  \\ue92f Maida st 2004, Ou Baek K'am, Sen Sok, Phnom Penh\\ue948 Total units: 1999Total units: 1999\\ue947 Unit types: Apartment, Condo, Link House, Villa, Condo, ShophouseUnit types: Apartment, Condo, Link House, Villa, Condo, Shophouse\\ue920 Bedrooms: 1 to 31 to 3\\ue94a Floor area: 30 to 127m²30 to 127m²\\ue923 Brand Developer\\ue923 High Appreciation ValueOrkidē Villa Co., LtdResale unit in Orkide The Royal Condominium$68,000\\ue920 11\\ue91f 11\\ue90d 11\\ue94a 30m²30m²\\ue94b 88Orkide The Royal Condominium Unit 1A$120,733$2,508/m²\\ue920 11\\ue91f 11\\ue94a 48m²48m²Orkide The Royal Condominium Unit 2A$211,845$3,355/m²\\ue920 22\\ue91f 22\\ue94a 63m²63m²\",\n",
       "  'infos': '[<span class=\"label\">Total units: 1999</span>, <span class=\"label\">Unit types: Apartment, Condo, Link House, Villa, Condo, Shophouse</span>, <span class=\"label\">Bedrooms: 1 to 3</span>, <span class=\"label\">Floor area: 30 to 127m²</span>, <span class=\"label\">1</span>, <span class=\"label\">1</span>, <span class=\"label\">1</span>, <span class=\"label\">30m²</span>, <span class=\"label\">8</span>, <span class=\"label\">1</span>, <span class=\"label\">1</span>, <span class=\"label\">48m²</span>, <span class=\"label\">2</span>, <span class=\"label\">2</span>, <span class=\"label\">63m²</span>]'},\n",
       " {'name': 'Diamond Bay Garden',\n",
       "  'location': 'Diamond Bay GardenFeaturedRental Return: 6.0% a year for 5 yearsFor saleLuxury PropertyCondo$99,000   Tonle Bassac, Chamkarmon, Phnom Penh\\ue948 Total units: 591Total units: 591\\ue947 Unit types: Condo, Shophouse, StudioUnit types: Condo, Shophouse, Studio\\ue920 Bedrooms: 1 to 31 to 3\\ue94a Floor area: 59 to 169m²59 to 169m²\\ue923 High Return Yield\\ue923 Brand DeveloperDiamond Bay GardenDiamond Bay Garden | Studio Type SC$99,000\\ue920 11\\ue91f 11\\ue94a 62m²62m²Diamond Bay Garden | Studio Type SR$130,000\\ue920 11\\ue91f 11\\ue94a 60m²60m²Diamond Bay Garden | Two Bedroom Type 2D$140,000\\ue920 22\\ue91f 11\\ue94a 75m²75m²',\n",
       "  'category': 'Condo',\n",
       "  'price': 'Diamond Bay GardenFeaturedRental Return: 6.0% a year for 5 yearsFor saleLuxury PropertyCondo$99,000  \\ue92f Tonle Bassac, Chamkarmon, Phnom Penh\\ue948 Total units: 591Total units: 591\\ue947 Unit types: Condo, Shophouse, StudioUnit types: Condo, Shophouse, Studio\\ue920 Bedrooms: 1 to 31 to 3\\ue94a Floor area: 59 to 169m²59 to 169m²\\ue923 High Return Yield\\ue923 Brand DeveloperDiamond Bay GardenDiamond Bay Garden | Studio Type SC$99,000\\ue920 11\\ue91f 11\\ue94a 62m²62m²Diamond Bay Garden | Studio Type SR$130,000\\ue920 11\\ue91f 11\\ue94a 60m²60m²Diamond Bay Garden | Two Bedroom Type 2D$140,000\\ue920 22\\ue91f 11\\ue94a 75m²75m²',\n",
       "  'infos': '[<span class=\"label\">Total units: 591</span>, <span class=\"label\">Unit types: Condo, Shophouse, Studio</span>, <span class=\"label\">Bedrooms: 1 to 3</span>, <span class=\"label\">Floor area: 59 to 169m²</span>, <span class=\"label\">1</span>, <span class=\"label\">1</span>, <span class=\"label\">62m²</span>, <span class=\"label\">1</span>, <span class=\"label\">1</span>, <span class=\"label\">60m²</span>, <span class=\"label\">2</span>, <span class=\"label\">1</span>, <span class=\"label\">75m²</span>]'},\n",
       " {'name': 'Odom Living',\n",
       "  'location': 'Odom LivingFeaturedFor saleLuxury PropertyProject$275,000   Norodom Boulevard, Tonle Bassac, Chamkarmon, Phnom Penh\\ue948 Total units: 138Total units: 138\\ue947 Unit types: CondoUnit types: Condo\\ue920 Bedrooms: 1 to 31 to 3\\ue94a Floor area: 78 to 196m²78 to 196m²\\ue923 High Return Yield\\ue923 Brand DeveloperUrban Living SolutionsOdom Living | One Bedroom Type 1A$275,000\\ue920 11\\ue91f 11\\ue94a 78m²78m²\\ue933 N/EN/EOdom Living | One Bedroom Type 1B$283,800\\ue920 11\\ue91f 11\\ue94a 80m²80m²\\ue933 N/EN/EOdom Living | Two Bedroom Type 2D$410,300\\ue920 22\\ue91f 22\\ue94a 111m²111m²\\ue933 S/WS/W',\n",
       "  'category': 'Project',\n",
       "  'price': 'Odom LivingFeaturedFor saleLuxury PropertyProject$275,000  \\ue92f Norodom Boulevard, Tonle Bassac, Chamkarmon, Phnom Penh\\ue948 Total units: 138Total units: 138\\ue947 Unit types: CondoUnit types: Condo\\ue920 Bedrooms: 1 to 31 to 3\\ue94a Floor area: 78 to 196m²78 to 196m²\\ue923 High Return Yield\\ue923 Brand DeveloperUrban Living SolutionsOdom Living | One Bedroom Type 1A$275,000\\ue920 11\\ue91f 11\\ue94a 78m²78m²\\ue933 N/EN/EOdom Living | One Bedroom Type 1B$283,800\\ue920 11\\ue91f 11\\ue94a 80m²80m²\\ue933 N/EN/EOdom Living | Two Bedroom Type 2D$410,300\\ue920 22\\ue91f 22\\ue94a 111m²111m²\\ue933 S/WS/W',\n",
       "  'infos': '[<span class=\"label\">Total units: 138</span>, <span class=\"label\">Unit types: Condo</span>, <span class=\"label\">Bedrooms: 1 to 3</span>, <span class=\"label\">Floor area: 78 to 196m²</span>, <span class=\"label\">1</span>, <span class=\"label\">1</span>, <span class=\"label\">78m²</span>, <span class=\"label\">N/E</span>, <span class=\"label\">1</span>, <span class=\"label\">1</span>, <span class=\"label\">80m²</span>, <span class=\"label\">N/E</span>, <span class=\"label\">2</span>, <span class=\"label\">2</span>, <span class=\"label\">111m²</span>, <span class=\"label\">S/W</span>]'},\n",
       " {'name': 'DABEST PROPERTIES: Modern Villa for Sale in Siem Reap-Sala Kamreuk',\n",
       "  'location': 'DABEST PROPERTIES: Modern Villa for Sale in Siem Reap-Sala KamreukFeaturedFor saleVilla$590,000  Dabest Properties, Sala Kamraeuk, Siem Reap, Siem Reap\\ue920 Bedrooms: 33\\ue91f Bathrooms: 22\\ue94a Floor area: 200m²200m²\\ue93f Land area: 1150m²1150m² Updated: 1\\xa0month agoDaBest Properties Cambodia Co., Ltd',\n",
       "  'category': 'Villa',\n",
       "  'price': 'DABEST PROPERTIES: Modern Villa for Sale in Siem Reap-Sala KamreukFeaturedFor saleVilla$590,000  \\ue92fDabest Properties, Sala Kamraeuk, Siem Reap, Siem Reap\\ue920 Bedrooms: 33\\ue91f Bathrooms: 22\\ue94a Floor area: 200m²200m²\\ue93f Land area: 1150m²1150m² Updated: 1\\xa0month agoDaBest Properties Cambodia Co., Ltd',\n",
       "  'infos': '[<span class=\"label\">Bedrooms: 3</span>, <span class=\"label\">Bathrooms: 2</span>, <span class=\"label\">Floor area: 200m²</span>, <span class=\"label\">Land area: 1150m²</span>]'},\n",
       " {'name': 'DABEST PROPERTIES: Villa for Sale in Siem Reap - Borey ',\n",
       "  'location': 'DABEST PROPERTIES: Villa for Sale in Siem Reap - Borey FeaturedFor salePrice NegotiableVilla$175,000  Kandaek, Prasat Bakong, Siem Reap\\ue920 Bedrooms: 33\\ue91f Bathrooms: 33\\ue90d Car spaces: 22\\ue93f Land area: 250m²250m² Updated: 1\\xa0month agoDaBest Properties Cambodia Co., Ltd',\n",
       "  'category': 'Villa',\n",
       "  'price': 'DABEST PROPERTIES: Villa for Sale in Siem Reap - Borey FeaturedFor salePrice NegotiableVilla$175,000  \\ue92fKandaek, Prasat Bakong, Siem Reap\\ue920 Bedrooms: 33\\ue91f Bathrooms: 33\\ue90d Car spaces: 22\\ue93f Land area: 250m²250m² Updated: 1\\xa0month agoDaBest Properties Cambodia Co., Ltd',\n",
       "  'infos': '[<span class=\"label\">Bedrooms: 3</span>, <span class=\"label\">Bathrooms: 3</span>, <span class=\"label\">Car spaces: 2</span>, <span class=\"label\">Land area: 250m²</span>]'},\n",
       " {'name': 'Beautiful Luxury Villa for Sale',\n",
       "  'location': 'Beautiful Luxury Villa for SaleFeaturedFor saleLuxury PropertyVilla$1,450,000  Chheu Teal, Kien Svay, Kandal\\ue920 Bedrooms: 55\\ue91f Bathrooms: 77 Updated: 1\\xa0month agoMLS Property Cambodia',\n",
       "  'category': 'Villa',\n",
       "  'price': 'Beautiful Luxury Villa for SaleFeaturedFor saleLuxury PropertyVilla$1,450,000  \\ue92fChheu Teal, Kien Svay, Kandal\\ue920 Bedrooms: 55\\ue91f Bathrooms: 77 Updated: 1\\xa0month agoMLS Property Cambodia',\n",
       "  'infos': '[<span class=\"label\">Bedrooms: 5</span>, <span class=\"label\">Bathrooms: 7</span>]'},\n",
       " {'name': '34th Floor 3 Bedroom For Sale in The Bridge, Phnom Penh',\n",
       "  'location': '34th Floor 3 Bedroom For Sale in The Bridge, Phnom PenhFeaturedFor saleApartment$195,000  Tonle Bassac, Chamkarmon, Phnom Penh\\ue920 Bedrooms: 33\\ue91f Bathrooms: 22\\ue94b Floor level: 3434 Updated: 2\\xa0months ago',\n",
       "  'category': 'Apartment',\n",
       "  'price': '34th Floor 3 Bedroom For Sale in The Bridge, Phnom PenhFeaturedFor saleApartment$195,000  \\ue92fTonle Bassac, Chamkarmon, Phnom Penh\\ue920 Bedrooms: 33\\ue91f Bathrooms: 22\\ue94b Floor level: 3434 Updated: 2\\xa0months ago',\n",
       "  'infos': '[<span class=\"label\">Bedrooms: 3</span>, <span class=\"label\">Bathrooms: 2</span>, <span class=\"label\">Floor level: 34</span>]'},\n",
       " {'name': '2 Bedroom Condo For Sale - Embassy Residences, Phnom Penh',\n",
       "  'location': '2 Bedroom Condo For Sale - Embassy Residences, Phnom PenhFeaturedFor saleCondo$380,000   Tonle Bassac, Chamkarmon, Phnom Penh\\ue920 Bedrooms: 22\\ue91f Bathrooms: 22\\ue94a Floor area: 153m²153m²\\ue93f Land area: 153m²153m²\\ue94b Floor level: 1111 Updated: 1\\xa0month ago',\n",
       "  'category': 'Condo',\n",
       "  'price': '2 Bedroom Condo For Sale - Embassy Residences, Phnom PenhFeaturedFor saleCondo$380,000  \\ue92f Tonle Bassac, Chamkarmon, Phnom Penh\\ue920 Bedrooms: 22\\ue91f Bathrooms: 22\\ue94a Floor area: 153m²153m²\\ue93f Land area: 153m²153m²\\ue94b Floor level: 1111 Updated: 1\\xa0month ago',\n",
       "  'infos': '[<span class=\"label\">Bedrooms: 2</span>, <span class=\"label\">Bathrooms: 2</span>, <span class=\"label\">Floor area: 153m²</span>, <span class=\"label\">Land area: 153m²</span>, <span class=\"label\">Floor level: 11</span>]'},\n",
       " {'name': '4 Bedroom Villa For Sale - Ta Khmau, Kandal',\n",
       "  'location': '4 Bedroom Villa For Sale - Ta Khmau, KandalFeaturedFor saleVilla$650,000   Ta Khmao, Ta Khmau, Kandal\\ue920 Bedrooms: 44\\ue91f Bathrooms: 55\\ue90d Car spaces: 11\\ue94a Floor area: 320m²320m²\\ue93f Land area: 883m²883m²\\ue94b Floor level: 22 Updated: 3\\xa0months ago',\n",
       "  'category': 'Villa',\n",
       "  'price': '4 Bedroom Villa For Sale - Ta Khmau, KandalFeaturedFor saleVilla$650,000  \\ue92f Ta Khmao, Ta Khmau, Kandal\\ue920 Bedrooms: 44\\ue91f Bathrooms: 55\\ue90d Car spaces: 11\\ue94a Floor area: 320m²320m²\\ue93f Land area: 883m²883m²\\ue94b Floor level: 22 Updated: 3\\xa0months ago',\n",
       "  'infos': '[<span class=\"label\">Bedrooms: 4</span>, <span class=\"label\">Bathrooms: 5</span>, <span class=\"label\">Car spaces: 1</span>, <span class=\"label\">Floor area: 320m²</span>, <span class=\"label\">Land area: 883m²</span>, <span class=\"label\">Floor level: 2</span>]'},\n",
       " {'name': '22320 Sqm Land For Sale - Sambour, Siem Reap',\n",
       "  'location': '22320 Sqm Land For Sale - Sambour, Siem ReapFeaturedFor salePrice NegotiableLand$85/m²  Sangkat Sambuor, Siem Reap, Siem Reap\\ue93f Land area: 22320m²22320m² Updated: 3\\xa0months ago',\n",
       "  'category': 'Land',\n",
       "  'price': '22320 Sqm Land For Sale - Sambour, Siem ReapFeaturedFor salePrice NegotiableLand$85/m²  \\ue92fSangkat Sambuor, Siem Reap, Siem Reap\\ue93f Land area: 22320m²22320m² Updated: 3\\xa0months ago',\n",
       "  'infos': '[<span class=\"label\">Land area: 22320m²</span>]'},\n",
       " {'name': \"This prime development site is located in Cambodia's tourist town of Siem Reap, fronting the city's main highway along National Road 6, close to the city centre, Angkor Wat and the International Airport.\",\n",
       "  'location': \"This prime development site is located in Cambodia's tourist town of Siem Reap, fronting the city's main highway along National Road 6, close to the city centre, Angkor Wat and the International Airport.FeaturedFor saleUrgent SaleLand$30,000,000  National Road 6, Svay Dankum, Siem Reap, Siem Reap\\ue93f Land area: 40512m²40512m² Updated: 3\\xa0months agoKnight Frank\",\n",
       "  'category': 'Land',\n",
       "  'price': \"This prime development site is located in Cambodia's tourist town of Siem Reap, fronting the city's main highway along National Road 6, close to the city centre, Angkor Wat and the International Airport.FeaturedFor saleUrgent SaleLand$30,000,000  \\ue92fNational Road 6, Svay Dankum, Siem Reap, Siem Reap\\ue93f Land area: 40512m²40512m² Updated: 3\\xa0months agoKnight Frank\",\n",
       "  'infos': '[<span class=\"label\">Land area: 40512m²</span>]'},\n",
       " {'name': 'New 4-bed apartment for sale in Phsar Chas, Daun Penh, Phnom Penh.',\n",
       "  'location': 'New 4-bed apartment for sale in Phsar Chas, Daun Penh, Phnom Penh.FeaturedFor saleHouse$280,000   Phsar Chas, Daun Penh, Phnom Penh\\ue920 Bedrooms: 44\\ue91f Bathrooms: 33\\ue94a Floor area: 230m²230m² Updated: 3\\xa0months agoLUX Realty Cambodia',\n",
       "  'category': 'House',\n",
       "  'price': 'New 4-bed apartment for sale in Phsar Chas, Daun Penh, Phnom Penh.FeaturedFor saleHouse$280,000  \\ue92f Phsar Chas, Daun Penh, Phnom Penh\\ue920 Bedrooms: 44\\ue91f Bathrooms: 33\\ue94a Floor area: 230m²230m² Updated: 3\\xa0months agoLUX Realty Cambodia',\n",
       "  'infos': '[<span class=\"label\">Bedrooms: 4</span>, <span class=\"label\">Bathrooms: 3</span>, <span class=\"label\">Floor area: 230m²</span>]'},\n",
       " {'name': 'New Borey Project Prince One Tropica | Single Villa for Sale in Sen Sok Area',\n",
       "  'location': 'New Borey Project Prince One Tropica | Single Villa for Sale in Sen Sok AreaFeaturedFor saleLuxury PropertyVilla$690,000  Prince One Tropica\\ue920 Bedrooms: 66\\ue91f Bathrooms: 88\\ue90d Car spaces: 33\\ue94a Floor area: 340m²340m²\\ue93f Land area: 200m²200m²\\ue933 Facing: SS\\ue923 High Return Yield\\ue923 Brand Developer\\ue923 High Appreciation Value Updated: 1\\xa0week agoPrince Real Estate (Cambodia) Co.,Ltd',\n",
       "  'category': 'Villa',\n",
       "  'price': 'New Borey Project Prince One Tropica | Single Villa for Sale in Sen Sok AreaFeaturedFor saleLuxury PropertyVilla$690,000  \\ue92fPrince One Tropica\\ue920 Bedrooms: 66\\ue91f Bathrooms: 88\\ue90d Car spaces: 33\\ue94a Floor area: 340m²340m²\\ue93f Land area: 200m²200m²\\ue933 Facing: SS\\ue923 High Return Yield\\ue923 Brand Developer\\ue923 High Appreciation Value Updated: 1\\xa0week agoPrince Real Estate (Cambodia) Co.,Ltd',\n",
       "  'infos': '[<span class=\"label\">Bedrooms: 6</span>, <span class=\"label\">Bathrooms: 8</span>, <span class=\"label\">Car spaces: 3</span>, <span class=\"label\">Floor area: 340m²</span>, <span class=\"label\">Land area: 200m²</span>, <span class=\"label\">Facing: S</span>]'},\n",
       " {'name': 'ONE 70 Phnom Penh',\n",
       "  'location': 'ONE 70 Phnom PenhFeaturedFor salePrice NegotiableProject$53,000   70, Srah Chak, Daun Penh, Phnom Penh\\ue948 Total units: 793Total units: 793\\ue947 Unit types: Condo, StudioUnit types: Condo, Studio\\ue920 Bedrooms: 1 to 21 to 2\\ue94a Floor area: 37 to 91m²37 to 91m²\\ue923 Brand DeveloperNew Moment Real Estate Development co.,LTDAffordable Price Condo | Studio Type H For Sale in Daun Penh Nearby Toul Kork Area$56,298$1,522/m²\\ue920 11\\ue91f 11\\ue94a 37m²37m²Best Price Studio Type E For Sale in Daun Penh Nearby Toul Kork Area$57,745$1,527/m²\\ue920 11\\ue91f 11\\ue94a 37m²37m²Special Price Studio Type M For Sale in Daun Penh Nearby Toul Kork Area$59,480$1,542/m²\\ue920 11\\ue91f 11\\ue94a 38m²38m²',\n",
       "  'category': 'Project',\n",
       "  'price': 'ONE 70 Phnom PenhFeaturedFor salePrice NegotiableProject$53,000  \\ue92f 70, Srah Chak, Daun Penh, Phnom Penh\\ue948 Total units: 793Total units: 793\\ue947 Unit types: Condo, StudioUnit types: Condo, Studio\\ue920 Bedrooms: 1 to 21 to 2\\ue94a Floor area: 37 to 91m²37 to 91m²\\ue923 Brand DeveloperNew Moment Real Estate Development co.,LTDAffordable Price Condo | Studio Type H For Sale in Daun Penh Nearby Toul Kork Area$56,298$1,522/m²\\ue920 11\\ue91f 11\\ue94a 37m²37m²Best Price Studio Type E For Sale in Daun Penh Nearby Toul Kork Area$57,745$1,527/m²\\ue920 11\\ue91f 11\\ue94a 37m²37m²Special Price Studio Type M For Sale in Daun Penh Nearby Toul Kork Area$59,480$1,542/m²\\ue920 11\\ue91f 11\\ue94a 38m²38m²',\n",
       "  'infos': '[<span class=\"label\">Total units: 793</span>, <span class=\"label\">Unit types: Condo, Studio</span>, <span class=\"label\">Bedrooms: 1 to 2</span>, <span class=\"label\">Floor area: 37 to 91m²</span>, <span class=\"label\">1</span>, <span class=\"label\">1</span>, <span class=\"label\">37m²</span>, <span class=\"label\">1</span>, <span class=\"label\">1</span>, <span class=\"label\">37m²</span>, <span class=\"label\">1</span>, <span class=\"label\">1</span>, <span class=\"label\">38m²</span>]'}]"
      ]
     },
     "execution_count": 158,
     "metadata": {},
     "output_type": "execute_result"
    }
   ],
   "source": [
    "product_info\n"
   ]
  },
  {
   "cell_type": "markdown",
   "metadata": {},
   "source": [
    "# Saving and Loading data"
   ]
  },
  {
   "cell_type": "code",
   "execution_count": 159,
   "metadata": {},
   "outputs": [],
   "source": [
    "def save_data(title,data):\n",
    "    with open(title, \"w\",encoding='utf-8') as outfile:\n",
    "        json.dump(data, outfile, ensure_ascii=False, indent=3)"
   ]
  },
  {
   "cell_type": "code",
   "execution_count": 160,
   "metadata": {},
   "outputs": [],
   "source": [
    "def load_data(title):\n",
    "    with open(title,encoding='utf-8') as f:\n",
    "        return json.load(f)"
   ]
  },
  {
   "cell_type": "code",
   "execution_count": 161,
   "metadata": {},
   "outputs": [],
   "source": [
    "realestate_kh = \"./cambodia_realestate/data/realestate_kh.json\"\n",
    "save_data(realestate_kh,product_info)\n",
    "realestate_kh_list = load_data(realestate_kh)"
   ]
  },
  {
   "cell_type": "code",
   "execution_count": null,
   "metadata": {},
   "outputs": [],
   "source": []
  }
 ],
 "metadata": {
  "kernelspec": {
   "display_name": "Python 3.10.6 64-bit",
   "language": "python",
   "name": "python3"
  },
  "language_info": {
   "codemirror_mode": {
    "name": "ipython",
    "version": 3
   },
   "file_extension": ".py",
   "mimetype": "text/x-python",
   "name": "python",
   "nbconvert_exporter": "python",
   "pygments_lexer": "ipython3",
   "version": "3.10.6"
  },
  "vscode": {
   "interpreter": {
    "hash": "916dbcbb3f70747c44a77c7bcd40155683ae19c65e1c03b4aa3499c5328201f1"
   }
  }
 },
 "nbformat": 4,
 "nbformat_minor": 2
}
