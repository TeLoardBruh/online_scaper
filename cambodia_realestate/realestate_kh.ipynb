{
 "cells": [
  {
   "cell_type": "code",
   "execution_count": 1,
   "metadata": {},
   "outputs": [],
   "source": [
    "import matplotlib.pyplot as plt\n",
    "import numpy as np\n",
    "import pandas as pd\n",
    "import re\n",
    "from bs4 import BeautifulSoup as bs\n",
    "import requests\n",
    "from selenium import webdriver\n",
    "from webdriver_manager.chrome import ChromeDriverManager\n",
    "import time\n",
    "from pprint import pprint\n",
    "import json "
   ]
  },
  {
   "cell_type": "markdown",
   "metadata": {},
   "source": [
    "## Start scraping process"
   ]
  },
  {
   "cell_type": "markdown",
   "metadata": {},
   "source": [
    "### Getting all navigation of the website for access the elements"
   ]
  },
  {
   "cell_type": "code",
   "execution_count": 15,
   "metadata": {},
   "outputs": [
    {
     "name": "stdout",
     "output_type": "stream",
     "text": [
      "<div class=\"info listing\" href=\"/buy/kandaek/properties-dabest-153486/\"><div class=\"copy-wrapper\"><div class=\"heading\">Villa<div class=\"price\"><span class=\"value\" style=\"text-decoration:\">$130,000</span><span><div> </div><div class=\"percent listing\"> </div></span></div></div><div class=\"address-features-block\"><div class=\"address\"><span class=\"location-pin\"></span>Kandaek, Prasat Bakong, Siem Reap</div><div class=\"featured-box css-1ubmfrc eu11br40\"><div class=\"private\"><div class=\"feature\"><span class=\"icon\"></span> <span class=\"label\">Bedrooms: 3</span><span class=\"short-label\">3</span></div><div class=\"feature\"><span class=\"icon\"></span> <span class=\"label\">Bathrooms: 3</span><span class=\"short-label\">3</span></div><div class=\"feature\"><span class=\"icon\"></span> <span class=\"label\">Land area: 240m²</span><span class=\"short-label\">240m²</span></div></div></div></div><div class=\"listed\"><svg class=\"css-ri58vd\" viewbox=\"0 0 20 20\"><path d=\"M10,0.4c-5.303,0-9.601,4.298-9.601,9.6c0,5.303,4.298,9.601,9.601,9.601c5.301,0,9.6-4.298,9.6-9.601C19.6,4.698,15.301,0.4,10,0.4z M9.999,17.6c-4.197,0-7.6-3.402-7.6-7.6c0-4.197,3.402-7.6,7.6-7.6c4.197,0,7.601,3.402,7.601,7.6C17.6,14.197,14.196,17.6,9.999,17.6z M11,9.33V4H9v6.245l-3.546,2.048l1,1.732l4.115-2.377C10.807,11.511,11,11.175,11,10.9v-0.168l4.24-4.166c-0.198-0.271-0.411-0.529-0.647-0.766L11,9.33z\"></path></svg> <!-- -->Updated<!-- -->: <!-- -->1 week ago<span>DaBest Properties Cambodia Co., Ltd</span></div></div><div class=\"office-image\"></div></div>\n"
     ]
    }
   ],
   "source": [
    "url = 'https://www.realestate.com.kh/buy/?page=1'\n",
    "headers = {'User-Agent': 'Mozilla/5.0 (Linux; Android 6.0; Nexus 5 Build/MRA58N) AppleWebKit/537.36 (KHTML, like Gecko) Chrome/105.0.0.0 Mobile Safari/537.36'}\n",
    "\n",
    "category_url = []\n",
    "\n",
    "response = requests.get(url, headers=headers)\n",
    "data = bs(response.content, 'html.parser')\n",
    "\n",
    "# query all headers\n",
    "get_all_header = data.find_all(class_='info listing')\n",
    "get_all_header[0]\n",
    "\n",
    "print(get_all_header[0])\n",
    "# for i in get_all_header[0]:\n",
    "#     print(i.find(class_='value').get_text())\n",
    "\n"
   ]
  },
  {
   "cell_type": "code",
   "execution_count": 33,
   "metadata": {},
   "outputs": [
    {
     "name": "stdout",
     "output_type": "stream",
     "text": [
      "$130,000\n",
      "Kandaek, Prasat Bakong, Siem Reap\n",
      "Villa\n",
      "[<span class=\"label\">Bedrooms: 3</span>, <span class=\"label\">Bathrooms: 3</span>, <span class=\"label\">Land area: 240m²</span>]\n"
     ]
    }
   ],
   "source": [
    "print(get_all_header[0].find(class_='value').get_text())\n",
    "print(get_all_header[0].find(class_='address').get_text().replace('\\ue92f',''))\n",
    "print(get_all_header[0].find(class_='heading').get_text().split('$')[0])\n",
    "print(get_all_header[0].find_all(class_='label'))"
   ]
  },
  {
   "cell_type": "code",
   "execution_count": 41,
   "metadata": {},
   "outputs": [],
   "source": [
    "product_info = []"
   ]
  },
  {
   "cell_type": "code",
   "execution_count": 42,
   "metadata": {},
   "outputs": [],
   "source": [
    "def get_product_info(url):\n",
    "    browser = webdriver.Chrome(ChromeDriverManager().install())\n",
    "    browser.get(url)\n",
    "    headers = {'User-Agent': 'Mozilla/5.0 (Linux; Android 6.0; Nexus 5 Build/MRA58N) AppleWebKit/537.36 (KHTML, like Gecko) Chrome/105.0.0.0 Mobile Safari/537.36'}\n",
    "    response = requests.get(url, headers=headers)\n",
    "    data = bs(response.content, 'html.parser')\n",
    "\n",
    "    # query all headers\n",
    "    get_all_header_no_nest = data.find_all(class_='info listing')\n",
    "    get_all_header_have_nest = data.find_all(class_='info project')\n",
    "    time.sleep(5)\n",
    "    for item in get_all_header_no_nest:\n",
    "        product_info.append({'location' : item.find(class_='address').get_text().replace('\\ue92f',''), 'type' : item.find(class_='heading').get_text().split('$')[0], 'price' : item.find(class_='value').get_text(), 'infos' : item.find_all(class_='label')})\n",
    "    \n",
    "    for item in get_all_header_have_nest:\n",
    "        product_info.append({'location' : item.find(class_='address').get_text().replace('\\ue92f',''), 'type' : item.find(class_='heading').get_text().split('$')[0], 'price' : item.find(class_='value').get_text(), 'infos' : item.find_all(class_='label')})"
   ]
  },
  {
   "cell_type": "code",
   "execution_count": 43,
   "metadata": {},
   "outputs": [
    {
     "name": "stderr",
     "output_type": "stream",
     "text": [
      "C:\\Users\\Rax\\AppData\\Local\\Temp\\ipykernel_2460\\3113621944.py:2: DeprecationWarning: executable_path has been deprecated, please pass in a Service object\n",
      "  browser = webdriver.Chrome(ChromeDriverManager().install())\n"
     ]
    }
   ],
   "source": [
    "get_product_info(url)"
   ]
  },
  {
   "cell_type": "code",
   "execution_count": 44,
   "metadata": {},
   "outputs": [
    {
     "data": {
      "text/plain": [
       "[{'location': 'Kandaek, Prasat Bakong, Siem Reap',\n",
       "  'type': 'Villa',\n",
       "  'price': '$130,000',\n",
       "  'infos': [<span class=\"label\">Bedrooms: 3</span>,\n",
       "   <span class=\"label\">Bathrooms: 3</span>,\n",
       "   <span class=\"label\">Land area: 240m²</span>]},\n",
       " {'location': 'Chreav, Siem Reap, Siem Reap',\n",
       "  'type': 'Land',\n",
       "  'price': '$59,150',\n",
       "  'infos': [<span class=\"label\">Land area: 455m²</span>]},\n",
       " {'location': 'Veal Vong, 7 Makara, Phnom Penh',\n",
       "  'type': 'Condo',\n",
       "  'price': '$220,000',\n",
       "  'infos': [<span class=\"label\">Bedrooms: 2</span>,\n",
       "   <span class=\"label\">Bathrooms: 2</span>,\n",
       "   <span class=\"label\">Car spaces: 1</span>,\n",
       "   <span class=\"label\">Floor area: 122m²</span>,\n",
       "   <span class=\"label\">Facing: E/S</span>]},\n",
       " {'location': 'DABEST PROPERTIES, Sala Kamraeuk, Siem Reap, Siem Reap',\n",
       "  'type': 'Villa',\n",
       "  'price': '$550,000',\n",
       "  'infos': [<span class=\"label\">Bedrooms: 6</span>,\n",
       "   <span class=\"label\">Bathrooms: 6</span>,\n",
       "   <span class=\"label\">Car spaces: 3</span>,\n",
       "   <span class=\"label\">Floor area: 317m²</span>,\n",
       "   <span class=\"label\">Land area: 800m²</span>]},\n",
       " {'location': 'Tonle Bassac, Chamkarmon, Phnom Penh',\n",
       "  'type': 'Condo',\n",
       "  'price': '$3,500,000',\n",
       "  'infos': [<span class=\"label\">Bedrooms: 4</span>,\n",
       "   <span class=\"label\">Bathrooms: 5</span>,\n",
       "   <span class=\"label\">Car spaces: 1</span>,\n",
       "   <span class=\"label\">Floor area: 1054m²</span>,\n",
       "   <span class=\"label\">Floor level: 32</span>]},\n",
       " {'location': 'Dabest Properties, Sala Kamraeuk, Siem Reap, Siem Reap',\n",
       "  'type': 'Villa',\n",
       "  'price': '$590,000',\n",
       "  'infos': [<span class=\"label\">Bedrooms: 3</span>,\n",
       "   <span class=\"label\">Bathrooms: 2</span>,\n",
       "   <span class=\"label\">Floor area: 200m²</span>,\n",
       "   <span class=\"label\">Land area: 1150m²</span>]},\n",
       " {'location': 'Kandaek, Prasat Bakong, Siem Reap',\n",
       "  'type': 'Villa',\n",
       "  'price': '$175,000',\n",
       "  'infos': [<span class=\"label\">Bedrooms: 3</span>,\n",
       "   <span class=\"label\">Bathrooms: 3</span>,\n",
       "   <span class=\"label\">Car spaces: 2</span>,\n",
       "   <span class=\"label\">Land area: 250m²</span>]},\n",
       " {'location': 'Chheu Teal, Kien Svay, Kandal',\n",
       "  'type': 'Villa',\n",
       "  'price': '$1,450,000',\n",
       "  'infos': [<span class=\"label\">Bedrooms: 5</span>,\n",
       "   <span class=\"label\">Bathrooms: 7</span>]},\n",
       " {'location': 'Tonle Bassac, Chamkarmon, Phnom Penh',\n",
       "  'type': 'Apartment',\n",
       "  'price': '$195,000',\n",
       "  'infos': [<span class=\"label\">Bedrooms: 3</span>,\n",
       "   <span class=\"label\">Bathrooms: 2</span>,\n",
       "   <span class=\"label\">Floor level: 34</span>]},\n",
       " {'location': ' Tonle Bassac, Chamkarmon, Phnom Penh',\n",
       "  'type': 'Condo',\n",
       "  'price': '$380,000',\n",
       "  'infos': [<span class=\"label\">Bedrooms: 2</span>,\n",
       "   <span class=\"label\">Bathrooms: 2</span>,\n",
       "   <span class=\"label\">Floor area: 153m²</span>,\n",
       "   <span class=\"label\">Land area: 153m²</span>,\n",
       "   <span class=\"label\">Floor level: 11</span>]},\n",
       " {'location': ' Ta Khmao, Ta Khmau, Kandal',\n",
       "  'type': 'Villa',\n",
       "  'price': '$650,000',\n",
       "  'infos': [<span class=\"label\">Bedrooms: 4</span>,\n",
       "   <span class=\"label\">Bathrooms: 5</span>,\n",
       "   <span class=\"label\">Car spaces: 1</span>,\n",
       "   <span class=\"label\">Floor area: 320m²</span>,\n",
       "   <span class=\"label\">Land area: 883m²</span>,\n",
       "   <span class=\"label\">Floor level: 2</span>]},\n",
       " {'location': 'Sangkat Sambuor, Siem Reap, Siem Reap',\n",
       "  'type': 'Land',\n",
       "  'price': '$85/m²',\n",
       "  'infos': [<span class=\"label\">Land area: 22320m²</span>]},\n",
       " {'location': ' Phsar Chas, Daun Penh, Phnom Penh',\n",
       "  'type': 'House',\n",
       "  'price': '$280,000',\n",
       "  'infos': [<span class=\"label\">Bedrooms: 4</span>,\n",
       "   <span class=\"label\">Bathrooms: 3</span>,\n",
       "   <span class=\"label\">Floor area: 230m²</span>]},\n",
       " {'location': 'Prince One Tropica',\n",
       "  'type': 'Villa',\n",
       "  'price': '$690,000',\n",
       "  'infos': [<span class=\"label\">Bedrooms: 6</span>,\n",
       "   <span class=\"label\">Bathrooms: 8</span>,\n",
       "   <span class=\"label\">Car spaces: 3</span>,\n",
       "   <span class=\"label\">Floor area: 340m²</span>,\n",
       "   <span class=\"label\">Land area: 200m²</span>,\n",
       "   <span class=\"label\">Facing: S</span>]},\n",
       " {'location': ' BKK 1, Chamkarmon, Phnom Penh',\n",
       "  'type': 'Apartment',\n",
       "  'price': '$139,895',\n",
       "  'infos': [<span class=\"label\">Total units: 1080</span>,\n",
       "   <span class=\"label\">Unit types: Condo, Studio, Condo, Retail</span>,\n",
       "   <span class=\"label\">Bedrooms: 1 to 3</span>,\n",
       "   <span class=\"label\">Floor area: 39 to 167m²</span>]},\n",
       " {'location': \" Maida st 2004, Ou Baek K'am, Sen Sok, Phnom Penh\",\n",
       "  'type': 'Project',\n",
       "  'price': '$73,489',\n",
       "  'infos': [<span class=\"label\">Total units: 1999</span>,\n",
       "   <span class=\"label\">Unit types: Apartment, Condo, Link House, Villa, Condo, Shophouse</span>,\n",
       "   <span class=\"label\">Bedrooms: 1 to 3</span>,\n",
       "   <span class=\"label\">Floor area: 30 to 127m²</span>]},\n",
       " {'location': ' Tonle Bassac, Chamkarmon, Phnom Penh',\n",
       "  'type': 'Condo',\n",
       "  'price': '$99,000',\n",
       "  'infos': [<span class=\"label\">Total units: 591</span>,\n",
       "   <span class=\"label\">Unit types: Condo, Shophouse, Studio</span>,\n",
       "   <span class=\"label\">Bedrooms: 1 to 3</span>,\n",
       "   <span class=\"label\">Floor area: 59 to 169m²</span>]},\n",
       " {'location': ' Norodom Boulevard, Tonle Bassac, Chamkarmon, Phnom Penh',\n",
       "  'type': 'Project',\n",
       "  'price': '$275,000',\n",
       "  'infos': [<span class=\"label\">Total units: 138</span>,\n",
       "   <span class=\"label\">Unit types: Condo</span>,\n",
       "   <span class=\"label\">Bedrooms: 1 to 3</span>,\n",
       "   <span class=\"label\">Floor area: 78 to 196m²</span>]},\n",
       " {'location': ' 70, Srah Chak, Daun Penh, Phnom Penh',\n",
       "  'type': 'Project',\n",
       "  'price': '$53,000',\n",
       "  'infos': [<span class=\"label\">Total units: 793</span>,\n",
       "   <span class=\"label\">Unit types: Condo, Studio</span>,\n",
       "   <span class=\"label\">Bedrooms: 1 to 2</span>,\n",
       "   <span class=\"label\">Floor area: 37 to 91m²</span>]}]"
      ]
     },
     "execution_count": 44,
     "metadata": {},
     "output_type": "execute_result"
    }
   ],
   "source": [
    "(product_info)"
   ]
  },
  {
   "cell_type": "code",
   "execution_count": null,
   "metadata": {},
   "outputs": [],
   "source": []
  }
 ],
 "metadata": {
  "kernelspec": {
   "display_name": "Python 3 (ipykernel)",
   "language": "python",
   "name": "python3"
  },
  "language_info": {
   "codemirror_mode": {
    "name": "ipython",
    "version": 3
   },
   "file_extension": ".py",
   "mimetype": "text/x-python",
   "name": "python",
   "nbconvert_exporter": "python",
   "pygments_lexer": "ipython3",
   "version": "3.11.0"
  },
  "vscode": {
   "interpreter": {
    "hash": "a6c7510b86816d765e5b8e14a0462cc11a1188d9198f4261005ade42a53929fc"
   }
  }
 },
 "nbformat": 4,
 "nbformat_minor": 2
}
